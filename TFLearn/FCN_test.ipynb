{
 "cells": [
  {
   "cell_type": "code",
   "execution_count": 1,
   "metadata": {},
   "outputs": [
    {
     "name": "stderr",
     "output_type": "stream",
     "text": [
      "/home/samio/local/miniconda2/lib/python2.7/site-packages/h5py/__init__.py:36: FutureWarning: Conversion of the second argument of issubdtype from `float` to `np.floating` is deprecated. In future, it will be treated as `np.float64 == np.dtype(float).type`.\n",
      "  from ._conv import register_converters as _register_converters\n"
     ]
    }
   ],
   "source": [
    "import qctoolkit as qtk\n",
    "import numpy as np\n",
    "from glob import glob\n",
    "from matplotlib import pyplot as plt\n",
    "import os\n",
    "\n",
    "%matplotlib inline"
   ]
  },
  {
   "cell_type": "markdown",
   "metadata": {},
   "source": [
    "# load data"
   ]
  },
  {
   "cell_type": "code",
   "execution_count": 2,
   "metadata": {},
   "outputs": [],
   "source": [
    "data_dir = 'data'\n",
    "mols = []\n",
    "for h5 in sorted(glob(os.path.join(data_dir, 'H2*.h5'))):\n",
    "    mols.append(qtk.QMInp(h5, electron_repulsion=False))"
   ]
  },
  {
   "cell_type": "markdown",
   "metadata": {},
   "source": [
    "## basic matrix operations: segmentation and concatenation"
   ]
  },
  {
   "cell_type": "code",
   "execution_count": 3,
   "metadata": {
    "collapsed": true
   },
   "outputs": [],
   "source": [
    "def segment(matrix):\n",
    "    \"\"\"segment NxN matrix into N(N-1)/2 2x2 submatrices\"\"\"\n",
    "    out = []\n",
    "    for i in range(len(matrix) - 1):\n",
    "        for j in range(i+1, len(matrix)):\n",
    "            subm = [\n",
    "                [matrix[i,i], matrix[i,j]],\n",
    "                [matrix[j,i], matrix[j,j]]\n",
    "            ]\n",
    "            out.append(subm)\n",
    "    return np.stack(out)\n",
    "\n",
    "def ud_split(matrix, diag='upper'):\n",
    "    \"\"\"split matrix into symmetrized upper, lower triangular part, and diagonal\n",
    "    \n",
    "    kinetic, overlap, diag = ud_split(concat(kin))\n",
    "    N = len(diag)\n",
    "    \n",
    "    overlap[(range(N), range(N))] = 1\n",
    "    kinetic[(range(N), range(N))] = diag\n",
    "    \"\"\"\n",
    "    N = len(matrix)\n",
    "    U = np.zeros([N, N])\n",
    "    D = np.zeros([N, N])\n",
    "    uind = np.triu_indices(N, 1)\n",
    "    U[uind] = matrix[uind]\n",
    "    D[uind] = (matrix.T)[uind]\n",
    "    U = U + U.T\n",
    "    D = D + D.T\n",
    "    return U, D, np.diag(matrix)\n",
    "\n",
    "def concat(segment, merged=True):\n",
    "    \"\"\"reconstruct NxN matrix from N(N-1)/2 submatrices\"\"\"\n",
    "    N = int(0.5 * (1 + np.sqrt(1 + 8 * len(segment))))\n",
    "    out = np.zeros([N, N])\n",
    "    itr = 0\n",
    "    for i in range(N - 1):\n",
    "        for j in range(i+1, N): \n",
    "            subm = segment[itr]            \n",
    "            \n",
    "            out[i, i] = subm[0, 0]\n",
    "            out[i, j] = subm[0, 1]\n",
    "            out[j, i] = subm[1, 0]\n",
    "            out[j, j] = subm[1, 1]\n",
    "            \n",
    "            itr += 1\n",
    "    if not merged:\n",
    "        return out\n",
    "    else:\n",
    "        U, D, d = ud_split(out)\n",
    "        U[(range(N), range(N))] = d\n",
    "        D[(range(N), range(N))] = 1.\n",
    "        return U, D\n",
    "\n",
    "def merge(kin, olp):\n",
    "    \"\"\"merger two 2x2 symmetric matrices, lower(kin) = lower(olp)\"\"\"\n",
    "    kin_olp = kin.copy()\n",
    "    kin_olp[:,1,0] = olp[:,1, 0]\n",
    "    return kin_olp"
   ]
  },
  {
   "cell_type": "markdown",
   "metadata": {},
   "source": [
    "## test case"
   ]
  },
  {
   "cell_type": "code",
   "execution_count": 4,
   "metadata": {},
   "outputs": [],
   "source": [
    "olp = segment(mols[0].olp)\n",
    "kino = merge(segment(mols[0].kin), olp)\n",
    "vo_ext = merge(segment(mols[0].v_ext), olp)"
   ]
  },
  {
   "cell_type": "code",
   "execution_count": 5,
   "metadata": {},
   "outputs": [],
   "source": [
    "kin, olp_new = concat(kino)"
   ]
  },
  {
   "cell_type": "code",
   "execution_count": 6,
   "metadata": {},
   "outputs": [
    {
     "data": {
      "text/plain": [
       "array([[0., 0., 0., 0.],\n",
       "       [0., 0., 0., 0.],\n",
       "       [0., 0., 0., 0.],\n",
       "       [0., 0., 0., 0.]])"
      ]
     },
     "execution_count": 6,
     "metadata": {},
     "output_type": "execute_result"
    }
   ],
   "source": [
    "kin - mols[0].kin"
   ]
  },
  {
   "cell_type": "markdown",
   "metadata": {},
   "source": [
    "## Construct input tensor"
   ]
  },
  {
   "cell_type": "code",
   "execution_count": 7,
   "metadata": {},
   "outputs": [],
   "source": [
    "tensor_data = []\n",
    "for m in mols:\n",
    "    olp = segment(mols[0].olp)\n",
    "    ko = merge(segment(mols[0].kin), olp)\n",
    "    vo = merge(segment(mols[0].v_ext), olp)\n",
    "    # tensorflow convolutional layer expects 4D array\n",
    "    tensor_data.append(np.concatenate([ko, vo]))\n",
    "tensor_data = np.swapaxes(np.asarray(tensor_data), 1, -1)"
   ]
  },
  {
   "cell_type": "code",
   "execution_count": 8,
   "metadata": {
    "collapsed": true
   },
   "outputs": [],
   "source": [
    "energies = [m.Et for m in mols]"
   ]
  },
  {
   "cell_type": "code",
   "execution_count": 9,
   "metadata": {},
   "outputs": [
    {
     "data": {
      "text/plain": [
       "(850, 2, 2, 12)"
      ]
     },
     "execution_count": 9,
     "metadata": {},
     "output_type": "execute_result"
    }
   ],
   "source": [
    "# number of molecule, number of interactions, number of basis function combinations, 2, 2\n",
    "tensor_data.shape"
   ]
  },
  {
   "cell_type": "code",
   "execution_count": 10,
   "metadata": {
    "collapsed": true
   },
   "outputs": [],
   "source": [
    "from sklearn.model_selection import train_test_split"
   ]
  },
  {
   "cell_type": "code",
   "execution_count": 11,
   "metadata": {},
   "outputs": [],
   "source": [
    "X_train, X_test, y_train, y_test = train_test_split(tensor_data, energies, test_size=0.33, random_state=42)\n",
    "y_train = np.reshape(y_train, (len(y_train), -1))\n",
    "y_test = np.reshape(y_test, (len(y_test), -1))"
   ]
  },
  {
   "cell_type": "code",
   "execution_count": 12,
   "metadata": {},
   "outputs": [
    {
     "data": {
      "text/plain": [
       "((569, 2, 2, 12), (281, 2, 2, 12), (569, 1), (281, 1))"
      ]
     },
     "execution_count": 12,
     "metadata": {},
     "output_type": "execute_result"
    }
   ],
   "source": [
    "X_train.shape, X_test.shape, y_train.shape, y_test.shape"
   ]
  },
  {
   "cell_type": "markdown",
   "metadata": {},
   "source": [
    "# Fully convolutional test"
   ]
  },
  {
   "cell_type": "code",
   "execution_count": 23,
   "metadata": {
    "collapsed": true
   },
   "outputs": [],
   "source": [
    "import tflearn\n",
    "import tensorflow as tf\n",
    "from tflearn.layers.conv import conv_1d, conv_2d, conv_2d_transpose\n",
    "from tflearn.layers.core import input_data, dropout, fully_connected, flatten\n",
    "from tflearn.layers.estimator import regression"
   ]
  },
  {
   "cell_type": "code",
   "execution_count": 39,
   "metadata": {},
   "outputs": [],
   "source": [
    "# reset everything for fresh start\n",
    "tf.reset_default_graph()\n",
    "\n",
    "# FCN type approach\n",
    "net = input_data(shape=[None, 2, 2, 12], name='input')\n",
    "net = conv_2d(net, 32, 2, activation='relu')\n",
    "net = conv_2d_transpose(net, 12, 2, output_shape=[2, 2, 12], activation='relu')\n",
    "net = flatten(net)\n",
    "# net = fully_connected(net, 50, activation='relu')\n",
    "# net = dropout(net, 0.8)\n",
    "net = fully_connected(net, 50, activation='relu')\n",
    "net = dropout(net, 0.8)\n",
    "net = fully_connected(net, 1, activation='linear')\n",
    "\n",
    "#\n",
    "\n",
    "convnet = regression(net, optimizer='adam', learning_rate=0.0005, loss='mean_square' , name='targets')"
   ]
  },
  {
   "cell_type": "code",
   "execution_count": 40,
   "metadata": {},
   "outputs": [],
   "source": [
    "model = tflearn.DNN(convnet, tensorboard_dir=\"logs\")"
   ]
  },
  {
   "cell_type": "code",
   "execution_count": 41,
   "metadata": {
    "scrolled": false
   },
   "outputs": [
    {
     "name": "stdout",
     "output_type": "stream",
     "text": [
      "Training Step: 899  | total loss: \u001b[1m\u001b[32m0.02017\u001b[0m\u001b[0m | time: 0.053s\n",
      "| Adam | epoch: 100 | loss: 0.02017 -- iter: 512/569\n",
      "Training Step: 900  | total loss: \u001b[1m\u001b[32m0.01971\u001b[0m\u001b[0m | time: 1.064s\n",
      "| Adam | epoch: 100 | loss: 0.01971 | val_loss: 0.00804 -- iter: 569/569\n",
      "--\n"
     ]
    }
   ],
   "source": [
    "model.fit(\n",
    "    {'input': X_train}, \n",
    "    {'targets': y_train}, \n",
    "    n_epoch=100, \n",
    "    validation_set=({'input': X_test}, {'targets': y_test}), \n",
    "    #show_metric=True, \n",
    "    run_id='CCN_test'\n",
    ")"
   ]
  },
  {
   "cell_type": "code",
   "execution_count": 17,
   "metadata": {},
   "outputs": [
    {
     "name": "stdout",
     "output_type": "stream",
     "text": [
      "INFO:tensorflow:/home/samio/Works/postPhD/Basel/projects/02_QM_AI/05_FCN/models/test_model is not in all_model_checkpoint_paths. Manually adding it.\n"
     ]
    }
   ],
   "source": [
    "model.save('models/test_model')"
   ]
  },
  {
   "cell_type": "code",
   "execution_count": 18,
   "metadata": {},
   "outputs": [
    {
     "name": "stdout",
     "output_type": "stream",
     "text": [
      "INFO:tensorflow:Restoring parameters from /home/samio/Works/postPhD/Basel/projects/02_QM_AI/05_FCN/models/test_model\n"
     ]
    }
   ],
   "source": [
    "model.load('models/test_model')"
   ]
  },
  {
   "cell_type": "code",
   "execution_count": 42,
   "metadata": {},
   "outputs": [],
   "source": [
    "#y_prd = model2.predict(np.random.random(X_test.shape))\n",
    "y_prd = model.predict(X_test)"
   ]
  },
  {
   "cell_type": "code",
   "execution_count": 43,
   "metadata": {},
   "outputs": [
    {
     "data": {
      "text/plain": [
       "<matplotlib.collections.PathCollection at 0x154c09febc90>"
      ]
     },
     "execution_count": 43,
     "metadata": {},
     "output_type": "execute_result"
    },
    {
     "data": {
      "image/png": "[encoded data removed]",
      "text/plain": [
       "<matplotlib.figure.Figure at 0x154c0aa757d0>"
      ]
     },
     "metadata": {},
     "output_type": "display_data"
    }
   ],
   "source": [
    "plt.scatter(y_prd, y_test)"
   ]
  },
  {
   "cell_type": "code",
   "execution_count": 44,
   "metadata": {},
   "outputs": [
    {
     "data": {
      "text/plain": [
       "0.00803713926733027"
      ]
     },
     "execution_count": 44,
     "metadata": {},
     "output_type": "execute_result"
    }
   ],
   "source": [
    "((y_prd - y_test) ** 2).mean()"
   ]
  },
  {
   "cell_type": "code",
   "execution_count": 50,
   "metadata": {},
   "outputs": [],
   "source": [
    "model.trainer?"
   ]
  }
 ],
 "metadata": {
  "kernelspec": {
   "display_name": "Python 2",
   "language": "python",
   "name": "python2"
  },
  "language_info": {
   "codemirror_mode": {
    "name": "ipython",
    "version": 2
   },
   "file_extension": ".py",
   "mimetype": "text/x-python",
   "name": "python",
   "nbconvert_exporter": "python",
   "pygments_lexer": "ipython2",
   "version": "2.7.14"
  }
 },
 "nbformat": 4,
 "nbformat_minor": 2
}
