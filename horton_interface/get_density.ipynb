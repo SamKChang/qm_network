{
 "cells": [
  {
   "cell_type": "code",
   "execution_count": 29,
   "metadata": {},
   "outputs": [],
   "source": [
    "import horton as ht\n",
    "import numpy as np\n",
    "from glob import glob\n",
    "from matplotlib import pyplot as plt\n",
    "%matplotlib inline"
   ]
  },
  {
   "cell_type": "markdown",
   "metadata": {},
   "source": [
    "# Pure Horton interface"
   ]
  },
  {
   "cell_type": "code",
   "execution_count": 2,
   "metadata": {
    "collapsed": true
   },
   "outputs": [],
   "source": [
    "fchks = glob('fchk/*.fchk')\n",
    "\n",
    "bohr2angstrom = 0.529177249\n",
    "# load fchk files as horton molecule object\n",
    "ht_mols = []\n",
    "for f in fchks:\n",
    "    ht_mols.append(ht.IOData.from_file(f))    "
   ]
  },
  {
   "cell_type": "code",
   "execution_count": 3,
   "metadata": {
    "collapsed": true
   },
   "outputs": [],
   "source": [
    "def cube_grid(R, margin=3, resolution=0.1):\n",
    "    if margin is None:\n",
    "        margin = 3\n",
    "    if resolution is None:\n",
    "        resolution = 0.1\n",
    "\n",
    "    x_min, y_min, z_min = R.min(axis=0) - margin\n",
    "    x_max, y_max, z_max = R.max(axis=0) + margin\n",
    "\n",
    "    X, Y, Z = np.meshgrid(\n",
    "        np.arange(x_min, x_max, resolution),\n",
    "        np.arange(y_min, y_max, resolution),\n",
    "        np.arange(z_min, z_max, resolution),\n",
    "        indexing='ij'\n",
    "    )\n",
    "\n",
    "    # horton expect a 1D list of coordinates\n",
    "    cube_grid = np.array(zip(X.ravel(), Y.ravel(), Z.ravel()))\n",
    "\n",
    "    return cube_grid, X.shape"
   ]
  },
  {
   "cell_type": "code",
   "execution_count": 4,
   "metadata": {},
   "outputs": [],
   "source": [
    "# get coordinate of ALL atoms to construct uniform grid\n",
    "R_list = []\n",
    "for mol in ht_mols:\n",
    "    # horton coordinates are in bohr while g\n",
    "    R_list.append(mol.coordinates * bohr2angstrom)\n",
    "R_list = np.vstack(R_list)\n",
    "\n",
    "grid, shape = cube_grid(R_list, margin=2, resolution=0.2)"
   ]
  },
  {
   "cell_type": "code",
   "execution_count": 5,
   "metadata": {},
   "outputs": [
    {
     "name": "stdout",
     "output_type": "stream",
     "text": [
      "processing fchk/qm7_0648.fchk\n",
      "processing fchk/qm7_0857.fchk\n"
     ]
    }
   ],
   "source": [
    "rhos = []\n",
    "for i, mol in enumerate(ht_mols[:2]):\n",
    "    # get density matrix from horton object, extracted from fchk file\n",
    "    density_matrix = mol.dm_full_scf\n",
    "    print \"processing %s\" % fchks[i]\n",
    "    # compute density value on each grid points for a given density matrix and basis function\n",
    "    rhos.append(\n",
    "        mol.obasis.compute_grid_density_dm(\n",
    "            density_matrix, grid\n",
    "        ).reshape(shape) # reshape backe to 3D array\n",
    "    )"
   ]
  },
  {
   "cell_type": "code",
   "execution_count": 6,
   "metadata": {},
   "outputs": [
    {
     "data": {
      "text/plain": [
       "[(64, 43, 36), (64, 43, 36)]"
      ]
     },
     "execution_count": 6,
     "metadata": {},
     "output_type": "execute_result"
    }
   ],
   "source": [
    "[rho.shape for rho in rhos]"
   ]
  },
  {
   "cell_type": "code",
   "execution_count": 30,
   "metadata": {},
   "outputs": [
    {
     "data": {
      "text/plain": [
       "<matplotlib.image.AxesImage at 0x15241d8f3d50>"
      ]
     },
     "execution_count": 30,
     "metadata": {},
     "output_type": "execute_result"
    },
    {
     "data": {
      "image/png": "[encoded data removed]",
      "text/plain": [
       "<matplotlib.figure.Figure at 0x15241dc54a90>"
      ]
     },
     "metadata": {},
     "output_type": "display_data"
    }
   ],
   "source": [
    "plt.imshow(rhos[0][:,:,18])"
   ]
  },
  {
   "cell_type": "code",
   "execution_count": 7,
   "metadata": {},
   "outputs": [],
   "source": [
    "import qctoolkit as qtk"
   ]
  },
  {
   "cell_type": "code",
   "execution_count": 8,
   "metadata": {},
   "outputs": [
    {
     "name": "stdout",
     "output_type": "stream",
     "text": [
      "\u001b[93mbackup molecule failed with err: no default __reduce__ due to non-trivial __cinit__. try horton\u001b[0m\n",
      "\u001b[93mbackup molecule failed with err: no default __reduce__ due to non-trivial __cinit__. try horton\u001b[0m\n",
      "\u001b[93mbackup molecule failed with err: no default __reduce__ due to non-trivial __cinit__. try horton\u001b[0m\n",
      "\u001b[93mbackup molecule failed with err: no default __reduce__ due to non-trivial __cinit__. try horton\u001b[0m\n",
      "\u001b[93mbackup molecule failed with err: no default __reduce__ due to non-trivial __cinit__. try horton\u001b[0m\n",
      "\u001b[93mbackup molecule failed with err: no default __reduce__ due to non-trivial __cinit__. try horton\u001b[0m\n",
      "\u001b[93mbackup molecule failed with err: no default __reduce__ due to non-trivial __cinit__. try horton\u001b[0m\n",
      "\u001b[93mbackup molecule failed with err: no default __reduce__ due to non-trivial __cinit__. try horton\u001b[0m\n",
      "\u001b[93mbackup molecule failed with err: no default __reduce__ due to non-trivial __cinit__. try horton\u001b[0m\n",
      "\u001b[93mbackup molecule failed with err: no default __reduce__ due to non-trivial __cinit__. try horton\u001b[0m\n"
     ]
    }
   ],
   "source": [
    "qtk_mols = []\n",
    "for f in fchks:\n",
    "    qtk_mols.append(qtk.QMInp(f, electron_repulsion=False))"
   ]
  },
  {
   "cell_type": "code",
   "execution_count": 9,
   "metadata": {},
   "outputs": [],
   "source": [
    "ghs = qtk_mols[0].cube_grid(R=R_list, margin=2, resolution=0.2)"
   ]
  },
  {
   "cell_type": "code",
   "execution_count": 11,
   "metadata": {},
   "outputs": [],
   "source": [
    "qtk_rhos = []\n",
    "for mol in qtk_mols[:2]:\n",
    "    qtk_rhos.append(mol.getRhoCube(grid_header_shape=ghs))"
   ]
  },
  {
   "cell_type": "code",
   "execution_count": 26,
   "metadata": {},
   "outputs": [
    {
     "name": "stdout",
     "output_type": "stream",
     "text": [
      "\u001b[96m\u001b[1mCUBE:\u001b[0m center of mass on z-axis: 0.0 \n",
      "\u001b[96m\u001b[1mCUBE:\u001b[0m axis:2, slice:17.000000 \n",
      "\u001b[96m\u001b[1mCUBE:\u001b[0m slice coordinate: -0.072815 \n"
     ]
    },
    {
     "data": {
      "image/png": "[encoded data removed]",
      "text/plain": [
       "<matplotlib.figure.Figure at 0x15241d6d4110>"
      ]
     },
     "metadata": {},
     "output_type": "display_data"
    }
   ],
   "source": [
    "qtk_rhos[0].contour(axis=2, levels=np.log(np.linspace(0.01, 5, 30)**2))\n",
    "pass"
   ]
  },
  {
   "cell_type": "code",
   "execution_count": null,
   "metadata": {
    "collapsed": true
   },
   "outputs": [],
   "source": []
  }
 ],
 "metadata": {
  "kernelspec": {
   "display_name": "Python 2",
   "language": "python",
   "name": "python2"
  },
  "language_info": {
   "codemirror_mode": {
    "name": "ipython",
    "version": 2
   },
   "file_extension": ".py",
   "mimetype": "text/x-python",
   "name": "python",
   "nbconvert_exporter": "python",
   "pygments_lexer": "ipython2",
   "version": "2.7.14"
  }
 },
 "nbformat": 4,
 "nbformat_minor": 2
}
