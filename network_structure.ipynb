{
 "cells": [
  {
   "cell_type": "markdown",
   "metadata": {},
   "source": [
    "# A neural network approach to solve Schrodinger equation\n",
    "\n",
    "## Motivation:\n",
    "[Universal approximation theorem](http://mcneela.github.io/machine_learning/2017/03/21/Universal-Approximation-Theorem.html) proved that **ANY** function can be approximated by a neural network with one hidden layer, using a bounded, countinuous, monotonically increasing activation function [[Hornik](http://zmjones.com/static/statistical-learning/hornik-nn-1991.pdf)].\n",
    "\n",
    "If the Schrodinger equation solver is formulated as the approximator to estimate molecular orbital coefficients, for a given basis set and assuming that the activation function satisfies the necessary condition. The limit of exact approximator exist. It is therefore interesting how well this approximator can be modeled."
   ]
  },
  {
   "cell_type": "markdown",
   "metadata": {},
   "source": [
    "## A naive network structure:\n",
    "### input layer $\\rightarrow$ recurrent hidden layer $\\rightarrow$ output layer\n",
    "\n",
    "* Input layer: Given basis set $\\{g_{\\alpha}(\\mathbf{r})\\}_{\\alpha}$, and number of electrons $N$, and structure file, containing nuclear positions $\\{\\mathbf{R}_I\\}_I$ and the correspoinding nuclear charge $\\{Z_I\\}_I$. Compute the following:\n",
    " * Overlap matrix $[\\mathbf{S}]_{\\alpha\\beta}=\\int d\\mathbf{r} g_\\alpha(\\mathbf{r})g_\\beta(\\mathbf{r})$\n",
    " * Canonical orthogonalization matrix $\\mathbf{X} = \\mathbf{U} / \\sqrt{\\mathbf{D}}$\n",
    " * Kinetic energy matrix $[\\mathbf{K}]_{\\alpha\\beta} = -\\frac{1}{2}\\int d\\mathbf{r}g_\\alpha(\\mathbf{r})\\nabla^2 g_\\beta(\\mathbf{r})$\n",
    " * External potential matrix $[\\mathbf{V}]_{\\alpha\\beta} = -\\sum_I\\int d\\mathbf{r}\\frac{g_\\alpha(\\mathbf{r})g_\\beta(\\mathbf{r})}{|\\mathbf{r} - \\mathbf{R}_I|}Z_I$\n",
    " * Electron repulsion matrix $[\\mathbf{ER}]_{\\alpha\\beta\\gamma\\delta} = \\int d\\mathbf{r} d\\mathbf{r}'\\frac{g_\\alpha(\\mathbf{r})g_\\beta(\\mathbf{r})g_\\gamma(\\mathbf{r}')g_\\delta(\\mathbf{r}')}{|\\mathbf{r}-\\mathbf{r}'|}$\n",
    " * Initialize molecular orbital coefficients (MOV) $\\mathbf{C_0}$ (zero matrix), weights $\\mathbf{W}$ (random matrix), and bias $\\mathbf{b}$ (zero vector).\n",
    "* Hidden recurrent layer: Given a maximum iteration number $T$, update MOV by the recursive function\n",
    "$$\n",
    "\\mathbf{C}_{t} = \\mathbf{\\sigma}(\\mathbf{C}_{t-1}\\cdot\\mathbf{W} + \\mathbf{b}) = \\mathbf{X}\\cdot f_{\\mathrm{eig}}\\Big((\\mathbf{C}_{t-1}\\cdot\\mathbf{W} + \\mathbf{b})^{\\mathrm{T}}\\cdot(\\mathbf{C}_{t-1}\\cdot\\mathbf{W} + \\mathbf{b})\\Big),\n",
    "$$\n",
    "where $\\mathbf{\\sigma}([\\cdot]) = \\mathbf{X}\\cdot f_{\\mathrm{eig}}([\\cdot]^{\\mathrm{T}}[\\cdot]): \\mathbb{R}^{m\\times m}\\rightarrow\\mathbb{R}^{m\\times m}$ is the nonlinear activation function.\n",
    "Such that $\\mathbf{C}_t^{\\mathrm{T}}\\cdot\\mathbf{S}\\cdot\\mathbf{C}_t = \\mathbf{1}\\ \\forall\\ t$\n",
    "(see section orthogonalization of the basis functions below).\n",
    "* Output layer: Treat $\\mathbf{C}_T$ as the converged Hartree-Fock molecular orbital coefficients and evaluate the Hartree-Fock energy normaly. That is (for conventional closed shell system)\n",
    "$$\n",
    "E = K + V + U + X + V_{nn},\n",
    "$$\n",
    "with density matrix $[\\mathbf{P}]_{\\alpha\\beta}=2\\sum_{i=1}^{N/2} C_{i\\alpha}C_{i\\beta}$ where \n",
    " * Kinetic energy $K = tr(\\mathbf{P}\\cdot\\mathbf{K})$\n",
    " * External pential energy $V = tr(\\mathbf{P}\\cdot\\mathbf{V})$\n",
    " * and other terms $\\cdots$\n",
    "\n",
    "## Implementation\n",
    "\n",
    "* Model construction:\n",
    "All Gaussian basis matrix element can be evaluated by the ${\\tt Horton}$ package. The computational graph (operational connectivity) can be constructed using ${\\tt TensorFlow}$. \n",
    "* Trainning:\n",
    "Standard backpropagation should work. There are two possible issues\n",
    " * Interface between ${\\tt Horton}$ and ${\\tt TensorFlow}$\n",
    " * Matrix operation derivatives, namely the derivative of trace and eigenvector decomposition in , e.g. $\\frac{\\partial K}{\\partial\\mathbf{W}} = \\frac{\\partial}{\\partial\\mathbf{W}} tr(\\mathbf{P}\\cdot\\mathbf{K})$\n",
    " (see [/root_to_tensorflow/python/ops/linalg_grad.py](https://github.com/tensorflow/tensorflow/blob/master/tensorflow/python/ops/linalg_grad.py) and the corresponding [documentation](http://eprints.maths.ox.ac.uk/1079/1/NA-08-01.pdf) for details)"
   ]
  },
  {
   "cell_type": "markdown",
   "metadata": {},
   "source": [
    "## Orthogonalization of the basis functions\n",
    "\n",
    "Any random combination of Gaussian basis functions can be orthonormalized. An example of H$_2$ molecule using 3-21G basis function is shown"
   ]
  },
  {
   "cell_type": "code",
   "execution_count": 1,
   "metadata": {},
   "outputs": [],
   "source": [
    "import qctoolkit as qtk\n",
    "import numpy as np\n",
    "from matplotlib import pyplot as plt\n",
    "from IPython.display import clear_output\n",
    "\n",
    "%matplotlib inline\n",
    "\n",
    "clear_output()"
   ]
  },
  {
   "cell_type": "markdown",
   "metadata": {},
   "source": [
    "Gaussian basis is normalized but not orthogonal to each other, as can be seen by the non-zero off-diagonal matrix element of the overlap matrix $\\mathbf{S}$"
   ]
  },
  {
   "cell_type": "code",
   "execution_count": 2,
   "metadata": {},
   "outputs": [
    {
     "data": {
      "text/plain": [
       "array([[ 1.        ,  0.64589894,  0.40432958,  0.48051762],\n",
       "       [ 0.64589894,  1.        ,  0.48051762,  0.8360078 ],\n",
       "       [ 0.40432958,  0.48051762,  1.        ,  0.64589894],\n",
       "       [ 0.48051762,  0.8360078 ,  0.64589894,  1.        ]])"
      ]
     },
     "execution_count": 2,
     "metadata": {},
     "output_type": "execute_result"
    }
   ],
   "source": [
    "mol = qtk.QMInp('xyz/h2.xyz', program='horton', basis_set='3-21g')\n",
    "clear_output()\n",
    "mol.olp"
   ]
  },
  {
   "cell_type": "markdown",
   "metadata": {},
   "source": [
    "However, the molecular orbitals (MO) form a orthonormal basis set,\n",
    "$$\n",
    "\\langle\\psi_i|\\psi_j\\rangle = \\delta_{ij},\n",
    "$$\n",
    "where \n",
    "$$\n",
    "\\psi_i(\\mathbf{r}) = \\sum_{\\alpha=1}^M c_{i\\alpha}g_\\alpha(\\mathbf{r}),\\mbox{ and MO coefficients } [\\mathbf{C}]_{i\\alpha} = c_{i\\alpha}.\n",
    "$$\n",
    "That is\n",
    "$$\n",
    "\\mathbf{C}^{\\mathrm{T}}\\cdot\\mathbf{S}\\cdot\\mathbf{C} = \\mathbf{1}\n",
    "$$"
   ]
  },
  {
   "cell_type": "code",
   "execution_count": 3,
   "metadata": {},
   "outputs": [
    {
     "data": {
      "text/plain": [
       "array([[  1.00000000e+00,  -2.22044605e-16,  -1.11022302e-16,\n",
       "          2.22044605e-16],\n",
       "       [ -2.77555756e-17,   1.00000000e+00,   1.11022302e-16,\n",
       "         -3.33066907e-16],\n",
       "       [ -1.66533454e-16,  -2.22044605e-16,   1.00000000e+00,\n",
       "          2.22044605e-16],\n",
       "       [ -3.46944695e-18,  -9.02056208e-16,   9.71445147e-17,\n",
       "          1.00000000e+00]])"
      ]
     },
     "execution_count": 3,
     "metadata": {},
     "output_type": "execute_result"
    }
   ],
   "source": [
    "C = mol.mov\n",
    "C.T.dot(mol.olp).dot(C)"
   ]
  },
  {
   "cell_type": "markdown",
   "metadata": {},
   "source": [
    "An orthornormalization matrix $\\mathbf{X}$ can be constructed by the overlap matrix $\\mathbf{S}$ (canonical orthogonization). \n",
    "$$\n",
    "\\mathbf{X} = \\mathbf{U}\\frac{1}{\\sqrt{\\mathbf{D}}},\n",
    "$$\n",
    "where $\\mathbf{D}$ and $\\mathbf{U}$ are the eigenvalues and eigenvectors of the overlap matrix $\\mathbf{S}$.\n",
    "\n",
    "Any random combination of basis function can be orothornormalized by orthornormalization matrix."
   ]
  },
  {
   "cell_type": "code",
   "execution_count": 4,
   "metadata": {},
   "outputs": [
    {
     "data": {
      "text/plain": [
       "array([[  1.00000000e+00,   2.22044605e-16,  -3.33066907e-16,\n",
       "         -2.22044605e-16],\n",
       "       [  0.00000000e+00,   1.00000000e+00,  -2.22044605e-15,\n",
       "          4.99600361e-16],\n",
       "       [ -5.55111512e-17,  -2.08166817e-15,   1.00000000e+00,\n",
       "          5.55111512e-17],\n",
       "       [ -1.70002901e-16,   4.89192020e-16,   1.95156391e-16,\n",
       "          1.00000000e+00]])"
      ]
     },
     "execution_count": 4,
     "metadata": {},
     "output_type": "execute_result"
    }
   ],
   "source": [
    "# canonical orthogonalization transformation matirx\n",
    "D, U = np.linalg.eig(mol.olp)\n",
    "X = U / np.sqrt(D)\n",
    "\n",
    "# random MO coefficients\n",
    "B = np.random.random(U.shape)\n",
    "# orthonormalized MO coefficients\n",
    "C = X.dot(np.linalg.eig(B.T.dot(B))[1])\n",
    "\n",
    "# orthonormalized random MO coefficients\n",
    "C.T.dot(mol.olp).dot(C)"
   ]
  },
  {
   "cell_type": "markdown",
   "metadata": {
    "collapsed": true
   },
   "source": [
    "## Construct H$_2$ dataset with varying bond length"
   ]
  },
  {
   "cell_type": "code",
   "execution_count": 5,
   "metadata": {},
   "outputs": [],
   "source": [
    "inps = []\n",
    "for R in np.arange(0.3, 3.1, 0.001):\n",
    "    mol = qtk.Molecule()\n",
    "    mol.build([[1, 0, 0, 0], [1, R, 0, 0]])\n",
    "    inp = qtk.QMInp(mol, program='horton', basis_set='3-21g')\n",
    "    inp.run()\n",
    "    D, U = np.linalg.eig(inp.olp)\n",
    "    inp.X = U / np.sqrt(D)\n",
    "    inps.append(inp)\n",
    "clear_output()"
   ]
  },
  {
   "cell_type": "code",
   "execution_count": 6,
   "metadata": {},
   "outputs": [
    {
     "name": "stdout",
     "output_type": "stream",
     "text": [
      "2520 280\n"
     ]
    },
    {
     "data": {
      "image/png": "[encoded data removed]",
      "text/plain": [
       "<matplotlib.figure.Figure at 0x2b608e233910>"
      ]
     },
     "metadata": {},
     "output_type": "display_data"
    }
   ],
   "source": [
    "from sklearn.model_selection import train_test_split\n",
    "\n",
    "inp_train, inp_test = train_test_split(inps, random_state=0, test_size=0.1)\n",
    "\n",
    "E = [inp.ht_ham.cache['energy'] for inp in inps]\n",
    "R = [inp.molecule.R[1,0] for inp in inps]\n",
    "E_train = [inp.ht_ham.cache['energy'] for inp in inp_train]\n",
    "R_train = [inp.molecule.R[1,0] for inp in inp_train]\n",
    "E_test = [inp.ht_ham.cache['energy'] for inp in inp_test]\n",
    "R_test = [inp.molecule.R[1,0] for inp in inp_test]\n",
    "\n",
    "plt.plot(R, E, label='interpolation')\n",
    "plt.plot(R_test, E_test, ls='', marker='o', label='test set')\n",
    "#plt.plot(R_train, E_train, ls='', marker='x', label='training set')\n",
    "plt.legend(loc=1)\n",
    "print len(E_train), len(E_test)"
   ]
  },
  {
   "cell_type": "markdown",
   "metadata": {},
   "source": [
    "### Extract input tensor and compute output Hartree-Fock energy"
   ]
  },
  {
   "cell_type": "code",
   "execution_count": 7,
   "metadata": {},
   "outputs": [
    {
     "data": {
      "text/plain": [
       "array([ 1.,  0.,  0.,  0.])"
      ]
     },
     "execution_count": 7,
     "metadata": {},
     "output_type": "execute_result"
    }
   ],
   "source": [
    "inp = inps[0]\n",
    "inp.ht_exp_alpha.occupations"
   ]
  },
  {
   "cell_type": "code",
   "execution_count": 8,
   "metadata": {},
   "outputs": [
    {
     "data": {
      "text/plain": [
       "-0.63168360801818313"
      ]
     },
     "execution_count": 8,
     "metadata": {},
     "output_type": "execute_result"
    }
   ],
   "source": [
    "# Numpy version implementation\n",
    "\n",
    "def get_input_tensor(mol):\n",
    "    \"\"\"Extract matrices and pack as tensor\"\"\"\n",
    "    S, K, Na, C0, X, Er = mol.olp, mol.kin, mol.na, mol.initial_mov, mol.X, mol.er\n",
    "    I = np.stack([S, K, Na, C0, X])\n",
    "    nn = mol.ht_external['nn']\n",
    "    occ = mol.ht_exp_alpha.occupations\n",
    "    return I, Er, occ, nn\n",
    "    \n",
    "def get_output(I, Er, occ, nn, C):\n",
    "    \"\"\"take input tensor and approximated MO coefficients, C, to compute total energy\"\"\"\n",
    "    K = I[1]\n",
    "    Na = I[2]\n",
    "    dm = (C * occ).dot(C.T)\n",
    "    \n",
    "    Ek = np.trace(dm.dot(K)) * 2\n",
    "    Ev = np.trace(dm.dot(Na)) * 2\n",
    "    Ej = np.trace(dm.dot(np.tensordot(dm, Er, axes=([0,1], [0,2])))) * 2\n",
    "    Ex = -np.trace(dm.dot(np.tensordot(dm, Er, axes=([0,1], [0,1]))))\n",
    "    E_tot = np.sum([Ek, Ev, Ej, Ex, nn])\n",
    "    return E_tot\n",
    "\n",
    "inp = inps[0]\n",
    "I_np, Er_np, occ, nn = get_input_tensor(inp)\n",
    "C = inp.ht_exp_alpha.coeffs.__array__()\n",
    "get_output(I_np, Er_np, occ, nn, C)"
   ]
  },
  {
   "cell_type": "code",
   "execution_count": 9,
   "metadata": {},
   "outputs": [
    {
     "name": "stdout",
     "output_type": "stream",
     "text": [
      "Starting plain SCF solver. ndm=1\n",
      "~~~~~~~~~~~~~~~~~~~~~~~~~~~~~~~~~~~~~~~~~~~~~~~~~~~~~~~~~~~~~~~~~~~~~~~~~~~~~~~~~~~~~~~~~~~~~~~~~~~~\n",
      "Iter         Error\n",
      "~~~~~~~~~~~~~~~~~~~~~~~~~~~~~~~~~~~~~~~~~~~~~~~~~~~~~~~~~~~~~~~~~~~~~~~~~~~~~~~~~~~~~~~~~~~~~~~~~~~~\n",
      "   0   4.35272e-07\n",
      "\n",
      "Contributions to the energy:\n",
      "~~~~~~~~~~~~~~~~~~~~~~~~~~~~~~~~~~~~~~~~~~~~~~~~~~~~~~~~~~~~~~~~~~~~~~~~~~~~~~~~~~~~~~~~~~~~~~~~~~~~\n",
      "                                              term                 Value\n",
      "~~~~~~~~~~~~~~~~~~~~~~~~~~~~~~~~~~~~~~~~~~~~~~~~~~~~~~~~~~~~~~~~~~~~~~~~~~~~~~~~~~~~~~~~~~~~~~~~~~~~\n",
      "                                               kin        1.793179024167\n",
      "                                           hartree        1.715605902722\n",
      "                                              x_hf       -0.857802951361\n",
      "                                                ne       -5.046589746486\n",
      "                                                nn        1.763924162940\n",
      "                                             total       -0.631683608018\n",
      "~~~~~~~~~~~~~~~~~~~~~~~~~~~~~~~~~~~~~~~~~~~~~~~~~~~~~~~~~~~~~~~~~~~~~~~~~~~~~~~~~~~~~~~~~~~~~~~~~~~~\n",
      "\n"
     ]
    }
   ],
   "source": [
    "inps[0].run()"
   ]
  },
  {
   "cell_type": "markdown",
   "metadata": {},
   "source": [
    "## Construct Tensorflow model "
   ]
  },
  {
   "cell_type": "markdown",
   "metadata": {},
   "source": [
    "### Tensorflow input interface\n",
    "Given training or test set, construct stacked input tensors and corresponding labels"
   ]
  },
  {
   "cell_type": "code",
   "execution_count": 10,
   "metadata": {
    "scrolled": true
   },
   "outputs": [
    {
     "data": {
      "text/plain": [
       "[<matplotlib.lines.Line2D at 0x2b6090430b90>]"
      ]
     },
     "execution_count": 10,
     "metadata": {},
     "output_type": "execute_result"
    },
    {
     "data": {
      "image/png": "[encoded data removed]",
      "text/plain": [
       "<matplotlib.figure.Figure at 0x2b607eaf5490>"
      ]
     },
     "metadata": {},
     "output_type": "display_data"
    }
   ],
   "source": [
    "def tfIO(mol_list):\n",
    "    I_list, Er_list, occ_list, nn_list, C_list, labels = [[] for _ in range(6)]\n",
    "    for mol in mol_list:\n",
    "        C = mol.ht_exp_alpha.coeffs.__array__()\n",
    "        C_list.append(C)\n",
    "        I, Er, occ, nn = get_input_tensor(mol)\n",
    "        I_list.append(I)\n",
    "        Er_list.append(Er)\n",
    "        occ_list.append(occ)\n",
    "        nn_list.append(nn)\n",
    "        labels.append(get_output(I, Er, occ, nn, C))\n",
    "        \n",
    "    return np.stack(I_list).astype(np.float32), np.stack(Er_list).astype(np.float32), \\\n",
    "           np.stack(occ_list).astype(np.float32), np.stack(nn_list).astype(np.float32), \\\n",
    "           np.stack(C_list).astype(np.float32), np.stack(labels).astype(np.float32)\n",
    "        \n",
    "I_train, Er_train, occ_train, nn_train, C_train, y_train = tfIO(inp_train)\n",
    "I_test, Er_test, occ_test, nn_test, C_test, y_test = tfIO(inp_test)\n",
    "_, _, _, _, _, y = tfIO(inps)\n",
    "plt.plot(y)"
   ]
  },
  {
   "cell_type": "code",
   "execution_count": 11,
   "metadata": {},
   "outputs": [
    {
     "data": {
      "text/plain": [
       "array([[ 1.,  0.,  0.,  0.],\n",
       "       [ 1.,  0.,  0.,  0.],\n",
       "       [ 1.,  0.,  0.,  0.],\n",
       "       ..., \n",
       "       [ 1.,  0.,  0.,  0.],\n",
       "       [ 1.,  0.,  0.,  0.],\n",
       "       [ 1.,  0.,  0.,  0.]], dtype=float32)"
      ]
     },
     "execution_count": 11,
     "metadata": {},
     "output_type": "execute_result"
    }
   ],
   "source": [
    "occ_test"
   ]
  },
  {
   "cell_type": "markdown",
   "metadata": {},
   "source": [
    "### Build model"
   ]
  },
  {
   "cell_type": "code",
   "execution_count": 12,
   "metadata": {},
   "outputs": [
    {
     "name": "stdout",
     "output_type": "stream",
     "text": [
      "-0.835124\n",
      "-0.835124\n"
     ]
    }
   ],
   "source": [
    "import tensorflow as tf\n",
    "\n",
    "def hidden_layer(I, C_prd = None):\n",
    "    \n",
    "    if C_prd is None:\n",
    "        C_prd = I[-2]\n",
    "    \n",
    "    W = tf.Variable(tf.truncated_normal(C_prd.shape), name='weights')\n",
    "    b = tf.Variable(tf.zeros(C_prd.shape[0]), name='biases')\n",
    "    \n",
    "    C_new = tf.add(tf.matmul(C_prd, W), b)\n",
    "    C_sym = tf.matmul(tf.transpose(C_new), C_new)\n",
    "    _, C_diag = tf.self_adjoint_eig(C_sym)\n",
    "    \n",
    "    return tf.matmul(I[-1], C_diag)\n",
    "\n",
    "def output_layer(I, Er, occ, nn, C_prd):\n",
    "    K, Na = I[1], I[2]\n",
    "    \n",
    "    C_occ = tf.multiply(occ, C_prd)\n",
    "    #C_occ = tf.matmul(tf.expand_dims(0, occ), C)\n",
    "    dm = tf.matmul(C_occ, tf.transpose(C_prd))\n",
    "    \n",
    "    J_kernel = tf.tensordot(dm, Er, axes=([0,1], [0,2]))\n",
    "    X_kernel = tf.tensordot(dm, Er, axes=([0,1], [0,1]))\n",
    "    \n",
    "    Ek = tf.trace(tf.matmul(dm, K)) * 2\n",
    "    Ev = tf.trace(tf.matmul(dm, Na)) * 2\n",
    "    Ej = tf.trace(tf.matmul(dm, J_kernel)) * 2\n",
    "    Ex = -tf.trace(tf.matmul(dm, X_kernel))\n",
    "    \n",
    "    E_total = tf.add(Ek, Ev)\n",
    "    E_total = tf.add(E_total, Ej)\n",
    "    E_total = tf.add(E_total, Ex)\n",
    "    E_total = tf.add(E_total, nn)\n",
    "    \n",
    "    return E_total\n",
    "\n",
    "# test\n",
    "with tf.Session() as sess:\n",
    "    sess.run(tf.global_variables_initializer())\n",
    "    E = output_layer(I_train[0], Er_train[0], occ_train[0], nn_train[0], C_train[0])\n",
    "    print sess.run(E)\n",
    "    print y_train[0]"
   ]
  },
  {
   "cell_type": "code",
   "execution_count": 13,
   "metadata": {},
   "outputs": [
    {
     "name": "stdout",
     "output_type": "stream",
     "text": [
      "itr:    0, training error: 0.057905, test error 1.002733\n",
      "itr:  100, training error: 0.165908, test error 0.723811\n",
      "itr:  200, training error: 0.309749, test error 0.539717\n",
      "itr:  300, training error: 0.090382, test error 0.475829\n",
      "itr:  400, training error: 0.055195, test error 0.412171\n",
      "itr:  500, training error: 1.447780, test error 0.378107\n",
      "itr:  600, training error: 0.232721, test error 0.321723\n",
      "itr:  700, training error: 0.332901, test error 0.307134\n",
      "itr:  800, training error: 0.034518, test error 0.262785\n",
      "itr:  900, training error: 0.125874, test error 0.259655\n",
      "itr: 1000, training error: 0.033309, test error 0.235331\n",
      "itr: 1100, training error: 0.109473, test error 0.209977\n",
      "itr: 1200, training error: 0.333382, test error 0.191561\n",
      "itr: 1300, training error: 0.016901, test error 0.189429\n",
      "itr: 1400, training error: 0.043844, test error 0.166490\n",
      "itr: 1500, training error: 0.014633, test error 0.152240\n",
      "itr: 1600, training error: 0.035815, test error 0.140566\n",
      "itr: 1700, training error: 0.059595, test error 0.132542\n",
      "itr: 1800, training error: 0.066619, test error 0.123366\n",
      "itr: 1900, training error: 0.015126, test error 0.114284\n",
      "itr: 2000, training error: 0.016937, test error 0.103113\n",
      "itr: 2100, training error: 0.318176, test error 0.100103\n",
      "itr: 2200, training error: 0.040931, test error 0.085510\n",
      "itr: 2300, training error: 0.697205, test error 0.081234\n",
      "itr: 2400, training error: 0.291471, test error 0.071135\n",
      "itr: 2500, training error: 0.008962, test error 0.077006\n"
     ]
    }
   ],
   "source": [
    "tf.reset_default_graph()\n",
    "\n",
    "def get_shape(tensor):\n",
    "    shape = list(tensor.shape)\n",
    "    #shape.insert(0, None)\n",
    "    return shape\n",
    "\n",
    "# input tensors\n",
    "I = tf.placeholder(tf.float32, shape=get_shape(I_test[0]), name='I')\n",
    "Er = tf.placeholder(tf.float32, shape=get_shape(Er_test[0]), name='Er')\n",
    "occ = tf.placeholder(tf.float32, shape=get_shape(occ_test[0]), name='occ')\n",
    "nn = tf.placeholder(tf.float32, shape=get_shape(nn_test[0]), name='nn')\n",
    "\n",
    "# training tensors\n",
    "C_ref = tf.placeholder(tf.float32, shape=get_shape(C_test[0]), name='C_ref')\n",
    "y = tf.placeholder(tf.float32, shape=get_shape(y_test[0]), name='y')\n",
    "\n",
    "# output tensor\n",
    "#C_prd = tf.placeholder(tf.float32, shape=C_test[0].shape, name='C_prd')\n",
    "C_prd = hidden_layer(I)\n",
    "itr = 0\n",
    "while itr < 50:\n",
    "    C_prd = hidden_layer(I, C_prd)\n",
    "    itr += 1\n",
    "y_prd = output_layer(I, Er, occ, nn, C_prd)\n",
    "\n",
    "err = tf.pow(y - y_prd, 2)\n",
    "\n",
    "#optimizer = tf.train.GradientDescentOptimizer(learning_rate).minimize(err)\n",
    "optimizer = tf.train.AdamOptimizer().minimize(err)\n",
    "\n",
    "with tf.Session() as sess:\n",
    "    sess.run(tf.global_variables_initializer())\n",
    "    err_list = []\n",
    "    err_list_test = []\n",
    "    itr_list = []\n",
    "    itr = 0\n",
    "    for I_np, Er_np, occ_np, nn_np, y_np in zip(I_train, Er_train, occ_train, nn_train, y_train):\n",
    "        \n",
    "        train_dict = {I:I_np, Er:Er_np, occ:occ_np, nn:nn_np, y:y_np}\n",
    "        \n",
    "        sess.run(optimizer, feed_dict=train_dict)\n",
    "        train_err = sess.run(err, feed_dict=train_dict)\n",
    "        \n",
    "        err_list.append(train_err)\n",
    "        \n",
    "        if itr % 100 == 0:\n",
    "            test_errs = []\n",
    "            for I_t, Er_t, occ_t, nn_t, y_t in zip(I_test, Er_test, occ_test, nn_test, y_test):\n",
    "                test_dict = {I:I_t, Er:Er_t, occ:occ_t, nn:nn_t, y:y_t}\n",
    "                test_errs.append(sess.run(err, feed_dict=test_dict))\n",
    "            test_err = np.array(test_errs).mean()\n",
    "            err_list_test.append(test_err)\n",
    "            itr_list.append(itr)\n",
    "            print \"itr: %4d, training error: %f, test error %f\" % (itr, train_err, test_err)\n",
    "        itr += 1"
   ]
  },
  {
   "cell_type": "code",
   "execution_count": 18,
   "metadata": {},
   "outputs": [
    {
     "data": {
      "text/plain": [
       "<matplotlib.text.Text at 0x2b60b99e83d0>"
      ]
     },
     "execution_count": 18,
     "metadata": {},
     "output_type": "execute_result"
    },
    {
     "data": {
      "image/png": "[encoded data removed]",
      "text/plain": [
       "<matplotlib.figure.Figure at 0x2b60b9c27fd0>"
      ]
     },
     "metadata": {},
     "output_type": "display_data"
    }
   ],
   "source": [
    "plt.loglog(itr_list, err_list_test)\n",
    "plt.title('Learning curve of H$_2$', fontsize=20)\n",
    "plt.ylabel(r'$|E_{\\mathrm{pred}} - E_{\\mathrm{true}}|^2$ [Ha]', fontsize=15)\n",
    "plt.xlabel('training set size', fontsize=15)"
   ]
  },
  {
   "cell_type": "code",
   "execution_count": null,
   "metadata": {
    "collapsed": true
   },
   "outputs": [],
   "source": []
  }
 ],
 "metadata": {
  "kernelspec": {
   "display_name": "Python 2",
   "language": "python",
   "name": "python2"
  },
  "language_info": {
   "codemirror_mode": {
    "name": "ipython",
    "version": 2
   },
   "file_extension": ".py",
   "mimetype": "text/x-python",
   "name": "python",
   "nbconvert_exporter": "python",
   "pygments_lexer": "ipython2",
   "version": "2.7.13"
  }
 },
 "nbformat": 4,
 "nbformat_minor": 2
}
