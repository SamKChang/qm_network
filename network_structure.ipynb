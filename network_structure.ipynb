{
 "cells": [
  {
   "cell_type": "markdown",
   "metadata": {},
   "source": [
    "# A neural network approach to solve Schrodinger equation\n",
    "\n",
    "## Motivation:\n",
    "[Universal approximation theorem](http://mcneela.github.io/machine_learning/2017/03/21/Universal-Approximation-Theorem.html) proved that **ANY** function can be approximated by a neural network with one hidden layer, using a bounded, countinuous, monotonically increasing activation function [[Hornik](http://zmjones.com/static/statistical-learning/hornik-nn-1991.pdf)].\n",
    "\n",
    "If the Schrodinger equation solver is formulated as the approximator to estimate molecular orbital coefficients, for a given basis set and assuming that the activation function satisfies the necessary condition. The limit of exact approximator exist. It is therefore interesting how well this approximator can be modeled."
   ]
  },
  {
   "cell_type": "markdown",
   "metadata": {},
   "source": [
    "## A naive network structure:\n",
    "### input layer $\\rightarrow$ recurrent hidden layer $\\rightarrow$ output layer\n",
    "\n",
    "* Input layer: Given basis set $\\{g_{\\alpha}(\\mathbf{r})\\}_{\\alpha}$, and number of electrons $N$, and structure file, containing nuclear positions $\\{\\mathbf{R}_I\\}_I$ and the correspoinding nuclear charge $\\{Z_I\\}_I$. Compute the following:\n",
    " * Overlap matrix $[\\mathbf{S}]_{\\alpha\\beta}=\\int d\\mathbf{r} g_\\alpha(\\mathbf{r})g_\\beta(\\mathbf{r})$\n",
    " * Canonical orthogonalization matrix $\\mathbf{X} = \\mathbf{U} / \\sqrt{\\mathbf{D}}$\n",
    " * Kinetic energy matrix $[\\mathbf{K}]_{\\alpha\\beta} = -\\frac{1}{2}\\int d\\mathbf{r}g_\\alpha(\\mathbf{r})\\nabla^2 g_\\beta(\\mathbf{r})$\n",
    " * External potential matrix $[\\mathbf{V}]_{\\alpha\\beta} = -\\sum_I\\int d\\mathbf{r}\\frac{g_\\alpha(\\mathbf{r})g_\\beta(\\mathbf{r})}{|\\mathbf{r} - \\mathbf{R}_I|}Z_I$\n",
    " * Electron repulsion matrix $[\\mathbf{ER}]_{\\alpha\\beta\\gamma\\delta} = \\int d\\mathbf{r} d\\mathbf{r}'\\frac{g_\\alpha(\\mathbf{r})g_\\beta(\\mathbf{r})g_\\gamma(\\mathbf{r}')g_\\delta(\\mathbf{r}')}{|\\mathbf{r}-\\mathbf{r}'|}$\n",
    " * Initialize molecular orbital coefficients (MOV) $\\mathbf{C_0}$ (zero matrix), weights $\\mathbf{W}$ (random matrix), and bias $\\mathbf{b}$ (zero vector).\n",
    "* Hidden recurrent layer: Given a maximum iteration number $T$, update MOV by the recursive function\n",
    "$$\n",
    "\\mathbf{C}_{t} = \\mathbf{\\sigma}(\\mathbf{C}_{t-1}\\cdot\\mathbf{W} + \\mathbf{b}) = \\mathbf{X}\\cdot f_{\\mathrm{eig}}\\Big((\\mathbf{C}_{t-1}\\cdot\\mathbf{W} + \\mathbf{b})^{\\mathrm{T}}\\cdot(\\mathbf{C}_{t-1}\\cdot\\mathbf{W} + \\mathbf{b})\\Big),\n",
    "$$\n",
    "where $\\mathbf{\\sigma}([\\cdot]) = \\mathbf{X}\\cdot f_{\\mathrm{eig}}([\\cdot]^{\\mathrm{T}}[\\cdot]): \\mathbb{R}^{m\\times m}\\rightarrow\\mathbb{R}^{m\\times m}$ is the nonlinear activation function.\n",
    "Such that $\\mathbf{C}_t^{\\mathrm{T}}\\cdot\\mathbf{S}\\cdot\\mathbf{C}_t = \\mathbf{1}\\ \\forall\\ t$\n",
    "(see section orthogonalization of the basis functions below).\n",
    "* Output layer: Treat $\\mathbf{C}_T$ as the converged Hartree-Fock molecular orbital coefficients and evaluate the Hartree-Fock energy normaly. That is (for conventional closed shell system)\n",
    "$$\n",
    "E = K + V + U + X + V_{nn},\n",
    "$$\n",
    "with density matrix $[\\mathbf{P}]_{\\alpha\\beta}=2\\sum_{i=1}^{N/2} C_{i\\alpha}C_{i\\beta}$ where \n",
    " * Kinetic energy $K = tr(\\mathbf{P}\\cdot\\mathbf{K})$\n",
    " * External pential energy $V = tr(\\mathbf{P}\\cdot\\mathbf{V})$\n",
    " * and other terms $\\cdots$\n",
    "\n",
    "## Implementation\n",
    "\n",
    "* Model construction:\n",
    "All Gaussian basis matrix element can be evaluated by the ${\\tt Horton}$ package. The computational graph (operational connectivity) can be constructed using ${\\tt TensorFlow}$. \n",
    "* Trainning:\n",
    "Standard backpropagation should work. There are two possible issues\n",
    " * Interface between ${\\tt Horton}$ and ${\\tt TensorFlow}$\n",
    " * Matrix operation derivatives, namely the derivative of trace and eigenvector decomposition in , e.g. $\\frac{\\partial K}{\\partial\\mathbf{W}} = \\frac{\\partial}{\\partial\\mathbf{W}} tr(\\mathbf{P}\\cdot\\mathbf{K})$\n",
    " (see [/root_to_tensorflow/python/ops/linalg_grad.py](https://github.com/tensorflow/tensorflow/blob/master/tensorflow/python/ops/linalg_grad.py) and the corresponding [documentation](http://eprints.maths.ox.ac.uk/1079/1/NA-08-01.pdf) for details)"
   ]
  },
  {
   "cell_type": "markdown",
   "metadata": {},
   "source": [
    "## Orthogonalization of the basis functions\n",
    "\n",
    "Any random combination of Gaussian basis functions can be orthonormalized. An example of H$_2$ molecule using 3-21G basis function is shown"
   ]
  },
  {
   "cell_type": "code",
   "execution_count": 1,
   "metadata": {},
   "outputs": [
    {
     "name": "stdout",
     "output_type": "stream",
     "text": [
      "\u001b[93mmissing file: mov2asc\u001b[0m\n",
      "\u001b[93mplease modify /path/to/qctoolkit/setting.py and recompile.\u001b[0m\n"
     ]
    }
   ],
   "source": [
    "import qctoolkit as qtk\n",
    "import numpy as np\n",
    "from matplotlib import pyplot as plt\n",
    "\n",
    "%matplotlib inline"
   ]
  },
  {
   "cell_type": "markdown",
   "metadata": {},
   "source": [
    "Gaussian basis is normalized but not orthogonal to each other, as can be seen by the non-zero off-diagonal matrix element of the overlap matrix $\\mathbf{S}$"
   ]
  },
  {
   "cell_type": "code",
   "execution_count": 3,
   "metadata": {},
   "outputs": [
    {
     "data": {
      "text/plain": [
       "array([[ 1.        ,  0.64589894,  0.40432958,  0.48051762],\n",
       "       [ 0.64589894,  1.        ,  0.48051762,  0.8360078 ],\n",
       "       [ 0.40432958,  0.48051762,  1.        ,  0.64589894],\n",
       "       [ 0.48051762,  0.8360078 ,  0.64589894,  1.        ]])"
      ]
     },
     "execution_count": 3,
     "metadata": {},
     "output_type": "execute_result"
    }
   ],
   "source": [
    "mol.olp"
   ]
  },
  {
   "cell_type": "markdown",
   "metadata": {},
   "source": [
    "However, the molecular orbitals (MO) form a orthonormal basis set,\n",
    "$$\n",
    "\\langle\\psi_i|\\psi_j\\rangle = \\delta_{ij},\n",
    "$$\n",
    "where \n",
    "$$\n",
    "\\psi_i(\\mathbf{r}) = \\sum_{\\alpha=1}^M c_{i\\alpha}g_\\alpha(\\mathbf{r}),\\mbox{ and MO coefficients } [\\mathbf{C}]_{i\\alpha} = c_{i\\alpha}.\n",
    "$$\n",
    "That is\n",
    "$$\n",
    "\\mathbf{C}^{\\mathrm{T}}\\cdot\\mathbf{S}\\cdot\\mathbf{C} = \\mathbf{1}\n",
    "$$"
   ]
  },
  {
   "cell_type": "code",
   "execution_count": 4,
   "metadata": {},
   "outputs": [
    {
     "data": {
      "text/plain": [
       "array([[  1.00000000e+00,  -2.22044605e-16,  -1.11022302e-16,\n",
       "          2.22044605e-16],\n",
       "       [ -2.77555756e-17,   1.00000000e+00,   1.11022302e-16,\n",
       "         -3.33066907e-16],\n",
       "       [ -1.66533454e-16,  -2.22044605e-16,   1.00000000e+00,\n",
       "          2.22044605e-16],\n",
       "       [ -3.46944695e-18,  -9.02056208e-16,   9.71445147e-17,\n",
       "          1.00000000e+00]])"
      ]
     },
     "execution_count": 4,
     "metadata": {},
     "output_type": "execute_result"
    }
   ],
   "source": [
    "C = mol.mov\n",
    "C.T.dot(mol.olp).dot(C)"
   ]
  },
  {
   "cell_type": "markdown",
   "metadata": {},
   "source": [
    "An orthornormalization matrix $\\mathbf{X}$ can be constructed by the overlap matrix $\\mathbf{S}$ (canonical orthogonization). \n",
    "$$\n",
    "\\mathbf{X} = \\mathbf{U}\\frac{1}{\\sqrt{\\mathbf{D}}},\n",
    "$$\n",
    "where $\\mathbf{D}$ and $\\mathbf{U}$ are the eigenvalues and eigenvectors of the overlap matrix $\\mathbf{S}$.\n",
    "\n",
    "Any random combination of basis function can be orothornormalized by orthornormalization matrix."
   ]
  },
  {
   "cell_type": "code",
   "execution_count": 5,
   "metadata": {},
   "outputs": [
    {
     "data": {
      "text/plain": [
       "array([[  1.00000000e+00,  -1.52655666e-16,   2.22044605e-16,\n",
       "         -7.49400542e-16],\n",
       "       [ -2.22044605e-16,   1.00000000e+00,   1.44328993e-15,\n",
       "         -1.11022302e-16],\n",
       "       [  2.22044605e-16,   1.45716772e-15,   1.00000000e+00,\n",
       "          8.32667268e-16],\n",
       "       [ -6.93889390e-16,  -6.59194921e-17,   6.80011603e-16,\n",
       "          1.00000000e+00]])"
      ]
     },
     "execution_count": 5,
     "metadata": {},
     "output_type": "execute_result"
    }
   ],
   "source": [
    "# canonical orthogonalization transformation matirx\n",
    "D, U = np.linalg.eig(mol.olp)\n",
    "X = U / np.sqrt(D)\n",
    "\n",
    "# random MO coefficients\n",
    "B = np.random.random(U.shape)\n",
    "# orthonormalized MO coefficients\n",
    "C = X.dot(np.linalg.eig(B.T.dot(B))[1])\n",
    "\n",
    "# orthonormalized random MO coefficients\n",
    "C.T.dot(mol.olp).dot(C)"
   ]
  },
  {
   "cell_type": "markdown",
   "metadata": {
    "collapsed": true
   },
   "source": [
    "## Construct H$_2$ dataset with varying bond length"
   ]
  },
  {
   "cell_type": "code",
   "execution_count": 7,
   "metadata": {
    "scrolled": true
   },
   "outputs": [
    {
     "data": {
      "text/plain": [
       "[<matplotlib.lines.Line2D at 0x2afdf212e0d0>]"
      ]
     },
     "execution_count": 7,
     "metadata": {},
     "output_type": "execute_result"
    },
    {
     "data": {
      "image/png": "[encoded data removed]",
      "text/plain": [
       "<matplotlib.figure.Figure at 0x2afdef73a350>"
      ]
     },
     "metadata": {},
     "output_type": "display_data"
    }
   ],
   "source": [
    "E = [inp.ht_ham.cache['energy'] for inp in inps]\n",
    "R = [inp.molecule.R[1,0] for inp in inps]\n",
    "plt.plot(R, E)"
   ]
  },
  {
   "cell_type": "markdown",
   "metadata": {},
   "source": [
    "## Construct Tensorflow model "
   ]
  },
  {
   "cell_type": "code",
   "execution_count": 8,
   "metadata": {
    "collapsed": true
   },
   "outputs": [],
   "source": [
    "import tensorflow as tf"
   ]
  },
  {
   "cell_type": "code",
   "execution_count": 17,
   "metadata": {
    "collapsed": true
   },
   "outputs": [],
   "source": [
    "def naive_net(mol):\n",
    "    \"\"\"\n",
    "    Take qctoolkit horton input object as input, where all matrices are already calculated.\n",
    "    Maybe it would be necessary to extract numpy matrix value and pass it as tf tensor.\n",
    "    \"\"\"\n",
    "    \n",
    "    # seems fine to pass molecule object and extract\n",
    "    # Hamiltonian matrix components for energy evaluation\n",
    "    S = tf.constant(mol.olp, shape=mol.olp.shape, name='overlap')\n",
    "    K = tf.constant(mol.kin, shape=mol.kin.shape, name='kinetic')\n",
    "    X = tf.constant(mol.X, shape=mol.X.shape, name='X')\n",
    "    Er = tf.constant(mol.er, shape=mol.er.shape, name='electron_repulsion')\n",
    "    \n",
    "    MO = tf.Variable(tf.zeros_like(S), name='MO_coefficients_template')\n",
    "    C = tf.Variable(MO.initialized_value(), name='MO_coeff')\n",
    "    \n",
    "    weights = tf.Variable(tf.truncated_normal(C.shape, dtype=tf.float64), name='weights_template')\n",
    "    biases = tf.Variable(tf.zeros(C.shape[0], dtype=tf.float64), name='biases_template')\n",
    "    W = tf.Variable(weights.initialized_value(), name=\"weights\")\n",
    "    b = tf.Variable(biases.initialized_value(), name=\"biases\")\n",
    "    \n",
    "    \n",
    "#     def update_C(C, W, b):\n",
    "#         C_new = tf.add(tf.matmul(C, W), b)\n",
    "#         C2_symm = tf.matmul(tf.transpose(C_new), C_new)\n",
    "#         _, C = tf.self_adjoint_eig(C2_symm)\n",
    "#         return C\n",
    "#     C = update_C(C, W, b)\n",
    "#     C = update_C(C, W, b)\n",
    "#     C = update_C(C, W, b)\n",
    "#     C = update_C(C, W, b)\n",
    "        \n",
    "    _, C = tf.self_adjoint_eig(\n",
    "        tf.matmul(tf.transpose(tf.add(tf.matmul(C, W), b)), tf.add(tf.matmul(C, W), b))\n",
    "    )\n",
    "    \n",
    "    \n",
    "    return C"
   ]
  },
  {
   "cell_type": "code",
   "execution_count": 38,
   "metadata": {},
   "outputs": [
    {
     "data": {
      "text/plain": [
       "array([[ 2.27411819,  0.75751531,  1.94528249,  0.73365615],\n",
       "       [ 1.85844375,  0.81621316,  1.77788087,  0.80852505],\n",
       "       [ 1.94528249,  0.73365615,  2.27411819,  0.75751531],\n",
       "       [ 1.77788087,  0.80852505,  1.85844375,  0.81621316]])"
      ]
     },
     "execution_count": 38,
     "metadata": {},
     "output_type": "execute_result"
    }
   ],
   "source": [
    "inps[0].olp.dot(inps[0].kin)"
   ]
  },
  {
   "cell_type": "code",
   "execution_count": 64,
   "metadata": {},
   "outputs": [
    {
     "data": {
      "text/plain": [
       "array([[-0.47147018, -0.52698754, -0.68114272,  0.18985415],\n",
       "       [-0.52698754,  0.47147018, -0.18985415, -0.68114272],\n",
       "       [-0.47147018, -0.52698754,  0.68114272, -0.18985415],\n",
       "       [-0.52698754,  0.47147018,  0.18985415,  0.68114272]])"
      ]
     },
     "execution_count": 64,
     "metadata": {},
     "output_type": "execute_result"
    }
   ],
   "source": [
    "np.linalg.eig(inps[0].olp)[1][:,::1]"
   ]
  },
  {
   "cell_type": "code",
   "execution_count": null,
   "metadata": {
    "collapsed": true
   },
   "outputs": [],
   "source": []
  }
 ],
 "metadata": {
  "kernelspec": {
   "display_name": "Python 2",
   "language": "python",
   "name": "python2"
  },
  "language_info": {
   "codemirror_mode": {
    "name": "ipython",
    "version": 2
   },
   "file_extension": ".py",
   "mimetype": "text/x-python",
   "name": "python",
   "nbconvert_exporter": "python",
   "pygments_lexer": "ipython2",
   "version": "2.7.13"
  }
 },
 "nbformat": 4,
 "nbformat_minor": 2
}
