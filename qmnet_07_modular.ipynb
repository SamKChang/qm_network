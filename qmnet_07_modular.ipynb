{
 "cells": [
  {
   "cell_type": "code",
   "execution_count": 25,
   "metadata": {
    "collapsed": false
   },
   "outputs": [],
   "source": [
    "import qctoolkit as qtk\n",
    "import numpy as np\n",
    "from matplotlib import pyplot as plt\n",
    "from IPython.display import clear_output\n",
    "import re\n",
    "from datetime import datetime\n",
    "import qmnet_model as qnm\n",
    "import qmnet_tools as qnt\n",
    "import tensorflow as tf\n",
    "\n",
    "%matplotlib inline\n",
    "\n",
    "clear_output()"
   ]
  },
  {
   "cell_type": "code",
   "execution_count": 3,
   "metadata": {
    "collapsed": true
   },
   "outputs": [],
   "source": [
    "from horton import GOBasisFamily\n",
    "#basis = GOBasisFamily('basis', filename='basis/sto2g/H_Ne_uncontracted.nwchem')\n",
    "#basis = '3-21g'\n",
    "#basis = 'sto-3g'\n",
    "#basis = GOBasisFamily('H_He_basis', filename='basis/sto6g/H_Ne.nwchem')\n",
    "basis = GOBasisFamily('H_He_basis', filename='basis/sto6g/H_Be-s.nwchem')\n",
    "\n",
    "resolution = 0.005\n",
    "batch_size = 30000"
   ]
  },
  {
   "cell_type": "code",
   "execution_count": 4,
   "metadata": {
    "collapsed": true
   },
   "outputs": [],
   "source": [
    "molstr_list = [\n",
    "    'HH',\n",
    "    'HHe+',\n",
    "    'HLi',\n",
    "    'HBe+',\n",
    "    'HeHe',\n",
    "    'HeLi+',\n",
    "    'HeBe',\n",
    "    'LiLi',\n",
    "    'LiBe+',\n",
    "    'BeBe',\n",
    "]"
   ]
  },
  {
   "cell_type": "code",
   "execution_count": 5,
   "metadata": {
    "collapsed": false
   },
   "outputs": [
    {
     "name": "stdout",
     "output_type": "stream",
     "text": [
      "H2_4.0 finished\n",
      "H1He1_4.0 finished\n",
      "H1Li1_4.0 finished\n",
      "H1Be1_4.0 finished\n",
      "He2_4.0 finished\n",
      "He1Li1_4.0 finished\n",
      "He1Be1_4.0 finished\n",
      "Li2_4.0 finished\n",
      "Li1Be1_4.0 finished\n",
      "Be2_4.0 finished\n",
      "[741, 741, 741, 563, 741, 741, 741, 741, 741, 741]\n"
     ]
    }
   ],
   "source": [
    "inp_grp = []\n",
    "#inp_dump = []\n",
    "for molstr in molstr_list:\n",
    "    if '+' in molstr:\n",
    "        charge = 1\n",
    "    elif '-' in molstr:\n",
    "        charge = -1\n",
    "    else:\n",
    "        charge = 0\n",
    "    alist = re.findall('[A-Z][a-z]*', molstr)\n",
    "    Zs = [qtk.n2Z(a) for a in alist]\n",
    "    inp_list = []\n",
    "    inp_grp.append(inp_list)\n",
    "    #inp_dump.append(inp_list)\n",
    "    res = resolution\n",
    "    for R in np.arange(0.3, 4.0 + res, res):\n",
    "        mol = qtk.Molecule()\n",
    "        ZR = [[Zs[0], 0,0,0], [Zs[1], R, 0, 0]]\n",
    "        mol.build(ZR)\n",
    "        mol.charge = charge\n",
    "        mol.name = mol.name + '_%s' % str(R)\n",
    "        inp = qtk.QMInp(mol, program='horton', basis_set=basis, scf_step=30)\n",
    "        try:\n",
    "            inp.run()\n",
    "            D, U = np.linalg.eigh(inp.olp)\n",
    "            inp.X = U / np.sqrt(D)\n",
    "            \n",
    "            # to save inps into pickle file\n",
    "            #inp.delete_ht_types()\n",
    "            #inp.delete_matrices()\n",
    "            \n",
    "            inp_list.append(inp)\n",
    "        except:\n",
    "            pass\n",
    "    print \"%s finished\" % mol.name\n",
    "print [len(inp) for inp in inp_grp]"
   ]
  },
  {
   "cell_type": "code",
   "execution_count": 6,
   "metadata": {
    "collapsed": false
   },
   "outputs": [
    {
     "data": {
      "text/plain": [
       "<matplotlib.legend.Legend at 0x7f92161e2a10>"
      ]
     },
     "execution_count": 6,
     "metadata": {},
     "output_type": "execute_result"
    },
    {
     "data": {
      "image/png": "[encoded data removed]",
      "text/plain": [
       "<matplotlib.figure.Figure at 0x7f92161e2bd0>"
      ]
     },
     "metadata": {},
     "output_type": "display_data"
    }
   ],
   "source": [
    "for i in range(len(inp_grp)):\n",
    "    inp = inp_grp[i]\n",
    "    E = np.array([o.Et for o in inp])\n",
    "    E = E-E[-1]\n",
    "    R = [o.molecule.R[1,0] for o in inp]\n",
    "    #print E\n",
    "    plt.plot(R, E, label=molstr_list[i])\n",
    "plt.ylim(-0.35, 0.001)\n",
    "plt.legend()"
   ]
  },
  {
   "cell_type": "code",
   "execution_count": 14,
   "metadata": {
    "collapsed": false
   },
   "outputs": [
    {
     "name": "stdout",
     "output_type": "stream",
     "text": [
      "-0.730430578246\n",
      "-0.730430578246\n"
     ]
    }
   ],
   "source": [
    "inp = inp_grp[0][5]\n",
    "I_np, Er_np, occ, nn = qnt.get_input_tensor(inp)\n",
    "C = inp.ht_exp_alpha.coeffs.__array__()\n",
    "print qnt.get_output(I_np, Er_np, occ, nn, C)\n",
    "print inp.Et"
   ]
  },
  {
   "cell_type": "code",
   "execution_count": 22,
   "metadata": {
    "collapsed": false
   },
   "outputs": [
    {
     "name": "stdout",
     "output_type": "stream",
     "text": [
      "(3, 7, 4, 4)\n",
      "(75, 7, 4, 4)\n",
      "(666, 7, 4, 4)\n",
      "(43, 86, 413, 740)\n"
     ]
    }
   ],
   "source": [
    "reload(qnt)\n",
    "inp_train, inp_test, inp_valid = qnt.train_test_valid(inp_grp, 0, [0])\n",
    "# print len(inp_train), len(inp_test), len(inp_valid)\n",
    "I_train, Er_train, occ_train, nn_train, C_train, y_train = qnt.tfIO_batch(inp_train, batch_size)\n",
    "I_test, Er_test, occ_test, nn_test, C_test, y_test = qnt.tfIO_batch(inp_test, batch_size)\n",
    "I_valid, Er_valid, occ_valid, nn_valid, C_valid, y_valid = qnt.tfIO_batch(inp_valid, batch_size)\n",
    "\n",
    "I_valid2, Er_valid2, occ_valid2, nn_valid2, C_valid2, y_valid2 = qnt.tfIO(inp_valid, [1,3,5])\n",
    "print I_valid2.shape\n",
    "print I_test[0].shape\n",
    "print I_train[0].shape\n",
    "print qnt.validation_inds(inp_valid)"
   ]
  },
  {
   "cell_type": "code",
   "execution_count": 123,
   "metadata": {
    "collapsed": false,
    "scrolled": false
   },
   "outputs": [],
   "source": [
    "reload(qnt)\n",
    "reload(qnm)\n",
    "reload(qnm.qnl)\n",
    "\n",
    "def train(qmnet_model, root_name='model', learn_rate_min=0.0001, valid_ind=2, \n",
    "          train_list=range(len(inp_grp)), print_step=5,\n",
    "          threshold=1E-3, maxiter=100000, from_scratch=False,\n",
    "          learn_rate_steps=50, learn_rate_start=0.1, learn_rate_base=0.5,\n",
    "          batch_size=32, random_seed=0, max_mean_ratio=50.\n",
    "         ):\n",
    "    \n",
    "    def log_msg(msg, output=True):\n",
    "        log.write(msg)\n",
    "        log.flush()\n",
    "        if output:\n",
    "            print msg\n",
    "    \n",
    "    #####################################\n",
    "    # TRAINING/TESTING/VALIDATION SETUP #\n",
    "    #####################################\n",
    "    inp_train, inp_test, inp_valid = qnt.train_test_valid(inp_grp, valid_ind, train_list, random_seed)\n",
    "    I_train, Er_train, occ_train, nn_train, C_train, y_train = qnt.tfIO_batch(inp_train, batch_size)\n",
    "    I_test, Er_test, occ_test, nn_test, C_test, y_test = qnt.tfIO_batch(inp_test, batch_size)\n",
    "    I_valid, Er_valid, occ_valid, nn_valid, C_valid, y_valid = qnt.tfIO_batch(inp_valid, batch_size)\n",
    "    i_rep, i_min, i_mid, i_max = qnt.validation_inds(inp_valid)\n",
    "    v_inds = [i_rep, i_min, i_mid, i_max]\n",
    "    I_valid2, Er_valid2, occ_valid2, nn_valid2, C_valid2, y_valid2 = qnt.tfIO(inp_valid, inds=v_inds)\n",
    "    \n",
    "    #################\n",
    "    # STATUS REPORT #\n",
    "    #################\n",
    "    status = \"root name: \" + root_name + \"\\n\"\n",
    "    status += \"train/test/validation size: %d/%d/%d \\n\" % (len(inp_train), len(inp_test), len(inp_valid))\n",
    "    status += \"batch size: \" + str(I_train[0].shape[0]) + \"\\n\"\n",
    "    status += \"number of batches: \" + str(len(I_train)) + \"\\n\"\n",
    "    status += \"training set: \" + str([molstr_list[i] for i in train_list]) + \"\\n\"\n",
    "    status += \"validation: \" + molstr_list[valid_ind] + \"\\n\"\n",
    "    status += \"learning rate min: \" + str(learn_rate_min) + \"\\n\"\n",
    "    status += \"learning rate steps: \" + str(learn_rate_steps) + \"\\n\"\n",
    "    status += \"learning rate start: \" + str(learn_rate_start) + \"\\n\"\n",
    "    status += \"learning rate base: \" + str(learn_rate_base) + \"\\n\"\n",
    "    status += \"print step: \" + str(print_step) + \"\\n\"\n",
    "    status += \"threshold: \" + str(threshold) + \"\\n\"\n",
    "    status += \"maxiter: \" + str(maxiter) + \"\\n\"\n",
    "    status += \"execuate time: \" + datetime.now().strftime(\"%Y/%m/%d %H:%M:%S\") + \"\\n\\n\"\n",
    "    \n",
    "    log = open(\"%s.log\" % root_name, 'w')\n",
    "    log_msg(status)\n",
    "\n",
    "    tf.reset_default_graph()\n",
    "    g = tf.Graph()\n",
    "    with g.as_default():\n",
    "        \n",
    "        # setup model variables\n",
    "        y = tf.placeholder(tf.float64, name='y')\n",
    "        y_prd, C_prd, param = qmnet_model(g, inp_valid[0].olp.shape[0])\n",
    "        I, Er, occ, nn, keep_prob = param\n",
    "        err_mean = tf.reduce_mean(tf.pow(y - y_prd, 2))\n",
    "        err_max = tf.reduce_max(tf.pow(y - y_prd, 2))\n",
    "        err = err_mean + err_max\n",
    "        #err = err_mean\n",
    "        optimizer, learn_rate, n_epoch = qnt.get_optimizer(\n",
    "            g, err, learn_rate_steps, learn_rate_start, learn_rate_base, learn_rate_min\n",
    "        )\n",
    "        C_out = C_prd\n",
    "\n",
    "        saver = tf.train.Saver()\n",
    "        save_path = \"%s.ckpt\" % root_name\n",
    "\n",
    "        sess = tf.Session()\n",
    "        try:\n",
    "            train_err_hist = []\n",
    "            test_err_hist = []\n",
    "            valid_err_hist = []\n",
    "            C_valid_hist = []\n",
    "            C_test_hist = []\n",
    "            learn_rate_hist = []\n",
    "\n",
    "            if not from_scratch:\n",
    "                # load history and continue \n",
    "                try:\n",
    "                    saver.restore(sess, save_path)\n",
    "                    train_err_hist, test_err_hist, valid_err_hist, C_valid_hist, C_test_hist, learn_rate_hist = \\\n",
    "                    qtk.load('%s_hist.pkl' % root_name)\n",
    "                    msg = 'model and history loaded, continue optimizing'\n",
    "                except:\n",
    "                    sess.run(tf.global_variables_initializer())\n",
    "                    msg = 'no model found, or reload failed, start from scratch'\n",
    "            else:\n",
    "                msg = 'start from scratch...'\n",
    "                sess.run(tf.global_variables_initializer())\n",
    "                \n",
    "            log_msg(msg + \"\\n\")\n",
    "            epoch = len(test_err_hist)\n",
    "            \n",
    "            test_err, train_err = 1, 1\n",
    "            while (test_err > threshold or train_err > threshold) and epoch < maxiter:\n",
    "\n",
    "                ############\n",
    "                # TRAINING #\n",
    "                ############\n",
    "                # parse training set to optimizer and update model #\n",
    "                train_err_list = []\n",
    "                train_max_list = []\n",
    "                train_mean_list = []\n",
    "                for I_b, Er_b, occ_b, nn_b, C_b, y_b in \\\n",
    "                zip(I_train, Er_train, occ_train, nn_train, C_train, y_train):\n",
    "                    train_dict = {I:I_b, Er:Er_b, occ:occ_b, nn:nn_b, y:y_b, keep_prob:0.8, n_epoch:epoch}\n",
    "                    sess.run(optimizer, feed_dict=train_dict)\n",
    "                    train_err_list.append(sess.run(err, feed_dict=train_dict))\n",
    "                train_err = np.array(train_err_list).max()\n",
    "                train_err_hist.append(train_err)\n",
    "                current_learn_rate = sess.run(learn_rate, feed_dict=train_dict)\n",
    "                learn_rate_hist.append(current_learn_rate)\n",
    "                \n",
    "                ###########\n",
    "                # TESTING #\n",
    "                ###########\n",
    "                # parse test set to model to check test set error\n",
    "                test_err_list = []\n",
    "                for I_t, Er_t, occ_t, nn_t, C_t, y_t in zip(I_test, Er_test, occ_test, nn_test, C_test, y_test):\n",
    "                    test_dict = {I:I_t, Er:Er_t, occ:occ_t, nn:nn_t, y:y_t, keep_prob:1.0}\n",
    "                    test_err_list.append(sess.run(err, feed_dict=test_dict))\n",
    "                test_err = np.array(test_err_list).max()\n",
    "                test_err_hist.append(test_err)\n",
    "\n",
    "                test2_dict = {\n",
    "                    I:I_test[0][:3], \n",
    "                    Er:Er_test[0][:3], \n",
    "                    occ:occ_test[0][:3], \n",
    "                    nn:nn_test[0][:3], \n",
    "                    y:y_test[0][:3],\n",
    "                    keep_prob:1.0\n",
    "                }\n",
    "                C_test_hist.append(np.array(sess.run(C_out, feed_dict=test2_dict)))\n",
    "\n",
    "                ##############\n",
    "                # VALIDATION #\n",
    "                ##############\n",
    "                # check validation performance\n",
    "                valid_err_list = []\n",
    "                for I_v, Er_v, occ_v, nn_v, C_v, y_v in \\\n",
    "                zip(I_valid, Er_valid, occ_valid, nn_valid, C_valid, y_valid):\n",
    "                    valid_dict = {I:I_v, Er:Er_v, occ:occ_v, nn:nn_v, y:y_v, keep_prob:1.0}\n",
    "                    valid_err_list.append(sess.run(err, feed_dict=valid_dict))\n",
    "                valid_err = np.array(valid_err_list).max()\n",
    "                valid_err_hist.append(valid_err)\n",
    "\n",
    "                valid2_dict = {I:I_valid2, Er:Er_valid2, occ:occ_valid2, nn:nn_valid2, y:y_valid2}\n",
    "                C_valid_hist.append(np.array(sess.run(C_out, feed_dict=valid2_dict)))\n",
    "\n",
    "                #################\n",
    "                # STATUS REPORT #\n",
    "                #################\n",
    "                epoch = len(test_err_hist)\n",
    "                msg = \"epoch: %5d train/test/validatoin error: %f/%f/%f at rate %f\" % \\\n",
    "                (epoch, train_err, test_err, valid_err, current_learn_rate)\n",
    "\n",
    "                log_msg(msg + \"\\n\", False)\n",
    "\n",
    "                if epoch % print_step == 0:\n",
    "                    print msg\n",
    "                    qtk.save([train_err_hist, test_err_hist, valid_err_hist, \n",
    "                              C_valid_hist, C_test_hist, learn_rate_hist], \n",
    "                             \"%s_hist.pkl\" % root_name)\n",
    "\n",
    "            ######################\n",
    "            # TERMINATE AND SAVE #\n",
    "            ######################\n",
    "            save_path_out = saver.save(sess, save_path)\n",
    "            msg = \"Model saved in file: %s\" % save_path_out\n",
    "            log_msg(msg + \"\\n\")\n",
    "            qtk.save([train_err_hist, test_err_hist, valid_err_hist, C_valid_hist, C_test_hist, learn_rate_hist], \n",
    "                     \"%s_hist.pkl\" % root_name)\n",
    "            print \"optimization history saved\"\n",
    "            log.close()\n",
    "            sess.close()\n",
    "            print \"session and log file closed\"\n",
    "\n",
    "        except KeyboardInterrupt:\n",
    "            ######################\n",
    "            # TERMINATE AND SAVE #\n",
    "            ######################\n",
    "            new_msg = \"keyboard interrupt, current stage: %s\" % msg\n",
    "            log_msg(new_msg + \"\\n\")\n",
    "            save_path_out = saver.save(sess, save_path)\n",
    "            msg = \"Model saved in file: %s\" % save_path_out\n",
    "            log_msg(msg + \"\\n\")\n",
    "            qtk.save([train_err_hist, test_err_hist, valid_err_hist, C_valid_hist, C_test_hist, learn_rate_hist], \n",
    "                     \"%s_hist.pkl\" % root_name)\n",
    "            print \"optimization history saved\"\n",
    "            log.close()\n",
    "            sess.close()\n",
    "            print \"session and log file closed\""
   ]
  },
  {
   "cell_type": "code",
   "execution_count": 124,
   "metadata": {
    "collapsed": true
   },
   "outputs": [],
   "source": [
    "lr = 0.05\n",
    "const_lr = {\n",
    "    'learn_rate_start':lr, \n",
    "    'learn_rate_min':lr, \n",
    "    'learn_rate_base':1.0, \n",
    "}\n",
    "vary_lr_H2 = {\n",
    "    'learn_rate_start':lr, \n",
    "    'learn_rate_min':0.00001, \n",
    "    'learn_rate_steps':500, \n",
    "    'learn_rate_base':0.8\n",
    "}\n",
    "qm_model = qnm.Ix0_dS5x5_O3x5\n"
   ]
  },
  {
   "cell_type": "code",
   "execution_count": null,
   "metadata": {
    "collapsed": false,
    "scrolled": false
   },
   "outputs": [
    {
     "name": "stdout",
     "output_type": "stream",
     "text": [
      "root name: A2_maxmeanloss\n",
      "train/test/validation size: 5841/650/741 \n",
      "batch size: 256\n",
      "number of batches: 23\n",
      "training set: ['HH', 'HHe+', 'HLi', 'HBe+', 'HeHe', 'HeLi+', 'HeBe', 'LiLi', 'LiBe+', 'BeBe']\n",
      "validation: HLi\n",
      "learning rate min: 1e-05\n",
      "learning rate steps: 500\n",
      "learning rate start: 0.01\n",
      "learning rate base: 0.8\n",
      "print step: 200\n",
      "threshold: 0.001\n",
      "maxiter: 100000\n",
      "execuate time: 2017/09/29 21:47:17\n",
      "\n",
      "\n",
      "start from scratch...\n",
      "\n",
      "epoch:   200 train/test/validatoin error: 14.005297/2.790205/0.945124 at rate 0.009150\n",
      "epoch:   400 train/test/validatoin error: 1.393749/1.305566/1.612523 at rate 0.008369\n",
      "epoch:   600 train/test/validatoin error: 1.955109/0.726250/2.494710 at rate 0.007654\n",
      "epoch:   800 train/test/validatoin error: 0.942317/0.838062/2.451640 at rate 0.007001\n",
      "epoch:  1000 train/test/validatoin error: 0.319420/0.237261/3.334588 at rate 0.006403\n",
      "epoch:  1200 train/test/validatoin error: 0.657893/0.476290/1.354655 at rate 0.005856\n",
      "epoch:  1400 train/test/validatoin error: 0.490972/0.354160/3.305475 at rate 0.005356\n",
      "epoch:  1600 train/test/validatoin error: 0.325757/0.238136/1.508132 at rate 0.004899\n",
      "epoch:  1800 train/test/validatoin error: 0.086737/0.076855/1.024635 at rate 0.004480\n",
      "epoch:  2000 train/test/validatoin error: 0.995305/1.713256/1.216396 at rate 0.004098\n",
      "epoch:  2200 train/test/validatoin error: 2.263582/2.748297/1.367118 at rate 0.003748\n",
      "epoch:  2400 train/test/validatoin error: 0.244439/0.203512/1.518024 at rate 0.003428\n",
      "epoch:  2600 train/test/validatoin error: 0.073225/0.068421/2.410384 at rate 0.003135\n",
      "epoch:  2800 train/test/validatoin error: 0.067001/0.066092/0.680363 at rate 0.002867\n",
      "epoch:  3000 train/test/validatoin error: 0.082360/0.070659/0.964714 at rate 0.002623\n",
      "epoch:  3200 train/test/validatoin error: 0.062713/0.062247/0.964039 at rate 0.002399\n",
      "epoch:  3400 train/test/validatoin error: 0.066837/0.063786/0.617947 at rate 0.002194\n",
      "epoch:  3600 train/test/validatoin error: 0.064055/0.057952/0.717062 at rate 0.002007\n",
      "epoch:  3800 train/test/validatoin error: 0.065738/0.062614/0.732999 at rate 0.001835\n",
      "epoch:  4000 train/test/validatoin error: 0.061799/0.055259/0.891475 at rate 0.001678\n",
      "epoch:  4200 train/test/validatoin error: 0.063913/0.062474/0.614036 at rate 0.001535\n",
      "epoch:  4400 train/test/validatoin error: 0.060330/0.060580/0.695053 at rate 0.001404\n",
      "epoch:  4600 train/test/validatoin error: 0.045946/0.045769/2.140653 at rate 0.001284\n",
      "epoch:  4800 train/test/validatoin error: 0.063624/0.062870/3.398208 at rate 0.001175\n",
      "epoch:  5000 train/test/validatoin error: 0.060733/0.061317/0.856276 at rate 0.001074\n",
      "epoch:  5200 train/test/validatoin error: 0.062992/0.059329/0.569262 at rate 0.000982\n",
      "epoch:  5400 train/test/validatoin error: 0.111218/0.065584/5.942750 at rate 0.000899\n",
      "epoch:  5600 train/test/validatoin error: 0.059964/0.057135/2.063775 at rate 0.000822\n",
      "epoch:  5800 train/test/validatoin error: 0.051180/0.050419/6.776269 at rate 0.000752\n",
      "epoch:  6000 train/test/validatoin error: 0.059641/0.061110/1.362605 at rate 0.000688\n",
      "epoch:  6200 train/test/validatoin error: 0.046791/0.046430/2.400807 at rate 0.000629\n",
      "epoch:  6400 train/test/validatoin error: 0.045565/0.045124/4.696909 at rate 0.000575\n",
      "epoch:  6600 train/test/validatoin error: 0.046310/0.044339/2.748158 at rate 0.000526\n",
      "epoch:  6800 train/test/validatoin error: 0.044223/0.043689/2.203193 at rate 0.000481\n",
      "epoch:  7000 train/test/validatoin error: 0.043907/0.043060/1.469091 at rate 0.000440\n",
      "epoch:  7200 train/test/validatoin error: 0.044059/0.042068/0.729289 at rate 0.000402\n",
      "epoch:  7400 train/test/validatoin error: 0.043497/0.042126/0.976320 at rate 0.000368\n",
      "epoch:  7600 train/test/validatoin error: 0.043857/0.042605/0.763747 at rate 0.000337\n",
      "epoch:  7800 train/test/validatoin error: 0.043348/0.042087/0.715754 at rate 0.000308\n",
      "epoch:  8000 train/test/validatoin error: 0.043115/0.041212/0.736872 at rate 0.000282\n",
      "epoch:  8200 train/test/validatoin error: 0.042999/0.040851/0.715346 at rate 0.000258\n",
      "epoch:  8400 train/test/validatoin error: 0.043816/0.041541/0.839271 at rate 0.000236\n",
      "epoch:  8600 train/test/validatoin error: 0.043121/0.040820/0.770041 at rate 0.000215\n",
      "epoch:  8800 train/test/validatoin error: 0.042587/0.040629/0.826199 at rate 0.000197\n",
      "epoch:  9000 train/test/validatoin error: 0.042313/0.040219/0.846392 at rate 0.000180\n",
      "epoch:  9200 train/test/validatoin error: 0.042593/0.040496/0.876961 at rate 0.000165\n",
      "epoch:  9400 train/test/validatoin error: 0.041314/0.039418/0.868688 at rate 0.000151\n",
      "epoch:  9600 train/test/validatoin error: 0.040879/0.039602/0.884336 at rate 0.000138\n",
      "epoch:  9800 train/test/validatoin error: 0.042693/0.039102/0.882098 at rate 0.000126\n",
      "epoch: 10000 train/test/validatoin error: 0.040901/0.038939/0.901026 at rate 0.000115\n",
      "epoch: 10200 train/test/validatoin error: 0.040671/0.054552/0.963914 at rate 0.000105\n",
      "epoch: 10400 train/test/validatoin error: 0.040306/0.038393/1.094243 at rate 0.000096\n",
      "epoch: 10600 train/test/validatoin error: 0.040095/0.037802/1.040324 at rate 0.000088\n",
      "epoch: 10800 train/test/validatoin error: 0.040199/0.037746/1.044410 at rate 0.000081\n",
      "epoch: 11000 train/test/validatoin error: 0.041278/0.037663/1.047490 at rate 0.000074\n",
      "epoch: 11200 train/test/validatoin error: 0.038176/0.038150/0.990093 at rate 0.000068\n",
      "epoch: 11400 train/test/validatoin error: 0.039518/0.037612/1.074422 at rate 0.000062\n",
      "epoch: 11600 train/test/validatoin error: 0.041222/0.036306/1.009097 at rate 0.000056\n",
      "epoch: 11800 train/test/validatoin error: 0.037030/0.036003/1.016204 at rate 0.000052\n",
      "epoch: 12000 train/test/validatoin error: 0.036748/0.035629/1.064172 at rate 0.000047\n",
      "epoch: 12200 train/test/validatoin error: 0.053394/0.035799/1.069498 at rate 0.000043\n",
      "epoch: 12400 train/test/validatoin error: 0.036343/0.035631/1.072928 at rate 0.000040\n",
      "epoch: 12600 train/test/validatoin error: 0.050427/0.035456/1.091653 at rate 0.000036\n",
      "epoch: 12800 train/test/validatoin error: 0.128162/0.121130/1.265988 at rate 0.000033\n",
      "epoch: 13000 train/test/validatoin error: 0.054931/0.037370/1.118226 at rate 0.000030\n",
      "epoch: 13200 train/test/validatoin error: 0.037347/0.036573/1.089021 at rate 0.000028\n",
      "epoch: 13400 train/test/validatoin error: 0.036123/0.035141/1.128077 at rate 0.000025\n",
      "epoch: 13600 train/test/validatoin error: 0.049112/0.035147/1.128940 at rate 0.000023\n",
      "epoch: 13800 train/test/validatoin error: 0.044762/0.034873/1.134353 at rate 0.000021\n",
      "epoch: 14000 train/test/validatoin error: 0.035818/0.035038/1.138374 at rate 0.000019\n",
      "epoch: 14200 train/test/validatoin error: 0.036258/0.035182/1.179776 at rate 0.000018\n"
     ]
    }
   ],
   "source": [
    "tf.reset_default_graph()\n",
    "\n",
    "# train(qm_model, 'H2_deep_test2', valid_ind=0, train_list=[0], \n",
    "#       from_scratch=False, batch_size=128, print_step=200, **vary_lr_H2)\n",
    "#train('increment_test', valid_ind=2, train_list=[0, 1, 3], \n",
    "#      from_scratch=False, batch_size=256, print_step=200, **vary_lr)\n",
    "train(qm_model, 'A2_maxmeanloss', valid_ind=2, from_scratch=False, batch_size=256, print_step=200, **vary_lr)"
   ]
  },
  {
   "cell_type": "code",
   "execution_count": 92,
   "metadata": {
    "collapsed": false
   },
   "outputs": [],
   "source": [
    "#qtk.save([train_err_hist, test_err_hist, valid_err_hist, C_valid_hist, C_test_hist, learn_rate_hist], \"%s_hist.pkl\" % root_name)\n",
    "\n",
    "data = qtk.load('H2_deep_test_hist.pkl')\n",
    "err_train, err_test, err_valid, C_valid_hist, C_test_hist, learn_rate_hist = data"
   ]
  },
  {
   "cell_type": "code",
   "execution_count": 97,
   "metadata": {
    "collapsed": false
   },
   "outputs": [],
   "source": [
    "def get_C_prd(model_file_name, inp_valid):\n",
    "    I_v, Er_v, occ_v, nn_v, C_v, y_v = tfIO_batch(inp_valid, 8000)\n",
    "    \n",
    "    tf.reset_default_graph()\n",
    "    g = tf.Graph()\n",
    "\n",
    "    with g.as_default():\n",
    "        y_prd, C_prd, param = qmnet_model(g)\n",
    "        I, Er, occ, nn, keep_prob = param\n",
    "        saver = tf.train.Saver()\n",
    "        with tf.Session() as sess:\n",
    "            saver.restore(sess, model_file_name)\n",
    "            valid_dict = {I:I_v[0], Er:Er_v[0], occ:occ_v[0], nn:nn_v[0], keep_prob:1.0}\n",
    "            return sess.run([C_prd, y_prd], feed_dict=valid_dict)"
   ]
  },
  {
   "cell_type": "code",
   "execution_count": 99,
   "metadata": {
    "collapsed": false
   },
   "outputs": [
    {
     "name": "stdout",
     "output_type": "stream",
     "text": [
      "INFO:tensorflow:Restoring parameters from A2_deep_test.ckpt\n"
     ]
    },
    {
     "data": {
      "text/plain": [
       "[<matplotlib.lines.Line2D at 0x7f30e29bbed0>]"
      ]
     },
     "execution_count": 99,
     "metadata": {},
     "output_type": "execute_result"
    },
    {
     "data": {
      "image/png": "[encoded data removed]",
      "text/plain": [
       "<matplotlib.figure.Figure at 0x7f30e2b250d0>"
      ]
     },
     "metadata": {},
     "output_type": "display_data"
    }
   ],
   "source": [
    "C_prd, E_prd = get_C_prd('H2_deep_test.ckpt', inp_test)\n",
    "E_tar = np.array([inp.Et for inp in inp_train])\n",
    "R_tar = np.array([inp.molecule.R[1,0] for inp in inp_train])\n",
    "R_prd = np.array([inp.molecule.R[1,0] for inp in inp_test])\n",
    "\n",
    "plt.plot(R_tar, E_tar, ls='', marker='.')\n",
    "plt.plot(R_prd, E_prd, ls='', marker='x')"
   ]
  },
  {
   "cell_type": "code",
   "execution_count": 55,
   "metadata": {
    "collapsed": true
   },
   "outputs": [],
   "source": [
    "# def train(root_name='model', learn_rate=0.001, valid_ind=2, \n",
    "#           train_list=range(len(inp_grp)), print_step=5, from_scratch=False,\n",
    "#           threshold=1E-5, maxiter=100000\n",
    "#          ):\n",
    "\n",
    "total_list = range(10)\n",
    "tags = [str(i) for i in range(1, 10)]\n",
    "inds = [total_list[:i] for i in range(1, 10)]\n",
    "\n",
    "del tags[2]\n",
    "del inds[2]\n",
    "\n",
    "for i in range(len(tags)):\n",
    "    tag = tags[i]\n",
    "    ind = inds[i]\n",
    "    train('increment_full_2-%s' % tag, 0.02, 2, ind, 10)"
   ]
  },
  {
   "cell_type": "code",
   "execution_count": null,
   "metadata": {
    "collapsed": true
   },
   "outputs": [],
   "source": []
  }
 ],
 "metadata": {
  "kernelspec": {
   "display_name": "Python 2",
   "language": "python",
   "name": "python2"
  },
  "language_info": {
   "codemirror_mode": {
    "name": "ipython",
    "version": 2
   },
   "file_extension": ".py",
   "mimetype": "text/x-python",
   "name": "python",
   "nbconvert_exporter": "python",
   "pygments_lexer": "ipython2",
   "version": "2.7.13"
  }
 },
 "nbformat": 4,
 "nbformat_minor": 2
}
