{
 "cells": [
  {
   "cell_type": "code",
   "execution_count": 1,
   "metadata": {
    "collapsed": false
   },
   "outputs": [],
   "source": [
    "import qctoolkit as qtk\n",
    "import numpy as np\n",
    "from matplotlib import pyplot as plt\n",
    "from IPython.display import clear_output\n",
    "import re\n",
    "from datetime import datetime\n",
    "import qmnet_model as qnm\n",
    "import qmnet_tools as qnt\n",
    "import qmnet_train as qntrain\n",
    "import tensorflow as tf\n",
    "from IPython.core.debugger import Tracer\n",
    "\n",
    "%matplotlib inline\n",
    "\n",
    "clear_output()"
   ]
  },
  {
   "cell_type": "code",
   "execution_count": 2,
   "metadata": {
    "collapsed": true
   },
   "outputs": [],
   "source": [
    "from horton import GOBasisFamily\n",
    "#basis = GOBasisFamily('basis', filename='basis/sto2g/H_Ne_uncontracted.nwchem')\n",
    "#basis = '3-21g'\n",
    "#basis = 'sto-3g'\n",
    "#basis = GOBasisFamily('H_He_basis', filename='basis/sto6g/H_Ne.nwchem')\n",
    "basis = GOBasisFamily('H_He_basis', filename='basis/sto6g/H_Be-s.nwchem')\n",
    "\n",
    "resolution = 0.005\n",
    "batch_size = 30000"
   ]
  },
  {
   "cell_type": "code",
   "execution_count": 5,
   "metadata": {
    "collapsed": true
   },
   "outputs": [],
   "source": [
    "molstr_list = [\n",
    "    'HH',\n",
    "#     'HHe+',\n",
    "#     'HLi',\n",
    "#     'HBe+',\n",
    "#     'HeHe',\n",
    "#     'HeLi+',\n",
    "#     'HeBe',\n",
    "#     'LiLi',\n",
    "#     'LiBe+',\n",
    "#     'BeBe',\n",
    "]"
   ]
  },
  {
   "cell_type": "code",
   "execution_count": 6,
   "metadata": {
    "collapsed": false
   },
   "outputs": [
    {
     "name": "stdout",
     "output_type": "stream",
     "text": [
      "H2_4.0 finished\n",
      "[741]\n"
     ]
    }
   ],
   "source": [
    "inp_grp = []\n",
    "#inp_dump = []\n",
    "for molstr in molstr_list:\n",
    "    if '+' in molstr:\n",
    "        charge = 1\n",
    "    elif '-' in molstr:\n",
    "        charge = -1\n",
    "    else:\n",
    "        charge = 0\n",
    "    alist = re.findall('[A-Z][a-z]*', molstr)\n",
    "    Zs = [qtk.n2Z(a) for a in alist]\n",
    "    inp_list = []\n",
    "    inp_grp.append(inp_list)\n",
    "    #inp_dump.append(inp_list)\n",
    "    res = resolution\n",
    "    for R in np.arange(0.3, 4.0 + res, res):\n",
    "        mol = qtk.Molecule()\n",
    "        ZR = [[Zs[0], 0,0,0], [Zs[1], R, 0, 0]]\n",
    "        mol.build(ZR)\n",
    "        mol.charge = charge\n",
    "        mol.name = mol.name + '_%s' % str(R)\n",
    "        inp = qtk.QMInp(mol, program='horton', basis_set=basis, scf_step=30)\n",
    "        try:\n",
    "            inp.run()\n",
    "            D, U = np.linalg.eigh(inp.olp)\n",
    "            inp.X = U / np.sqrt(D)\n",
    "            \n",
    "            # to save inps into pickle file\n",
    "            #inp.delete_ht_types()\n",
    "            #inp.delete_matrices()\n",
    "            \n",
    "            inp_list.append(inp)\n",
    "        except:\n",
    "            pass\n",
    "    print \"%s finished\" % mol.name\n",
    "print [len(inp) for inp in inp_grp]"
   ]
  },
  {
   "cell_type": "code",
   "execution_count": 7,
   "metadata": {
    "collapsed": false
   },
   "outputs": [
    {
     "data": {
      "text/plain": [
       "<matplotlib.legend.Legend at 0x7f63d81f9b10>"
      ]
     },
     "execution_count": 7,
     "metadata": {},
     "output_type": "execute_result"
    },
    {
     "data": {
      "image/png": "[encoded data removed]",
      "text/plain": [
       "<matplotlib.figure.Figure at 0x7f63d7f48b50>"
      ]
     },
     "metadata": {},
     "output_type": "display_data"
    }
   ],
   "source": [
    "for i in range(len(inp_grp)):\n",
    "    inp = inp_grp[i]\n",
    "    E = np.array([o.Et for o in inp])\n",
    "    E = E-E[-1]\n",
    "    R = [o.molecule.R[1,0] for o in inp]\n",
    "    #print E\n",
    "    plt.plot(R, E, label=molstr_list[i])\n",
    "plt.ylim(-0.35, 0.001)\n",
    "plt.legend()"
   ]
  },
  {
   "cell_type": "code",
   "execution_count": 11,
   "metadata": {
    "collapsed": false
   },
   "outputs": [
    {
     "data": {
      "text/plain": [
       "(4, 4)"
      ]
     },
     "execution_count": 11,
     "metadata": {},
     "output_type": "execute_result"
    }
   ],
   "source": [
    "inp_grp[0][0].olp.shape"
   ]
  },
  {
   "cell_type": "code",
   "execution_count": 8,
   "metadata": {
    "collapsed": false
   },
   "outputs": [
    {
     "name": "stdout",
     "output_type": "stream",
     "text": [
      "-0.730430578246\n",
      "-0.730430578246\n"
     ]
    }
   ],
   "source": [
    "inp = inp_grp[0][5]\n",
    "I_np, Er_np, occ, nn = qnt.get_input_tensor(inp)\n",
    "C = inp.ht_exp_alpha.coeffs.__array__()\n",
    "print qnt.get_output(I_np, Er_np, occ, nn, C)\n",
    "print inp.Et"
   ]
  },
  {
   "cell_type": "code",
   "execution_count": 9,
   "metadata": {
    "collapsed": false
   },
   "outputs": [
    {
     "name": "stdout",
     "output_type": "stream",
     "text": [
      "(3, 7, 4, 4)\n",
      "(75, 7, 4, 4)\n",
      "(666, 7, 4, 4)\n",
      "(43, 86, 413, 740)\n"
     ]
    }
   ],
   "source": [
    "reload(qnt)\n",
    "inp_train, inp_test, inp_valid = qnt.train_test_valid(inp_grp, 0, [0])\n",
    "# print len(inp_train), len(inp_test), len(inp_valid)\n",
    "I_train, Er_train, occ_train, nn_train, C_train, y_train = qnt.tfIO_batch(inp_train, batch_size)\n",
    "I_test, Er_test, occ_test, nn_test, C_test, y_test = qnt.tfIO_batch(inp_test, batch_size)\n",
    "I_valid, Er_valid, occ_valid, nn_valid, C_valid, y_valid = qnt.tfIO_batch(inp_valid, batch_size)\n",
    "\n",
    "I_valid2, Er_valid2, occ_valid2, nn_valid2, C_valid2, y_valid2 = qnt.tfIO(inp_valid, [1,3,5])\n",
    "print I_valid2.shape\n",
    "print I_test[0].shape\n",
    "print I_train[0].shape\n",
    "print qnt.validation_inds(inp_valid)"
   ]
  },
  {
   "cell_type": "code",
   "execution_count": 69,
   "metadata": {
    "collapsed": false
   },
   "outputs": [],
   "source": [
    "lr = 0.001\n",
    "const_lr = {\n",
    "    'learn_rate_start':0.1, \n",
    "    'learn_rate_min':lr, \n",
    "    'learn_rate_base':1.0, \n",
    "}\n",
    "vary_lr_H2 = {\n",
    "    'learn_rate_start':0.001, \n",
    "    'learn_rate_min':0.000001, \n",
    "    'learn_rate_steps':100, \n",
    "    'learn_rate_base':0.8\n",
    "}\n",
    "\n",
    "vary_lr = {\n",
    "    'learn_rate_start':0.001, \n",
    "    'learn_rate_min':0.00005, \n",
    "    'learn_rate_steps':500, \n",
    "    'learn_rate_base':0.8\n",
    "}\n",
    "\n",
    "reload(qnt)\n",
    "reload(qnm)\n",
    "reload(qnm.qnl)\n",
    "reload(qntrain)\n",
    "train = qntrain.train\n",
    "#qm_model = qnm.I0_S2x5_O1x3\n",
    "#qm_model = qnm.Ix0_dS5x5_O3x5\n",
    "qm_model = qnm.I0_S1x2_d_S1x2_O1x3\n",
    "#qm_model = qnm.I3_S3O3x5d_S3O3x5_O3x3\n",
    "#qm_model = qnm.I3_S5x10_d_S5x5_dS2_O3x5\n",
    "#qm_model = qnm.Ix3_R5_O2\n",
    "#qm_model = qnm.Ix3_R5h2b_O2\n",
    "#qm_model = qnm.Ix3_R3h2b_R5h1b_O2\n",
    "#qm_model = qnm.I2_R5h2b_d_R3h1b_d_R2h1b_O5\n",
    "#qm_model = qnm.Fock_error_test\n",
    "#qm_model = qnm.Ix0_dS5x5_O3x5\n",
    "#qm_model = qnm.I2_R5h2b_R3h1b_O2"
   ]
  },
  {
   "cell_type": "code",
   "execution_count": 70,
   "metadata": {
    "collapsed": false,
    "scrolled": false
   },
   "outputs": [
    {
     "name": "stdout",
     "output_type": "stream",
     "text": [
      "root name: H2_simple_test1\n",
      "model: <function I0_S1x2_d_S1x2_O1x3 at 0x7f62e9d9d488>\n",
      "train/test/validation size: 666/75/741 \n",
      "optimizer: <class 'tensorflow.python.training.adam.AdamOptimizer'>\n",
      "reg_scale: 0.0\n",
      "keep_prob: 1.0\n",
      "batch size: 16\n",
      "number of batches: 42\n",
      "learning rate min: 1e-06\n",
      "learning rate steps: 100\n",
      "learning rate start: 0.001\n",
      "learning rate base: 0.8\n",
      "print step: 50\n",
      "history step: 1\n",
      "threshold: 1e-05\n",
      "maxiter: 100000\n",
      "execuate time: 2017/10/10 15:32:34\n",
      "\n",
      "\n",
      "INFO:tensorflow:Restoring parameters from H2_simple_test1.ckpt\n",
      "no model found, or reload failed, start from scratch\n",
      "\n",
      "epoch:    50 train/test/validatoin error: 0.004357/0.004947/0.004413 at rate 0.000896\n",
      "epoch:   100 train/test/validatoin error: 0.001922/0.001843/0.001777 at rate 0.000802\n",
      "epoch:   150 train/test/validatoin error: 0.002676/0.004544/0.004090 at rate 0.000717\n",
      "epoch:   200 train/test/validatoin error: 0.005398/0.003405/0.004596 at rate 0.000641\n",
      "epoch:   200 train/test/validatoin error: 0.005398/0.003405/0.004596 at rate 0.000641\n",
      "Model and history backup\n",
      "\n",
      "epoch:   250 train/test/validatoin error: 0.000964/0.001604/0.001115 at rate 0.000574\n",
      "epoch:   300 train/test/validatoin error: 0.000376/0.000425/0.000396 at rate 0.000513\n",
      "epoch:   350 train/test/validatoin error: 0.002281/0.002557/0.002162 at rate 0.000459\n",
      "epoch:   400 train/test/validatoin error: 0.001575/0.001470/0.001527 at rate 0.000411\n",
      "epoch:   400 train/test/validatoin error: 0.001575/0.001470/0.001527 at rate 0.000411\n",
      "Model and history backup\n",
      "\n",
      "epoch:   450 train/test/validatoin error: 0.001568/0.002481/0.002227 at rate 0.000367\n",
      "epoch:   500 train/test/validatoin error: 0.000828/0.000941/0.000826 at rate 0.000328\n",
      "epoch:   550 train/test/validatoin error: 0.000627/0.000684/0.000654 at rate 0.000294\n",
      "epoch:   600 train/test/validatoin error: 0.000192/0.000166/0.000196 at rate 0.000263\n",
      "epoch:   600 train/test/validatoin error: 0.000192/0.000166/0.000196 at rate 0.000263\n",
      "Model and history backup\n",
      "\n",
      "epoch:   650 train/test/validatoin error: 0.000616/0.000333/0.000565 at rate 0.000235\n",
      "epoch:   700 train/test/validatoin error: 0.000231/0.000076/0.000202 at rate 0.000210\n",
      "epoch:   750 train/test/validatoin error: 0.001923/0.001188/0.001700 at rate 0.000188\n",
      "epoch:   800 train/test/validatoin error: 0.000926/0.000509/0.000712 at rate 0.000168\n",
      "epoch:   800 train/test/validatoin error: 0.000926/0.000509/0.000712 at rate 0.000168\n",
      "Model and history backup\n",
      "\n",
      "epoch:   850 train/test/validatoin error: 0.000382/0.000083/0.000287 at rate 0.000150\n",
      "epoch:   900 train/test/validatoin error: 0.000112/0.000043/0.000105 at rate 0.000135\n",
      "epoch:   950 train/test/validatoin error: 0.000067/0.000056/0.000070 at rate 0.000120\n",
      "epoch:  1000 train/test/validatoin error: 0.000172/0.000160/0.000165 at rate 0.000108\n",
      "epoch:  1000 train/test/validatoin error: 0.000172/0.000160/0.000165 at rate 0.000108\n",
      "Model and history backup\n",
      "\n",
      "epoch:  1050 train/test/validatoin error: 0.000019/0.000013/0.000018 at rate 0.000096\n",
      "epoch:  1100 train/test/validatoin error: 0.000013/0.000007/0.000013 at rate 0.000086\n",
      "Model saved in file: H2_simple_test1.ckpt\n",
      "\n",
      "optimization history saved\n",
      "session and log file closed\n"
     ]
    }
   ],
   "source": [
    "tf.reset_default_graph()\n",
    "\n",
    "train(qm_model, inp_grp, 'H2_simple_test1', valid_ind=0, train_list=[0], threshold=1E-5,\n",
    "      from_scratch=False, batch_size=16, print_step=50, kp=1.0, save_step=200,\n",
    "      #loss='fock_occ', \n",
    "      **vary_lr_H2)\n",
    "#train('increment_test', valid_ind=2, train_list=[0, 1, 3], \n",
    "#      from_scratch=False, batch_size=256, print_step=200, **vary_lr)\n",
    "# train(qm_model, inp_grp, 'A2_rnn_test', valid_ind=2, from_scratch=False, batch_size=256, \n",
    "#       print_step=200, threshold=1E-4, **vary_lr)"
   ]
  },
  {
   "cell_type": "code",
   "execution_count": 28,
   "metadata": {
    "collapsed": false
   },
   "outputs": [],
   "source": [
    "#qtk.save([train_err_hist, test_err_hist, valid_err_hist, C_valid_hist, C_test_hist, learn_rate_hist], \"%s_hist.pkl\" % root_name)\n",
    "\n",
    "data = qtk.load('H2_deep_test_hist.pkl')\n",
    "err_train, err_test, err_valid, C_valid_hist, C_test_hist, learn_rate_hist = data"
   ]
  },
  {
   "cell_type": "code",
   "execution_count": 97,
   "metadata": {
    "collapsed": false
   },
   "outputs": [],
   "source": [
    "def get_C_prd(model_file_name, inp_valid):\n",
    "    I_v, Er_v, occ_v, nn_v, C_v, y_v = tfIO_batch(inp_valid, 8000)\n",
    "    \n",
    "    tf.reset_default_graph()\n",
    "    g = tf.Graph()\n",
    "\n",
    "    with g.as_default():\n",
    "        y_prd, C_prd, param = qmnet_model(g)\n",
    "        I, Er, occ, nn, keep_prob = param\n",
    "        saver = tf.train.Saver()\n",
    "        with tf.Session() as sess:\n",
    "            saver.restore(sess, model_file_name)\n",
    "            valid_dict = {I:I_v[0], Er:Er_v[0], occ:occ_v[0], nn:nn_v[0], keep_prob:1.0}\n",
    "            return sess.run([C_prd, y_prd], feed_dict=valid_dict)"
   ]
  },
  {
   "cell_type": "code",
   "execution_count": 99,
   "metadata": {
    "collapsed": false
   },
   "outputs": [
    {
     "name": "stdout",
     "output_type": "stream",
     "text": [
      "INFO:tensorflow:Restoring parameters from A2_deep_test.ckpt\n"
     ]
    },
    {
     "data": {
      "text/plain": [
       "[<matplotlib.lines.Line2D at 0x7f30e29bbed0>]"
      ]
     },
     "execution_count": 99,
     "metadata": {},
     "output_type": "execute_result"
    },
    {
     "data": {
      "image/png": "[encoded data removed]",
      "text/plain": [
       "<matplotlib.figure.Figure at 0x7f30e2b250d0>"
      ]
     },
     "metadata": {},
     "output_type": "display_data"
    }
   ],
   "source": [
    "C_prd, E_prd = get_C_prd('H2_deep_test.ckpt', inp_test)\n",
    "E_tar = np.array([inp.Et for inp in inp_train])\n",
    "R_tar = np.array([inp.molecule.R[1,0] for inp in inp_train])\n",
    "R_prd = np.array([inp.molecule.R[1,0] for inp in inp_test])\n",
    "\n",
    "plt.plot(R_tar, E_tar, ls='', marker='.')\n",
    "plt.plot(R_prd, E_prd, ls='', marker='x')"
   ]
  },
  {
   "cell_type": "code",
   "execution_count": 55,
   "metadata": {
    "collapsed": true
   },
   "outputs": [],
   "source": [
    "# def train(root_name='model', learn_rate=0.001, valid_ind=2, \n",
    "#           train_list=range(len(inp_grp)), print_step=5, from_scratch=False,\n",
    "#           threshold=1E-5, maxiter=100000\n",
    "#          ):\n",
    "\n",
    "total_list = range(10)\n",
    "tags = [str(i) for i in range(1, 10)]\n",
    "inds = [total_list[:i] for i in range(1, 10)]\n",
    "\n",
    "del tags[2]\n",
    "del inds[2]\n",
    "\n",
    "for i in range(len(tags)):\n",
    "    tag = tags[i]\n",
    "    ind = inds[i]\n",
    "    train('increment_full_2-%s' % tag, 0.02, 2, ind, 10)"
   ]
  },
  {
   "cell_type": "code",
   "execution_count": null,
   "metadata": {
    "collapsed": true
   },
   "outputs": [],
   "source": []
  }
 ],
 "metadata": {
  "kernelspec": {
   "display_name": "Python 2",
   "language": "python",
   "name": "python2"
  },
  "language_info": {
   "codemirror_mode": {
    "name": "ipython",
    "version": 2
   },
   "file_extension": ".py",
   "mimetype": "text/x-python",
   "name": "python",
   "nbconvert_exporter": "python",
   "pygments_lexer": "ipython2",
   "version": "2.7.13"
  }
 },
 "nbformat": 4,
 "nbformat_minor": 2
}
