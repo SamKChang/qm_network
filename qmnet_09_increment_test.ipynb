{
 "cells": [
  {
   "cell_type": "code",
   "execution_count": 1,
   "metadata": {
    "collapsed": false
   },
   "outputs": [],
   "source": [
    "import qctoolkit as qtk\n",
    "import numpy as np\n",
    "from matplotlib import pyplot as plt\n",
    "from IPython.display import clear_output\n",
    "import re\n",
    "from datetime import datetime\n",
    "import qmnet_model as qnm\n",
    "import qmnet_tools as qnt\n",
    "import qmnet_train as qntrain\n",
    "import tensorflow as tf\n",
    "from IPython.core.debugger import Tracer\n",
    "\n",
    "%matplotlib inline\n",
    "\n",
    "clear_output()"
   ]
  },
  {
   "cell_type": "code",
   "execution_count": 2,
   "metadata": {
    "collapsed": true
   },
   "outputs": [],
   "source": [
    "from horton import GOBasisFamily\n",
    "#basis = GOBasisFamily('basis', filename='basis/sto2g/H_Ne_uncontracted.nwchem')\n",
    "#basis = '3-21g'\n",
    "#basis = 'sto-3g'\n",
    "#basis = GOBasisFamily('H_He_basis', filename='basis/sto6g/H_Ne.nwchem')\n",
    "basis = GOBasisFamily('H_He_basis', filename='basis/sto6g/H_Be-s.nwchem')\n",
    "\n",
    "resolution = 0.005\n",
    "batch_size = 30000"
   ]
  },
  {
   "cell_type": "code",
   "execution_count": 3,
   "metadata": {
    "collapsed": true
   },
   "outputs": [],
   "source": [
    "molstr_list = [\n",
    "    'HH',\n",
    "    'HHe+',\n",
    "    'HLi',\n",
    "    'HBe+',\n",
    "    'HeHe',\n",
    "    'HeLi+',\n",
    "    'HeBe',\n",
    "    'LiLi',\n",
    "    'LiBe+',\n",
    "    'BeBe',\n",
    "]"
   ]
  },
  {
   "cell_type": "code",
   "execution_count": 4,
   "metadata": {
    "collapsed": false
   },
   "outputs": [
    {
     "name": "stdout",
     "output_type": "stream",
     "text": [
      "H2_4.0 finished\n",
      "H1He1_4.0 finished\n",
      "H1Li1_4.0 finished\n",
      "H1Be1_4.0 finished\n",
      "He2_4.0 finished\n",
      "He1Li1_4.0 finished\n",
      "He1Be1_4.0 finished\n",
      "Li2_4.0 finished\n",
      "Li1Be1_4.0 finished\n",
      "Be2_4.0 finished\n",
      "[741, 741, 741, 563, 741, 741, 741, 741, 741, 741]\n"
     ]
    }
   ],
   "source": [
    "inp_grp = []\n",
    "#inp_dump = []\n",
    "for molstr in molstr_list:\n",
    "    if '+' in molstr:\n",
    "        charge = 1\n",
    "    elif '-' in molstr:\n",
    "        charge = -1\n",
    "    else:\n",
    "        charge = 0\n",
    "    alist = re.findall('[A-Z][a-z]*', molstr)\n",
    "    Zs = [qtk.n2Z(a) for a in alist]\n",
    "    inp_list = []\n",
    "    inp_grp.append(inp_list)\n",
    "    #inp_dump.append(inp_list)\n",
    "    res = resolution\n",
    "    for R in np.arange(0.3, 4.0 + res, res):\n",
    "        mol = qtk.Molecule()\n",
    "        ZR = [[Zs[0], 0,0,0], [Zs[1], R, 0, 0]]\n",
    "        mol.build(ZR)\n",
    "        mol.charge = charge\n",
    "        mol.name = mol.name + '_%s' % str(R)\n",
    "        inp = qtk.QMInp(mol, program='horton', basis_set=basis, scf_step=30)\n",
    "        try:\n",
    "            inp.run()\n",
    "            D, U = np.linalg.eigh(inp.olp)\n",
    "            inp.X = U / np.sqrt(D)\n",
    "            \n",
    "            # to save inps into pickle file\n",
    "            #inp.delete_ht_types()\n",
    "            #inp.delete_matrices()\n",
    "            \n",
    "            inp_list.append(inp)\n",
    "        except:\n",
    "            pass\n",
    "    print \"%s finished\" % mol.name\n",
    "print [len(inp) for inp in inp_grp]"
   ]
  },
  {
   "cell_type": "code",
   "execution_count": 5,
   "metadata": {
    "collapsed": false
   },
   "outputs": [
    {
     "data": {
      "text/plain": [
       "<matplotlib.legend.Legend at 0x7f904e023a10>"
      ]
     },
     "execution_count": 5,
     "metadata": {},
     "output_type": "execute_result"
    },
    {
     "data": {
      "image/png": "[encoded data removed]",
      "text/plain": [
       "<matplotlib.figure.Figure at 0x7f904e023150>"
      ]
     },
     "metadata": {},
     "output_type": "display_data"
    }
   ],
   "source": [
    "for i in range(len(inp_grp)):\n",
    "    inp = inp_grp[i]\n",
    "    E = np.array([o.Et for o in inp])\n",
    "    E = E-E[-1]\n",
    "    R = [o.molecule.R[1,0] for o in inp]\n",
    "    #print E\n",
    "    plt.plot(R, E, label=molstr_list[i])\n",
    "plt.ylim(-0.35, 0.001)\n",
    "plt.legend()"
   ]
  },
  {
   "cell_type": "code",
   "execution_count": 6,
   "metadata": {
    "collapsed": false
   },
   "outputs": [
    {
     "data": {
      "text/plain": [
       "(4, 4)"
      ]
     },
     "execution_count": 6,
     "metadata": {},
     "output_type": "execute_result"
    }
   ],
   "source": [
    "inp_grp[0][0].olp.shape"
   ]
  },
  {
   "cell_type": "code",
   "execution_count": 6,
   "metadata": {
    "collapsed": false
   },
   "outputs": [
    {
     "name": "stdout",
     "output_type": "stream",
     "text": [
      "-0.730430578246\n",
      "-0.730430578246\n"
     ]
    }
   ],
   "source": [
    "inp = inp_grp[0][5]\n",
    "I_np, Er_np, occ, nn = qnt.get_input_tensor(inp)\n",
    "C = inp.ht_exp_alpha.coeffs.__array__()\n",
    "print qnt.get_output(I_np, Er_np, occ, nn, C)\n",
    "print inp.Et"
   ]
  },
  {
   "cell_type": "code",
   "execution_count": 5,
   "metadata": {
    "collapsed": false
   },
   "outputs": [],
   "source": [
    "lr = 0.001\n",
    "const_lr = {\n",
    "    'learn_rate_start':0.1, \n",
    "    'learn_rate_min':lr, \n",
    "    'learn_rate_base':1.0, \n",
    "}\n",
    "vary_lr_H2 = {\n",
    "    'learn_rate_start':0.001, \n",
    "    'learn_rate_min':0.000001, \n",
    "    'learn_rate_steps':100, \n",
    "    'learn_rate_base':0.8\n",
    "}\n",
    "\n",
    "vary_lr_LiH = {\n",
    "    'learn_rate_start':0.001, \n",
    "    'learn_rate_min':0.00005, \n",
    "    'learn_rate_steps':300, \n",
    "    'learn_rate_base':0.8\n",
    "}\n",
    "\n",
    "vary_lr = {\n",
    "    'learn_rate_start':0.001, \n",
    "    'learn_rate_min':0.00005, \n",
    "    'learn_rate_steps':500, \n",
    "    'learn_rate_base':0.8\n",
    "}\n",
    "\n",
    "reload(qnt)\n",
    "reload(qnm)\n",
    "reload(qnm.qnl)\n",
    "reload(qntrain)\n",
    "reload(qntrain.qnt)\n",
    "train = qntrain.train\n",
    "#qm_model = qnm.I0_S2x5_O1x3\n",
    "#qm_model = qnm.Ix0_dS5x5_O3x5\n",
    "qm_model = qnm.I0_S1x2_d_S1x2_O1x3_SCF\n",
    "#qm_model = qnm.I3_S3O3x5d_S3O3x5_O3x3\n",
    "#qm_model = qnm.I3_S5x10_d_S5x5_dS2_O3x5\n",
    "#qm_model = qnm.Ix3_R5_O2\n",
    "#qm_model = qnm.Ix3_R5h2b_O2\n",
    "#qm_model = qnm.Ix3_R3h2b_R5h1b_O2\n",
    "#qm_model = qnm.I2_R5h2b_d_R3h1b_d_R2h1b_O5\n",
    "#qm_model = qnm.Fock_error_test\n",
    "#qm_model = qnm.Ix0_dS5x5_O3x5\n",
    "#qm_model = qnm.I2_R5h2b_R3h1b_O2"
   ]
  },
  {
   "cell_type": "code",
   "execution_count": 9,
   "metadata": {
    "collapsed": false,
    "scrolled": false
   },
   "outputs": [
    {
     "name": "stdout",
     "output_type": "stream",
     "text": [
      "root name: HHe_simple_SCF_test\n",
      "model: <function I0_S1x2_d_S1x2_O1x3_SCF at 0x7f9068e789b0>\n",
      "train/test/validation size: 666/75/741 \n",
      "optimizer: <class 'tensorflow.python.training.adam.AdamOptimizer'>\n",
      "reg_scale: 0.0\n",
      "keep_prob: 1.0\n",
      "batch size: 16\n",
      "number of batches: 42\n",
      "training set: ['HHe+']\n",
      "validation: HHe+\n",
      "learning rate min: 5e-05\n",
      "learning rate steps: 300\n",
      "learning rate start: 0.001\n",
      "learning rate base: 0.8\n",
      "print step: 50\n",
      "history step: 1\n",
      "threshold: 5e-05\n",
      "maxiter: 100000\n",
      "execuate time: 2017/10/14 15:02:13\n",
      "\n",
      "\n",
      "start from scratch...\n",
      "\n",
      "epoch:    50 train/test/validatoin error: 0.303754/0.232450/0.282469 at rate 0.000964\n",
      "epoch:   100 train/test/validatoin error: 0.175308/0.117476/0.149095 at rate 0.000929\n",
      "epoch:   150 train/test/validatoin error: 0.047950/0.042857/0.049858 at rate 0.000895\n",
      "epoch:   200 train/test/validatoin error: 0.028432/0.023782/0.029251 at rate 0.000862\n",
      "Model and history backup\n",
      "\n",
      "epoch:   250 train/test/validatoin error: 0.023570/0.037147/0.024444 at rate 0.000831\n",
      "epoch:   300 train/test/validatoin error: 0.002541/0.001258/0.005766 at rate 0.000801\n",
      "epoch:   350 train/test/validatoin error: 0.011215/0.013232/0.010679 at rate 0.000771\n",
      "epoch:   400 train/test/validatoin error: 0.018699/0.035315/0.019949 at rate 0.000743\n",
      "Model and history backup\n",
      "\n",
      "epoch:   450 train/test/validatoin error: 0.007488/0.007867/0.007330 at rate 0.000716\n",
      "epoch:   500 train/test/validatoin error: 0.006600/0.007750/0.006842 at rate 0.000690\n",
      "epoch:   550 train/test/validatoin error: 0.006440/0.007614/0.006562 at rate 0.000665\n",
      "epoch:   600 train/test/validatoin error: 0.006294/0.007321/0.006382 at rate 0.000640\n",
      "Model and history backup\n",
      "\n",
      "epoch:   650 train/test/validatoin error: 0.003615/0.003742/0.003422 at rate 0.000617\n",
      "epoch:   700 train/test/validatoin error: 0.000236/0.000223/0.000206 at rate 0.000595\n",
      "epoch:   750 train/test/validatoin error: 0.000480/0.000822/0.000659 at rate 0.000573\n",
      "epoch:   800 train/test/validatoin error: 0.000107/0.000142/0.000114 at rate 0.000552\n",
      "Model and history backup\n",
      "\n",
      "epoch:   850 train/test/validatoin error: 0.000202/0.000147/0.000164 at rate 0.000532\n",
      "epoch:   900 train/test/validatoin error: 0.000069/0.000065/0.000162 at rate 0.000512\n",
      "epoch:   950 train/test/validatoin error: 0.000053/0.000049/0.000055 at rate 0.000494\n",
      "Model saved in file: HHe_simple_SCF_test.ckpt\n",
      "\n",
      "optimization history saved\n",
      "session and log file closed\n"
     ]
    }
   ],
   "source": [
    "tf.reset_default_graph()\n",
    "\n",
    "# train(qm_model, inp_grp, 'H2_simple_test3', valid_ind=0, train_list=[0], threshold=1E-4,\n",
    "#       from_scratch=True, batch_size=16, print_step=50, kp=1.0, save_step=200,\n",
    "#       save_full_valid_Cprd=True,\n",
    "#       **vary_lr_H2)\n",
    "mol_ind = 1\n",
    "train(qm_model, inp_grp, '%s_simple_SCF_test' % molstr_list[mol_ind].replace('+',''), \n",
    "      valid_ind=mol_ind, train_list=[mol_ind], threshold=5E-5,\n",
    "      from_scratch=True, batch_size=16, print_step=50, kp=1.0, save_step=200,\n",
    "      save_full_valid_Cprd=True, molstr_list = molstr_list,\n",
    "      loss='emin',\n",
    "      **vary_lr_LiH)\n",
    "#train('increment_test', valid_ind=2, train_list=[0, 1, 3], \n",
    "#      from_scratch=False, batch_size=256, print_step=200, **vary_lr)\n",
    "# train(qm_model, inp_grp, 'A2_rnn_test', valid_ind=2, from_scratch=False, batch_size=256, \n",
    "#       print_step=200, threshold=1E-4, **vary_lr)"
   ]
  },
  {
   "cell_type": "code",
   "execution_count": 14,
   "metadata": {
    "collapsed": false
   },
   "outputs": [
    {
     "data": {
      "text/plain": [
       "[1, 2]"
      ]
     },
     "execution_count": 14,
     "metadata": {},
     "output_type": "execute_result"
    }
   ],
   "source": [
    "range(1, 3)"
   ]
  },
  {
   "cell_type": "code",
   "execution_count": null,
   "metadata": {
    "collapsed": false
   },
   "outputs": [
    {
     "name": "stdout",
     "output_type": "stream",
     "text": [
      "root name: A2_increment_SCF_02\n",
      "model: <function I0_S1x2_d_S1x2_O1x3_SCF at 0x7ff3870e1938>\n",
      "train/test/validation size: 666/75/741 \n",
      "optimizer: <class 'tensorflow.python.training.adam.AdamOptimizer'>\n",
      "loss: energy\n",
      "reg_scale: 0.0\n",
      "keep_prob: 1.0\n",
      "batch size: 16\n",
      "number of batches: 42\n",
      "training set: ['HHe+']\n",
      "validation: HH\n",
      "learning rate min: 5e-05\n",
      "learning rate steps: 300\n",
      "learning rate start: 0.001\n",
      "learning rate base: 0.8\n",
      "print step: 1000\n",
      "history step: 1\n",
      "threshold: 0.0001\n",
      "maxiter: 100000\n",
      "execuate time: 2017/10/16 19:07:23\n",
      "\n",
      "\n",
      "start from scratch...\n",
      "\n"
     ]
    }
   ],
   "source": [
    "reload(qnt)\n",
    "reload(qnm)\n",
    "reload(qnm.qnl)\n",
    "reload(qntrain)\n",
    "reload(qntrain.qnt)\n",
    "train = qntrain.train\n",
    "qm_model = qnm.I0_S1x2_d_S1x2_O1x3_SCF\n",
    "\n",
    "for train_length in range(2, len(inp_grp)+1):\n",
    "    train(qm_model, inp_grp, 'A2_increment_SCF_%02d' % train_length, \n",
    "          valid_ind=0, train_list=range(1, train_length), threshold=1E-4,\n",
    "          from_scratch=True, batch_size=16, print_step=1000, kp=1.0, save_step=2000,\n",
    "          save_full_valid_Cprd=False, loss='emin', \n",
    "          molstr_list = molstr_list,\n",
    "          **vary_lr_LiH)"
   ]
  },
  {
   "cell_type": "code",
   "execution_count": null,
   "metadata": {
    "collapsed": true
   },
   "outputs": [],
   "source": []
  }
 ],
 "metadata": {
  "kernelspec": {
   "display_name": "Python 2",
   "language": "python",
   "name": "python2"
  },
  "language_info": {
   "codemirror_mode": {
    "name": "ipython",
    "version": 2
   },
   "file_extension": ".py",
   "mimetype": "text/x-python",
   "name": "python",
   "nbconvert_exporter": "python",
   "pygments_lexer": "ipython2",
   "version": "2.7.13"
  }
 },
 "nbformat": 4,
 "nbformat_minor": 2
}
