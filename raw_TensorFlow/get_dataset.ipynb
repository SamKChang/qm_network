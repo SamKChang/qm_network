{
 "cells": [
  {
   "cell_type": "code",
   "execution_count": 1,
   "metadata": {},
   "outputs": [
    {
     "name": "stdout",
     "output_type": "stream",
     "text": [
      "\u001b[93mmissing file: mov2asc\u001b[0m\n",
      "\u001b[93mplease modify /path/to/qctoolkit/setting.py and recompile.\u001b[0m\n"
     ]
    }
   ],
   "source": [
    "import qctoolkit as qtk\n",
    "from matplotlib import pyplot as plt\n",
    "import numpy as np\n",
    "import re\n",
    "from IPython.display import clear_output\n",
    "\n",
    "%matplotlib inline"
   ]
  },
  {
   "cell_type": "code",
   "execution_count": 7,
   "metadata": {},
   "outputs": [
    {
     "name": "stdout",
     "output_type": "stream",
     "text": [
      "['HH', 'HLi', 'HB', 'HN', 'HF', 'LiLi', 'LiB', 'LiN', 'LiF', 'BB', 'BN', 'BF', 'NN', 'NF', 'FF', 'BeBe', 'BeC', 'BeO', 'CC', 'CO', 'OO', 'HBe+', 'HBe-', 'HC+', 'HC-', 'HO+', 'HO-', 'LiBe+', 'LiBe-', 'LiC+', 'LiC-', 'LiO+', 'LiO-', 'BBe+', 'BBe-', 'BC+', 'BC-', 'BO+', 'BO-', 'NBe+', 'NBe-', 'NC+', 'NC-', 'NO+', 'NO-', 'FBe+', 'FBe-', 'FC+', 'FC-', 'FO+', 'FO-']\n"
     ]
    }
   ],
   "source": [
    "# construct closed shell diatomic molecule dataset\n",
    "A_list = ['H', 'Li', 'B', 'N', 'F']\n",
    "B_list = ['Be', 'C', 'O']\n",
    "molstr_list = []\n",
    "\n",
    "# for a in qtk.flatten([A_list, B_list]):\n",
    "#     molstr_string.append('%s2' % a)\n",
    "    \n",
    "for i in range(len(A_list)):\n",
    "    for j in range(i, len(A_list)):\n",
    "        a1, a2 = A_list[i], A_list[j]\n",
    "        molstr_list.append('%s%s' % (a1, a2))\n",
    "        \n",
    "for i in range(len(B_list)):\n",
    "    for j in range(i, len(B_list)):\n",
    "        a1, a2 = B_list[i], B_list[j]\n",
    "        molstr_list.append('%s%s' % (a1, a2))\n",
    "        \n",
    "for a1 in A_list:\n",
    "    for a2 in B_list:\n",
    "        molstr_list.append('%s%s+' % (a1, a2))\n",
    "        molstr_list.append('%s%s-' % (a1, a2))\n",
    "        #molstr_list.append('%s%s+' % (a1, a2))\n",
    "\n",
    "print molstr_list"
   ]
  },
  {
   "cell_type": "code",
   "execution_count": 3,
   "metadata": {
    "collapsed": true
   },
   "outputs": [],
   "source": [
    "# molstr_list = [\n",
    "#     'HH',\n",
    "#     'LiLi',\n",
    "#     'BeBe',\n",
    "#     'BB',\n",
    "#     'CC',\n",
    "#     'NN',\n",
    "#     'OO',\n",
    "#     'FF',\n",
    "#     'HLi',\n",
    "#     'HO-'\n",
    "#     'HF',\n",
    "#     'LiF',\n",
    "#     'CO',\n",
    "# ]\n",
    "# print len(molstr_list)"
   ]
  },
  {
   "cell_type": "code",
   "execution_count": 2,
   "metadata": {
    "collapsed": true
   },
   "outputs": [],
   "source": [
    "molstr_list = [\n",
    "    'HH',\n",
    "    'HLi',\n",
    "    'HHe+',\n",
    "    'HBe+',\n",
    "    'HeHe',\n",
    "]"
   ]
  },
  {
   "cell_type": "code",
   "execution_count": 3,
   "metadata": {
    "collapsed": true
   },
   "outputs": [],
   "source": [
    "import horton as ht\n",
    "#basis = ht.GOBasisFamily('basis', filename='basis/3-21g/H_Ne_uncontracted.nwchem')\n",
    "basis = ht.GOBasisFamily('basis', filename='basis/sto6g/H_Ne.nwchem')"
   ]
  },
  {
   "cell_type": "code",
   "execution_count": 21,
   "metadata": {
    "collapsed": true
   },
   "outputs": [],
   "source": [
    "inp_grp = []\n",
    "for molstr in molstr_list:\n",
    "    if '+' in molstr:\n",
    "        charge = 1\n",
    "    elif '-' in molstr:\n",
    "        charge = -1\n",
    "    else:\n",
    "        charge = 0\n",
    "    alist = re.findall('[A-Z][a-z]*', molstr)\n",
    "    Zs = [qtk.n2Z(a) for a in alist]\n",
    "    inp_list = []\n",
    "    inp_grp.append(inp_list)\n",
    "    for R in np.arange(0.5, 3.01, 0.01):\n",
    "        mol = qtk.Molecule()\n",
    "        ZR = [[Zs[0], 0,0,0], [Zs[1], R, 0, 0]]\n",
    "        mol.build(ZR)\n",
    "        mol.charge = charge\n",
    "        mol.name = mol.name + '_%s' % str(R)\n",
    "        inp = qtk.QMInp(mol, program='horton', basis_set=basis, scf_step=30)\n",
    "        try:\n",
    "            inp.run()\n",
    "            inp.delete_ht_types()\n",
    "            inp.delete_matrices()\n",
    "            inp_list.append(inp)\n",
    "        except:\n",
    "            pass\n",
    "    print \"%s finished\" % mol.name\n",
    "        \n",
    "clear_output()"
   ]
  },
  {
   "cell_type": "code",
   "execution_count": 22,
   "metadata": {},
   "outputs": [
    {
     "name": "stdout",
     "output_type": "stream",
     "text": [
      "[251, 251, 127, 128, 109, 251, 127, 109, 169, 172, 0, 80, 220, 108, 222, 250, 45, 71, 90, 52, 251, 165, 112, 132, 108, 190, 96, 251, 97, 251, 69, 69, 142, 80, 7, 44, 9, 37, 83, 111, 43, 0, 45, 35, 80, 136, 97, 69, 141, 58, 251]\n",
      "6091\n",
      "[251, 251, 127, 128, 109, 251, 127, 109, 169, 172, 80, 220, 108, 222, 250, 45, 71, 90, 52, 251, 165, 112, 132, 108, 190, 96, 251, 97, 251, 69, 69, 142, 80, 44, 83, 111, 43, 45, 80, 136, 97, 69, 141, 58, 251]\n",
      "6003\n"
     ]
    }
   ],
   "source": [
    "print [len(inps) for inps in inp_grp]\n",
    "print sum([len(inps) for inps in inp_grp])\n",
    "inp_grp_good = [inps for inps in inp_grp if len(inps) > 40]\n",
    "print [len(inps) for inps in inp_grp_good]\n",
    "print sum([len(inps) for inps in inp_grp_good])"
   ]
  },
  {
   "cell_type": "code",
   "execution_count": 37,
   "metadata": {},
   "outputs": [
    {
     "name": "stdout",
     "output_type": "stream",
     "text": [
      "H2_0.5\n",
      "H1Li1_0.5\n",
      "H1B1_0.5\n",
      "H1N1_0.5\n",
      "H1F1_0.5\n",
      "Li2_0.5\n",
      "Li1B1_0.5\n",
      "Li1N1_0.5\n",
      "Li1F1_0.5\n",
      "B2_0.5\n",
      "B1F1_0.5\n",
      "N2_0.5\n",
      "N1F1_0.5\n",
      "F2_0.5\n",
      "Be2_0.5\n",
      "Be1C1_0.5\n",
      "Be1O1_0.5\n",
      "C2_0.5\n",
      "C1O1_0.5\n",
      "O2_0.5\n",
      "H1Be1_0.5\n",
      "H1Be1_0.5\n",
      "H1C1_0.5\n",
      "H1C1_0.5\n",
      "H1O1_0.5\n",
      "H1O1_0.5\n",
      "Li1Be1_0.5\n",
      "Li1Be1_0.5\n",
      "Li1C1_0.5\n",
      "Li1C1_0.5\n",
      "Li1O1_0.5\n",
      "Li1O1_0.5\n",
      "Be1B1_0.5\n",
      "Be1B1_0.5\n",
      "B1C1_0.5\n",
      "B1C1_0.5\n",
      "B1O1_0.5\n",
      "B1O1_0.5\n",
      "Be1N1_0.5\n",
      "Be1N1_0.5\n",
      "C1N1_0.5\n",
      "N1O1_0.5\n",
      "N1O1_0.5\n",
      "Be1F1_0.5\n",
      "Be1F1_0.5\n",
      "C1F1_0.5\n",
      "C1F1_0.5\n",
      "O1F1_0.5\n",
      "O1F1_0.5\n"
     ]
    },
    {
     "data": {
      "image/png": "[encoded data removed]",
      "text/plain": [
       "<matplotlib.figure.Figure at 0x2ad85b396990>"
      ]
     },
     "metadata": {},
     "output_type": "display_data"
    }
   ],
   "source": [
    "for inps in inp_grp:\n",
    "    #inps = inp_grp[5]\n",
    "    if len(inps) > 0:\n",
    "        E = np.array([inp.Et for inp in inps])\n",
    "        print inps[0].molecule.name\n",
    "        try:\n",
    "            E = E - (E[:-5]).max()\n",
    "            plt.plot([inp.molecule.R[1,0] for inp in inps], E, ls='', marker='.')\n",
    "        except:\n",
    "            print E\n",
    "        "
   ]
  },
  {
   "cell_type": "code",
   "execution_count": 38,
   "metadata": {
    "collapsed": true
   },
   "outputs": [],
   "source": [
    "qtk.save(inp_grp, 'A2_6003.pkl')"
   ]
  },
  {
   "cell_type": "code",
   "execution_count": 2,
   "metadata": {
    "collapsed": true
   },
   "outputs": [],
   "source": [
    "# construct H2 dataset of ~5000 bond lengths\n",
    "inps = []\n",
    "for R in np.arange(0.3, 3.1, 0.0005):\n",
    "    mol = qtk.Molecule()\n",
    "    mol.build([[1, 0, 0, 0], [1, R, 0, 0]])\n",
    "    inp = qtk.QMInp(mol, program='horton', basis_set='3-21g')\n",
    "    inp.run()\n",
    "    D, U = np.linalg.eig(inp.olp)\n",
    "    inp.X = U / np.sqrt(D)\n",
    "    inp.delete_ht_types()\n",
    "    inps.append(inp)\n",
    "clear_output()"
   ]
  },
  {
   "cell_type": "code",
   "execution_count": 6,
   "metadata": {
    "collapsed": true
   },
   "outputs": [],
   "source": [
    "qtk.pdump(inps, 'H2_5600.pkl')"
   ]
  }
 ],
 "metadata": {
  "kernelspec": {
   "display_name": "Python 2",
   "language": "python",
   "name": "python2"
  },
  "language_info": {
   "codemirror_mode": {
    "name": "ipython",
    "version": 2
   },
   "file_extension": ".py",
   "mimetype": "text/x-python",
   "name": "python",
   "nbconvert_exporter": "python",
   "pygments_lexer": "ipython2",
   "version": "2.7.13"
  }
 },
 "nbformat": 4,
 "nbformat_minor": 2
}
