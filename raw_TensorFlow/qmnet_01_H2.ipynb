{
 "cells": [
  {
   "cell_type": "markdown",
   "metadata": {},
   "source": [
    "# A neural network approach to solve Schrodinger equation\n",
    "\n",
    "## Motivation:\n",
    "[Universal approximation theorem](http://mcneela.github.io/machine_learning/2017/03/21/Universal-Approximation-Theorem.html) proved that **ANY** function can be approximated by a neural network with one hidden layer, using a bounded, countinuous, monotonically increasing activation function [[Hornik](http://zmjones.com/static/statistical-learning/hornik-nn-1991.pdf)].\n",
    "\n",
    "If the Schrodinger equation solver is formulated as the approximator to estimate molecular orbital coefficients, for a given basis set and assuming that the activation function satisfies the necessary condition. The limit of exact approximator exist. It is therefore interesting how well this approximator can be modeled."
   ]
  },
  {
   "cell_type": "markdown",
   "metadata": {},
   "source": [
    "## Network structure:\n",
    "### input layer $\\rightarrow$ hidden layer(s) $\\rightarrow$ normalization layer(s) $\\rightarrow$ output layer\n",
    "\n",
    "* Input layer: Given basis set $\\{g_{\\alpha}(\\mathbf{r})\\}_{\\alpha}$, and number of electrons $N$, and structure file, containing nuclear positions $\\{\\mathbf{R}_I\\}_I$ and the correspoinding nuclear charge $\\{Z_I\\}_I$. Compute the following:\n",
    " * Overlap matrix $[\\mathbf{S}]_{\\alpha\\beta}=\\int d\\mathbf{r} g_\\alpha(\\mathbf{r})g_\\beta(\\mathbf{r})$\n",
    " * Canonical orthogonalization matrix $\\mathbf{X} = \\mathbf{U} / \\sqrt{\\mathbf{D}}$\n",
    " * Kinetic energy matrix $[\\mathbf{K}]_{\\alpha\\beta} = -\\frac{1}{2}\\int d\\mathbf{r}g_\\alpha(\\mathbf{r})\\nabla^2 g_\\beta(\\mathbf{r})$\n",
    " * External potential matrix $[\\mathbf{V}]_{\\alpha\\beta} = -\\sum_I\\int d\\mathbf{r}\\frac{g_\\alpha(\\mathbf{r})g_\\beta(\\mathbf{r})}{|\\mathbf{r} - \\mathbf{R}_I|}Z_I$\n",
    " * Electron repulsion matrix $[\\mathbf{ER}]_{\\alpha\\beta\\gamma\\delta} = \\int d\\mathbf{r} d\\mathbf{r}'\\frac{g_\\alpha(\\mathbf{r})g_\\beta(\\mathbf{r})g_\\gamma(\\mathbf{r}')g_\\delta(\\mathbf{r}')}{|\\mathbf{r}-\\mathbf{r}'|}$\n",
    " * Initialize molecular orbital coefficients (MOV) $\\mathbf{C_0}$ (initial guess).\n",
    "* Hidden layer: Approximate the mapping $f: \\{\\mathbf{S}, \\mathbf{K}, \\mathbf{V}, \\mathbf{C}\\} \\mapsto \\mathbf{C}$ by\n",
    "$$\n",
    "\\mathbf{C} = \\sigma\\big(\n",
    "(\\mathbf{S}\\cdot\\mathbf{W}_S + \\mathbf{B}_S) +\n",
    "(\\mathbf{K}\\cdot\\mathbf{W}_K + \\mathbf{B}_K) +\n",
    "(\\mathbf{V}\\cdot\\mathbf{W}_V + \\mathbf{B}_V) +\n",
    "(\\mathbf{C}\\cdot\\mathbf{W}_C + \\mathbf{B}_C)\n",
    "\\big)\n",
    "$$\n",
    "where $\\sigma$ can be __any__ activation function\n",
    "* Normalization layer: Orthogonalize MOV with the variables weights $\\mathbf{W}_n$, and bias $\\mathbf{B}_n$\n",
    "$$\n",
    "\\mathbf{C}_{\\mathrm{orth}} = \\mathbf{\\sigma}(\\mathbf{C}\\cdot\\mathbf{W}_n + \\mathbf{B}_n) = \\mathbf{X}\\cdot f_{\\mathrm{eig}}\\Big((\\mathbf{C}\\cdot\\mathbf{W}_n + \\mathbf{B}_n)^{\\mathrm{T}}\\cdot(\\mathbf{C}\\cdot\\mathbf{W}_n + \\mathbf{B}_n)\\Big),\n",
    "$$\n",
    "where $\\mathbf{\\sigma}([\\cdot]) = \\mathbf{X}\\cdot f_{\\mathrm{eig}}([\\cdot]^{\\mathrm{T}}[\\cdot]): \\mathbb{R}^{m\\times m}\\rightarrow\\mathbb{R}^{m\\times m}$ is the nonlinear activation function.\n",
    "Such that $\\mathbf{C}_{\\mathrm{orth}}^{\\mathrm{T}}\\cdot\\mathbf{S}\\cdot\\mathbf{C}_{\\mathrm{orth}} = \\mathbf{1}$\n",
    "(see section orthogonalization of the basis functions below).\n",
    "* Output layer: Treat $\\mathbf{C}_{\\mathrm{orth}}$ as the converged Hartree-Fock molecular orbital coefficients and evaluate the Hartree-Fock energy normaly. That is (for conventional closed shell system)\n",
    "$$\n",
    "E = K + V + U + X + V_{nn},\n",
    "$$\n",
    "with density matrix $[\\mathbf{P}]_{\\alpha\\beta}=2\\sum_{i=1}^{N/2} C_{i\\alpha}C_{i\\beta}$ where \n",
    " * Kinetic energy $K = tr(\\mathbf{P}\\cdot\\mathbf{K})$\n",
    " * External pential energy $V = tr(\\mathbf{P}\\cdot\\mathbf{V})$\n",
    " * and other terms $\\cdots$\n",
    "\n",
    "## Implementation\n",
    "\n",
    "* Model construction:\n",
    "All Gaussian basis matrix element can be evaluated by the ${\\tt Horton}$ package. The computational graph (operational connectivity) can be constructed using ${\\tt TensorFlow}$. \n",
    "* Trainning:\n",
    "Standard backpropagation should work. There are two possible issues\n",
    " * Interface between ${\\tt Horton}$ and ${\\tt TensorFlow}$\n",
    " * Matrix operation derivatives, namely the derivative of trace and eigenvector decomposition in , e.g. $\\frac{\\partial K}{\\partial\\mathbf{W}} = \\frac{\\partial}{\\partial\\mathbf{W}} tr(\\mathbf{P}\\cdot\\mathbf{K})$\n",
    " (see [/root_to_tensorflow/python/ops/linalg_grad.py](https://github.com/tensorflow/tensorflow/blob/master/tensorflow/python/ops/linalg_grad.py) and the corresponding [documentation](http://eprints.maths.ox.ac.uk/1079/1/NA-08-01.pdf) for details)"
   ]
  },
  {
   "cell_type": "markdown",
   "metadata": {},
   "source": [
    "## Orthogonalization of the basis functions\n",
    "\n",
    "Any random combination of Gaussian basis functions can be orthonormalized. An example of H$_2$ molecule using 3-21G basis function is shown"
   ]
  },
  {
   "cell_type": "code",
   "execution_count": 1,
   "metadata": {
    "collapsed": true
   },
   "outputs": [],
   "source": [
    "import qctoolkit as qtk\n",
    "import numpy as np\n",
    "from matplotlib import pyplot as plt\n",
    "from IPython.display import clear_output\n",
    "\n",
    "%matplotlib inline\n",
    "\n",
    "clear_output()"
   ]
  },
  {
   "cell_type": "markdown",
   "metadata": {},
   "source": [
    "Gaussian basis is normalized but not orthogonal to each other, as can be seen by the non-zero off-diagonal matrix element of the overlap matrix $\\mathbf{S}$"
   ]
  },
  {
   "cell_type": "code",
   "execution_count": 2,
   "metadata": {
    "collapsed": true
   },
   "outputs": [],
   "source": [
    "from horton import GOBasisFamily\n",
    "#basis = GOBasisFamily('basis', filename='basis/sto2g/H_Ne_uncontracted.nwchem')\n",
    "#basis = '3-21g'\n",
    "#basis = 'sto-3g'\n",
    "#basis = GOBasisFamily('basis', filename='basis/sto6g/H_Ne.nwchem')\n",
    "basis = GOBasisFamily('basis', filename='basis/sto6g/H_Be-s.nwchem')\n",
    "#basis = GOBasisFamily('basis', filename='basis/test/test_basis.nwchem')\n",
    "#basis = '6-31g'"
   ]
  },
  {
   "cell_type": "code",
   "execution_count": 3,
   "metadata": {},
   "outputs": [
    {
     "data": {
      "text/plain": [
       "array([[ 1.        ,  0.69841439,  0.65973069,  0.61961159],\n",
       "       [ 0.69841439,  1.        ,  0.61961159,  0.92476041],\n",
       "       [ 0.65973069,  0.61961159,  1.        ,  0.69841439],\n",
       "       [ 0.61961159,  0.92476041,  0.69841439,  1.        ]])"
      ]
     },
     "execution_count": 3,
     "metadata": {},
     "output_type": "execute_result"
    }
   ],
   "source": [
    "mol = qtk.QMInp('xyz/h2.xyz', program='horton', basis_set=basis)\n",
    "clear_output()\n",
    "mol.olp"
   ]
  },
  {
   "cell_type": "markdown",
   "metadata": {},
   "source": [
    "However, the molecular orbitals (MO) form a orthonormal basis set,\n",
    "$$\n",
    "\\langle\\psi_i|\\psi_j\\rangle = \\delta_{ij},\n",
    "$$\n",
    "where \n",
    "$$\n",
    "\\psi_i(\\mathbf{r}) = \\sum_{\\alpha=1}^M c_{i\\alpha}g_\\alpha(\\mathbf{r}),\\mbox{ and MO coefficients } [\\mathbf{C}]_{i\\alpha} = c_{i\\alpha}.\n",
    "$$\n",
    "That is\n",
    "$$\n",
    "\\mathbf{C}^{\\mathrm{T}}\\cdot\\mathbf{S}\\cdot\\mathbf{C} = \\mathbf{1}\n",
    "$$"
   ]
  },
  {
   "cell_type": "code",
   "execution_count": 4,
   "metadata": {},
   "outputs": [
    {
     "data": {
      "text/plain": [
       "array([[  1.00000000e+00,  -2.22044605e-16,   1.66533454e-16,\n",
       "         -2.22044605e-16],\n",
       "       [  5.37764278e-17,   1.00000000e+00,   9.71445147e-17,\n",
       "          7.77156117e-16],\n",
       "       [  1.38777878e-16,   4.44089210e-16,   1.00000000e+00,\n",
       "          4.44089210e-16],\n",
       "       [  6.59194921e-17,   8.04911693e-16,   2.63677968e-16,\n",
       "          1.00000000e+00]])"
      ]
     },
     "execution_count": 4,
     "metadata": {},
     "output_type": "execute_result"
    }
   ],
   "source": [
    "C = mol.mov\n",
    "C.T.dot(mol.olp).dot(C)"
   ]
  },
  {
   "cell_type": "markdown",
   "metadata": {},
   "source": [
    "An orthornormalization matrix $\\mathbf{X}$ can be constructed by the overlap matrix $\\mathbf{S}$ (canonical orthogonization). \n",
    "$$\n",
    "\\mathbf{X} = \\mathbf{U}\\frac{1}{\\sqrt{\\mathbf{D}}},\n",
    "$$\n",
    "where $\\mathbf{D}$ and $\\mathbf{U}$ are the eigenvalues and eigenvectors of the overlap matrix $\\mathbf{S}$.\n",
    "\n",
    "Any random combination of basis function can be orothornormalized by orthornormalization matrix."
   ]
  },
  {
   "cell_type": "code",
   "execution_count": 5,
   "metadata": {},
   "outputs": [
    {
     "name": "stdout",
     "output_type": "stream",
     "text": [
      "[[  1.00000000e+00  -8.32667268e-17  -8.88178420e-16  -2.77555756e-16]\n",
      " [ -2.22044605e-16   1.00000000e+00  -4.44089210e-16   1.66533454e-16]\n",
      " [ -1.16573418e-15  -4.16333634e-16   1.00000000e+00  -1.13797860e-15]\n",
      " [ -4.44089210e-16   1.38777878e-16  -1.33226763e-15   1.00000000e+00]]\n"
     ]
    }
   ],
   "source": [
    "# canonical orthogonalization transformation matirx\n",
    "D, U = np.linalg.eigh(mol.olp)\n",
    "X = U.dot(np.diag(1/np.sqrt(D)))\n",
    "\n",
    "# random MO coefficients\n",
    "B = np.random.random(U.shape)\n",
    "#_, B = np.linalg.eig(B.T.dot(B))\n",
    "# orthonormalized MO coefficients\n",
    "C0 = np.linalg.eigh(B.T.dot(B))[1]\n",
    "C = X.dot(np.linalg.eig(B.T.dot(B))[1])\n",
    "#C = X.dot(B)\n",
    "#C = np.linalg.inv(X).dot(B)\n",
    "\n",
    "# orthonormalized random MO coefficients\n",
    "print C.T.dot(mol.olp).dot(C)\n",
    "# print C0.T.dot(X.T).dot(mol.olp).dot(X).dot(C0)\n",
    "# print C0.T.dot(C0)\n",
    "\n",
    "#I = np.eye(C0.shape[0])\n",
    "#print C0.T.dot(I.dot(C0))\n",
    "#plt.imshow(X.T.dot(mol.olp).dot(X))\n",
    "#plt.imshow(X.T.dot(X))"
   ]
  },
  {
   "cell_type": "code",
   "execution_count": 13,
   "metadata": {},
   "outputs": [
    {
     "data": {
      "text/plain": [
       "array([[  1.00000000e+00,  -9.15933995e-16,   1.55431223e-15,\n",
       "          2.70616862e-16],\n",
       "       [ -1.33226763e-15,   1.00000000e+00,   2.22044605e-16,\n",
       "         -3.33066907e-16],\n",
       "       [  2.77555756e-17,   2.42861287e-16,   1.00000000e+00,\n",
       "         -3.20923843e-16],\n",
       "       [  8.88178420e-16,  -3.33066907e-16,  -6.66133815e-16,\n",
       "          1.00000000e+00]])"
      ]
     },
     "execution_count": 13,
     "metadata": {},
     "output_type": "execute_result"
    }
   ],
   "source": [
    "Q = X.dot(np.linalg.qr(B)[0])\n",
    "Q.T.dot(mol.olp).dot(Q)"
   ]
  },
  {
   "cell_type": "markdown",
   "metadata": {
    "collapsed": true
   },
   "source": [
    "## Construct H$_2$ dataset with varying bond length"
   ]
  },
  {
   "cell_type": "code",
   "execution_count": 6,
   "metadata": {
    "collapsed": true
   },
   "outputs": [],
   "source": [
    "inps = []\n",
    "for R in np.arange(0.3, 3.1, 0.005):\n",
    "    mol = qtk.Molecule()\n",
    "    mol.build([[1, 0, 0, 0], [1, R, 0, 0]])\n",
    "    inp = qtk.QMInp(mol, program='horton', basis_set=basis)\n",
    "    inp.run()\n",
    "    D, U = np.linalg.eigh(inp.olp)\n",
    "    inp.X = U / np.sqrt(D)\n",
    "    inps.append(inp)\n",
    "clear_output()"
   ]
  },
  {
   "cell_type": "code",
   "execution_count": 7,
   "metadata": {},
   "outputs": [
    {
     "name": "stdout",
     "output_type": "stream",
     "text": [
      "504 56\n"
     ]
    },
    {
     "data": {
      "image/png": "[encoded data removed]",
      "text/plain": [
       "<matplotlib.figure.Figure at 0x2b8634cf5a90>"
      ]
     },
     "metadata": {},
     "output_type": "display_data"
    }
   ],
   "source": [
    "from sklearn.model_selection import train_test_split\n",
    "\n",
    "inp_train, inp_test = train_test_split(inps, random_state=0, test_size=0.1)\n",
    "\n",
    "E = [inp.ht_ham.cache['energy'] for inp in inps]\n",
    "R = [inp.molecule.R[1,0] for inp in inps]\n",
    "E_train = [inp.ht_ham.cache['energy'] for inp in inp_train]\n",
    "R_train = [inp.molecule.R[1,0] for inp in inp_train]\n",
    "E_test = [inp.ht_ham.cache['energy'] for inp in inp_test]\n",
    "R_test = [inp.molecule.R[1,0] for inp in inp_test]\n",
    "\n",
    "plt.plot(R, E, label='interpolation')\n",
    "plt.plot(R_test, E_test, ls='', marker='o', label='test set')\n",
    "#plt.plot(R_train, E_train, ls='', marker='x', label='training set')\n",
    "plt.legend(loc=1)\n",
    "print len(E_train), len(E_test)"
   ]
  },
  {
   "cell_type": "markdown",
   "metadata": {},
   "source": [
    "### Extract input tensor and compute output Hartree-Fock energy"
   ]
  },
  {
   "cell_type": "code",
   "execution_count": 8,
   "metadata": {},
   "outputs": [
    {
     "data": {
      "text/plain": [
       "-0.62662497070168932"
      ]
     },
     "execution_count": 8,
     "metadata": {},
     "output_type": "execute_result"
    }
   ],
   "source": [
    "# Numpy version implementation\n",
    "\n",
    "def get_input_tensor(mol):\n",
    "    \"\"\"Extract matrices and pack as tensor\"\"\"\n",
    "    S, K, Na, C0, X, Er = mol.olp, mol.kin, mol.na, mol.initial_mov, mol.X, mol.er\n",
    "    I = np.stack([S, K, Na, C0, X])\n",
    "    nn = mol.ht_external['nn']\n",
    "    occ = mol.ht_exp_alpha.occupations\n",
    "    return I, Er, occ, nn\n",
    "    \n",
    "def get_output(I, Er, occ, nn, C):\n",
    "    \"\"\"take input tensor and approximated MO coefficients, C, to compute total energy\"\"\"\n",
    "    K = I[1]\n",
    "    Na = I[2]\n",
    "    dm = (C * occ).dot(C.T)\n",
    "    \n",
    "    Ek = np.trace(dm.dot(K)) * 2\n",
    "    Ev = np.trace(dm.dot(Na)) * 2\n",
    "    Ej = np.trace(dm.dot(np.tensordot(dm, Er, axes=([0,1], [0,2])))) * 2\n",
    "    Ex = -np.trace(dm.dot(np.tensordot(dm, Er, axes=([0,1], [0,1]))))\n",
    "    E_tot = np.sum([Ek, Ev, Ej, Ex, nn])\n",
    "    return E_tot\n",
    "\n",
    "inp = inps[0]\n",
    "I_np, Er_np, occ, nn = get_input_tensor(inp)\n",
    "C = inp.ht_exp_alpha.coeffs.__array__()\n",
    "get_output(I_np, Er_np, occ, nn, C)"
   ]
  },
  {
   "cell_type": "markdown",
   "metadata": {},
   "source": [
    "## Construct Tensorflow model "
   ]
  },
  {
   "cell_type": "markdown",
   "metadata": {},
   "source": [
    "### Tensorflow input interface\n",
    "Given training or test set, construct stacked input tensors and corresponding labels"
   ]
  },
  {
   "cell_type": "code",
   "execution_count": 9,
   "metadata": {
    "scrolled": true
   },
   "outputs": [
    {
     "data": {
      "text/plain": [
       "[<matplotlib.lines.Line2D at 0x2b8634ee4710>]"
      ]
     },
     "execution_count": 9,
     "metadata": {},
     "output_type": "execute_result"
    },
    {
     "data": {
      "image/png": "[encoded data removed]",
      "text/plain": [
       "<matplotlib.figure.Figure at 0x2b8634d43850>"
      ]
     },
     "metadata": {},
     "output_type": "display_data"
    }
   ],
   "source": [
    "# It is necessary only for batch training\n",
    "\n",
    "def tfIO(mol_list):\n",
    "    I_list, Er_list, occ_list, nn_list, C_list, labels = [[] for _ in range(6)]\n",
    "    for mol in mol_list:\n",
    "        C = mol.ht_exp_alpha.coeffs.__array__()\n",
    "        C_list.append(C)\n",
    "        I, Er, occ, nn = get_input_tensor(mol)\n",
    "        I_list.append(I)\n",
    "        Er_list.append(Er)\n",
    "        occ_list.append(occ)\n",
    "        nn_list.append(nn)\n",
    "        labels.append(get_output(I, Er, occ, nn, C))\n",
    "        \n",
    "    return np.stack(I_list).astype(np.float32), np.stack(Er_list).astype(np.float32), \\\n",
    "           np.stack(occ_list).astype(np.float32), np.stack(nn_list).astype(np.float32), \\\n",
    "           np.stack(C_list).astype(np.float32), np.stack(labels).astype(np.float32)\n",
    "        \n",
    "I_train, Er_train, occ_train, nn_train, C_train, y_train = tfIO(inp_train)\n",
    "I_test, Er_test, occ_test, nn_test, C_test, y_test = tfIO(inp_test)\n",
    "_, _, _, _, _, y = tfIO(inps)\n",
    "plt.plot(y)"
   ]
  },
  {
   "cell_type": "markdown",
   "metadata": {},
   "source": [
    "### Build model"
   ]
  },
  {
   "cell_type": "code",
   "execution_count": 10,
   "metadata": {},
   "outputs": [
    {
     "name": "stdout",
     "output_type": "stream",
     "text": [
      "-0.931219\n",
      "-0.931219\n"
     ]
    }
   ],
   "source": [
    "import tensorflow as tf\n",
    "\n",
    "def hidden_layer(I, C_prd = None):\n",
    "    \n",
    "    if C_prd is None:\n",
    "        C_prd = I[-2]\n",
    "        \n",
    "    S, K, V = I[0], I[1], I[2]\n",
    "    \n",
    "    Wc = tf.Variable(tf.truncated_normal(C_prd.shape), name='weights_C')\n",
    "    Bc = tf.Variable(tf.zeros(C_prd.shape), name='biases_C')\n",
    "    Ws = tf.Variable(tf.truncated_normal(C_prd.shape), name='weights_S')\n",
    "    Bs = tf.Variable(tf.zeros(C_prd.shape), name='biases_S')\n",
    "    Wk = tf.Variable(tf.truncated_normal(C_prd.shape), name='weights_K')\n",
    "    Bk = tf.Variable(tf.zeros(C_prd.shape), name='biases_K')\n",
    "    Wv = tf.Variable(tf.truncated_normal(C_prd.shape), name='weights_V')\n",
    "    Bv = tf.Variable(tf.zeros(C_prd.shape), name='biases_V')\n",
    "    \n",
    "    C_new = tf.add(tf.matmul(C_prd, Wc), Bc)\n",
    "    S_new = tf.add(tf.matmul(S, Ws), Bs)\n",
    "    K_new = tf.add(tf.matmul(K, Wk), Bk)\n",
    "    V_new = tf.add(tf.matmul(V, Wv), Bv)\n",
    "    \n",
    "    new_matrix = tf.add(tf.add(tf.add(C_new, S_new), K_new), V_new)\n",
    "    \n",
    "    return tf.nn.relu(new_matrix)\n",
    "\n",
    "def normailization_layer(I, C_prd=None):\n",
    "    \n",
    "    if C_prd is None:\n",
    "        C_prd = I[-2]\n",
    "        \n",
    "    W = tf.Variable(tf.truncated_normal(C_prd.shape), name='weights')\n",
    "    B = tf.Variable(tf.zeros(C_prd.shape), name='biases')\n",
    "    C_new = tf.add(tf.matmul(C_prd, W), B)\n",
    "    \n",
    "    C_sym = tf.matmul(tf.transpose(C_new), C_new)\n",
    "    _, C_diag = tf.self_adjoint_eig(C_sym)\n",
    "    \n",
    "    return tf.matmul(I[-1], C_diag)\n",
    "\n",
    "def output_layer(I, Er, occ, nn, C_prd):\n",
    "    K, Na = I[1], I[2]\n",
    "    \n",
    "    C_occ = tf.multiply(occ, C_prd)\n",
    "    #C_occ = tf.matmul(tf.expand_dims(0, occ), C)\n",
    "    dm = tf.matmul(C_occ, tf.transpose(C_prd))\n",
    "    \n",
    "    J_kernel = tf.tensordot(dm, Er, axes=([0,1], [0,2]))\n",
    "    X_kernel = tf.tensordot(dm, Er, axes=([0,1], [0,1]))\n",
    "    \n",
    "    Ek = tf.trace(tf.matmul(dm, K)) * 2\n",
    "    Ev = tf.trace(tf.matmul(dm, Na)) * 2\n",
    "    Ej = tf.trace(tf.matmul(dm, J_kernel)) * 2\n",
    "    Ex = -tf.trace(tf.matmul(dm, X_kernel))\n",
    "    \n",
    "    E_total = tf.add(Ek, Ev)\n",
    "    E_total = tf.add(E_total, Ej)\n",
    "    E_total = tf.add(E_total, Ex)\n",
    "    E_total = tf.add(E_total, nn)\n",
    "    \n",
    "    return E_total\n",
    "\n",
    "# test\n",
    "with tf.Session() as sess:\n",
    "    sess.run(tf.global_variables_initializer())\n",
    "    E = output_layer(I_train[0], Er_train[0], occ_train[0], nn_train[0], C_train[0])\n",
    "    print sess.run(E)\n",
    "    print y_train[0]"
   ]
  },
  {
   "cell_type": "code",
   "execution_count": 11,
   "metadata": {
    "scrolled": false
   },
   "outputs": [
    {
     "name": "stdout",
     "output_type": "stream",
     "text": [
      "INFO:tensorflow:Restoring parameters from H2-ptest.ckpt\n",
      "no model found, start from scratch\n",
      " 1 optimization run\n",
      "itr:    0, training error: 0.737914, test error 1.246843\n",
      "itr:  100, training error: 1.673792, test error 1.001578\n",
      "itr:  200, training error: 0.752223, test error 0.868171\n",
      "itr:  300, training error: 0.493760, test error 0.708237\n",
      "itr:  400, training error: 0.194023, test error 0.606666\n",
      "itr:  500, training error: 3.635827, test error 0.539872\n",
      " 2 optimization run\n",
      "itr:    0, training error: 0.087954, test error 0.481334\n",
      "itr:  100, training error: 0.770165, test error 0.389386\n",
      "itr:  200, training error: 0.061594, test error 0.386621\n",
      "itr:  300, training error: 0.287818, test error 0.323229\n",
      "itr:  400, training error: 0.023929, test error 0.263815\n",
      "itr:  500, training error: 2.527453, test error 0.221013\n",
      " 3 optimization run\n",
      "itr:    0, training error: 0.163957, test error 0.204270\n",
      "itr:  100, training error: 0.176325, test error 0.178951\n",
      "itr:  200, training error: 0.057864, test error 0.145480\n",
      "itr:  300, training error: 0.044695, test error 0.158587\n",
      "itr:  400, training error: 0.008965, test error 0.092424\n",
      "itr:  500, training error: 3.129123, test error 0.078018\n",
      " 4 optimization run\n",
      "itr:    0, training error: 0.004537, test error 0.091062\n",
      "itr:  100, training error: 0.123216, test error 0.062204\n",
      "itr:  200, training error: 0.008964, test error 0.059762\n",
      "itr:  300, training error: 0.069725, test error 0.051403\n",
      "itr:  400, training error: 0.001549, test error 0.048685\n",
      "itr:  500, training error: 0.300926, test error 0.033257\n",
      " 5 optimization run\n",
      "itr:    0, training error: 0.022315, test error 0.040425\n",
      "itr:  100, training error: 0.220999, test error 0.036315\n",
      "itr:  200, training error: 0.029421, test error 0.026472\n",
      "itr:  300, training error: 0.022190, test error 0.026761\n",
      "itr:  400, training error: 0.001508, test error 0.028282\n",
      "itr:  500, training error: 0.109395, test error 0.017967\n",
      " 6 optimization run\n",
      "itr:    0, training error: 0.000321, test error 0.019267\n",
      "itr:  100, training error: 0.053441, test error 0.015047\n",
      "itr:  200, training error: 0.000165, test error 0.018059\n",
      "itr:  300, training error: 0.001024, test error 0.016738\n",
      "itr:  400, training error: 0.000746, test error 0.016558\n",
      "itr:  500, training error: 0.150736, test error 0.024892\n",
      " 7 optimization run\n",
      "itr:    0, training error: 0.009823, test error 0.013182\n",
      "itr:  100, training error: 0.023024, test error 0.026691\n",
      "itr:  200, training error: 0.016354, test error 0.012513\n",
      "itr:  300, training error: 0.011910, test error 0.016037\n",
      "itr:  400, training error: 0.000370, test error 0.007216\n",
      "itr:  500, training error: 0.122669, test error 0.009802\n",
      " 8 optimization run\n",
      "itr:    0, training error: 0.001114, test error 0.006917\n",
      "itr:  100, training error: 0.016842, test error 0.007933\n",
      "itr:  200, training error: 0.000092, test error 0.007223\n",
      "itr:  300, training error: 0.006404, test error 0.010607\n",
      "itr:  400, training error: 0.000300, test error 0.006584\n",
      "itr:  500, training error: 0.159731, test error 0.005453\n",
      " 9 optimization run\n",
      "itr:    0, training error: 0.000124, test error 0.005777\n",
      "itr:  100, training error: 0.013647, test error 0.005384\n",
      "itr:  200, training error: 0.000123, test error 0.004499\n",
      "itr:  300, training error: 0.007046, test error 0.003700\n",
      "itr:  400, training error: 0.000662, test error 0.006843\n",
      "itr:  500, training error: 0.021907, test error 0.004462\n",
      "10 optimization run\n",
      "itr:    0, training error: 0.004797, test error 0.003661\n",
      "itr:  100, training error: 0.009788, test error 0.004011\n",
      "itr:  200, training error: 0.000715, test error 0.003159\n",
      "itr:  300, training error: 0.000030, test error 0.003744\n",
      "itr:  400, training error: 0.000593, test error 0.003528\n",
      "itr:  500, training error: 0.004635, test error 0.003014\n",
      "11 optimization run\n",
      "itr:    0, training error: 0.004897, test error 0.003349\n",
      "itr:  100, training error: 0.003773, test error 0.002920\n",
      "itr:  200, training error: 0.003818, test error 0.002535\n",
      "itr:  300, training error: 0.000048, test error 0.002921\n",
      "itr:  400, training error: 0.000283, test error 0.002727\n",
      "itr:  500, training error: 0.015415, test error 0.002357\n",
      "12 optimization run\n",
      "itr:    0, training error: 0.000387, test error 0.002545\n",
      "itr:  100, training error: 0.004272, test error 0.002693\n",
      "itr:  200, training error: 0.000100, test error 0.003096\n",
      "itr:  300, training error: 0.000069, test error 0.002678\n",
      "itr:  400, training error: 0.000164, test error 0.002204\n",
      "itr:  500, training error: 0.015600, test error 0.002380\n",
      "13 optimization run\n",
      "itr:    0, training error: 0.000705, test error 0.002109\n",
      "itr:  100, training error: 0.003937, test error 0.001903\n",
      "itr:  200, training error: 0.004294, test error 0.002275\n",
      "itr:  300, training error: 0.000132, test error 0.001867\n",
      "itr:  400, training error: 0.000195, test error 0.002341\n",
      "itr:  500, training error: 0.013281, test error 0.001570\n",
      "14 optimization run\n",
      "itr:    0, training error: 0.002278, test error 0.002357\n",
      "itr:  100, training error: 0.002420, test error 0.002071\n",
      "itr:  200, training error: 0.000136, test error 0.001481\n",
      "itr:  300, training error: 0.000199, test error 0.001279\n",
      "itr:  400, training error: 0.000323, test error 0.001437\n",
      "itr:  500, training error: 0.005713, test error 0.002479\n",
      "15 optimization run\n",
      "itr:    0, training error: 0.000074, test error 0.002236\n",
      "itr:  100, training error: 0.001513, test error 0.002696\n",
      "itr:  200, training error: 0.002780, test error 0.002283\n",
      "itr:  300, training error: 0.007096, test error 0.001504\n",
      "itr:  400, training error: 0.000082, test error 0.002212\n",
      "itr:  500, training error: 0.005907, test error 0.001178\n",
      "16 optimization run\n",
      "itr:    0, training error: 0.000188, test error 0.001524\n",
      "itr:  100, training error: 0.001526, test error 0.001501\n",
      "itr:  200, training error: 0.003402, test error 0.001192\n",
      "itr:  300, training error: 0.003887, test error 0.001328\n",
      "itr:  400, training error: 0.000052, test error 0.000968\n",
      "itr:  500, training error: 0.007707, test error 0.000975\n",
      "17 optimization run\n",
      "itr:    0, training error: 0.000956, test error 0.001356\n",
      "itr:  100, training error: 0.001599, test error 0.001120\n",
      "itr:  200, training error: 0.002415, test error 0.001333\n",
      "itr:  300, training error: 0.000169, test error 0.002016\n",
      "itr:  400, training error: 0.000110, test error 0.000878\n",
      "itr:  500, training error: 0.008819, test error 0.001136\n",
      "18 optimization run\n",
      "itr:    0, training error: 0.001408, test error 0.001021\n",
      "itr:  100, training error: 0.001509, test error 0.000992\n",
      "itr:  200, training error: 0.001665, test error 0.000819\n",
      "itr:  300, training error: 0.000122, test error 0.000992\n",
      "itr:  400, training error: 0.001038, test error 0.001383\n",
      "itr:  500, training error: 0.006352, test error 0.001261\n",
      "19 optimization run\n",
      "itr:    0, training error: 0.000233, test error 0.001155\n",
      "itr:  100, training error: 0.000126, test error 0.001813\n",
      "itr:  200, training error: 0.000153, test error 0.000788\n",
      "itr:  300, training error: 0.000622, test error 0.000620\n",
      "itr:  400, training error: 0.000747, test error 0.001472\n",
      "itr:  500, training error: 0.001192, test error 0.000643\n",
      "20 optimization run\n",
      "itr:    0, training error: 0.000110, test error 0.000877\n",
      "itr:  100, training error: 0.000209, test error 0.000942\n",
      "itr:  200, training error: 0.000228, test error 0.001231\n",
      "itr:  300, training error: 0.000138, test error 0.000756\n",
      "itr:  400, training error: 0.000275, test error 0.001014\n",
      "itr:  500, training error: 0.001203, test error 0.000776\n",
      "21 optimization run\n",
      "itr:    0, training error: 0.000321, test error 0.001105\n",
      "itr:  100, training error: 0.000141, test error 0.000875\n",
      "itr:  200, training error: 0.000645, test error 0.001035\n",
      "itr:  300, training error: 0.003970, test error 0.000784\n",
      "itr:  400, training error: 0.000215, test error 0.001133\n",
      "itr:  500, training error: 0.019894, test error 0.000755\n",
      "22 optimization run\n",
      "itr:    0, training error: 0.000161, test error 0.000701\n",
      "itr:  100, training error: 0.000320, test error 0.001015\n",
      "itr:  200, training error: 0.002171, test error 0.000470\n",
      "itr:  300, training error: 0.000129, test error 0.000505\n",
      "itr:  400, training error: 0.000197, test error 0.000443\n",
      "itr:  500, training error: 0.017436, test error 0.001140\n",
      "23 optimization run\n",
      "itr:    0, training error: 0.000486, test error 0.000594\n",
      "itr:  100, training error: 0.000172, test error 0.000893\n",
      "itr:  200, training error: 0.000875, test error 0.000679\n",
      "itr:  300, training error: 0.000981, test error 0.000528\n"
     ]
    },
    {
     "name": "stdout",
     "output_type": "stream",
     "text": [
      "itr:  400, training error: 0.000296, test error 0.000631\n",
      "itr:  500, training error: 0.001812, test error 0.000730\n",
      "24 optimization run\n",
      "itr:    0, training error: 0.000166, test error 0.001043\n",
      "itr:  100, training error: 0.000498, test error 0.000655\n",
      "itr:  200, training error: 0.002149, test error 0.000722\n",
      "itr:  300, training error: 0.000894, test error 0.000507\n",
      "itr:  400, training error: 0.000293, test error 0.000704\n",
      "itr:  500, training error: 0.003136, test error 0.000601\n",
      "25 optimization run\n",
      "itr:    0, training error: 0.000155, test error 0.000557\n",
      "itr:  100, training error: 0.000133, test error 0.000572\n",
      "itr:  200, training error: 0.000495, test error 0.000445\n",
      "itr:  300, training error: 0.000665, test error 0.000472\n",
      "itr:  400, training error: 0.000231, test error 0.000456\n",
      "itr:  500, training error: 0.001802, test error 0.000375\n",
      "26 optimization run\n",
      "itr:    0, training error: 0.000475, test error 0.000481\n",
      "itr:  100, training error: 0.000163, test error 0.000895\n",
      "itr:  200, training error: 0.000180, test error 0.000488\n",
      "itr:  300, training error: 0.000596, test error 0.000535\n",
      "itr:  400, training error: 0.000324, test error 0.000555\n",
      "itr:  500, training error: 0.000941, test error 0.000429\n",
      "27 optimization run\n",
      "itr:    0, training error: 0.000244, test error 0.000421\n",
      "itr:  100, training error: 0.000148, test error 0.000308\n",
      "itr:  200, training error: 0.000919, test error 0.000385\n",
      "itr:  300, training error: 0.000364, test error 0.000338\n",
      "itr:  400, training error: 0.000098, test error 0.000278\n",
      "itr:  500, training error: 0.001983, test error 0.000296\n",
      "28 optimization run\n",
      "itr:    0, training error: 0.000209, test error 0.000291\n",
      "itr:  100, training error: 0.000094, test error 0.000323\n",
      "itr:  200, training error: 0.000292, test error 0.000341\n",
      "itr:  300, training error: 0.000281, test error 0.000408\n",
      "itr:  400, training error: 0.000063, test error 0.000357\n",
      "itr:  500, training error: 0.000523, test error 0.000416\n",
      "29 optimization run\n",
      "itr:    0, training error: 0.000417, test error 0.000306\n",
      "itr:  100, training error: 0.000054, test error 0.000382\n",
      "itr:  200, training error: 0.000287, test error 0.000347\n",
      "itr:  300, training error: 0.000827, test error 0.000295\n",
      "itr:  400, training error: 0.000173, test error 0.000768\n",
      "itr:  500, training error: 0.000686, test error 0.001722\n",
      "30 optimization run\n",
      "itr:    0, training error: 0.000103, test error 0.000345\n",
      "itr:  100, training error: 0.000052, test error 0.000261\n",
      "itr:  200, training error: 0.000228, test error 0.000205\n",
      "itr:  300, training error: 0.000443, test error 0.000388\n",
      "itr:  400, training error: 0.000170, test error 0.000459\n",
      "itr:  500, training error: 0.000271, test error 0.000251\n",
      "31 optimization run\n",
      "itr:    0, training error: 0.000145, test error 0.000214\n",
      "itr:  100, training error: 0.000038, test error 0.000306\n",
      "itr:  200, training error: 0.000248, test error 0.000251\n",
      "itr:  300, training error: 0.000164, test error 0.000269\n",
      "itr:  400, training error: 0.000088, test error 0.000352\n",
      "itr:  500, training error: 0.001966, test error 0.000212\n",
      "32 optimization run\n",
      "itr:    0, training error: 0.000117, test error 0.000165\n",
      "itr:  100, training error: 0.000034, test error 0.000171\n",
      "itr:  200, training error: 0.000165, test error 0.000253\n",
      "itr:  300, training error: 0.000147, test error 0.000178\n",
      "itr:  400, training error: 0.000075, test error 0.000179\n",
      "itr:  500, training error: 0.000106, test error 0.000250\n",
      "33 optimization run\n",
      "itr:    0, training error: 0.000100, test error 0.000158\n",
      "itr:  100, training error: 0.000003, test error 0.000189\n",
      "itr:  200, training error: 0.000211, test error 0.000171\n",
      "itr:  300, training error: 0.000410, test error 0.000143\n",
      "itr:  400, training error: 0.000107, test error 0.000148\n",
      "itr:  500, training error: 0.000637, test error 0.000165\n",
      "34 optimization run\n",
      "itr:    0, training error: 0.000067, test error 0.000212\n",
      "itr:  100, training error: 0.000076, test error 0.000170\n",
      "itr:  200, training error: 0.000189, test error 0.000153\n",
      "itr:  300, training error: 0.000149, test error 0.000151\n",
      "itr:  400, training error: 0.000097, test error 0.000131\n",
      "itr:  500, training error: 0.000392, test error 0.000130\n",
      "35 optimization run\n",
      "itr:    0, training error: 0.000058, test error 0.000162\n",
      "itr:  100, training error: 0.000016, test error 0.000154\n",
      "itr:  200, training error: 0.000103, test error 0.000119\n",
      "itr:  300, training error: 0.000134, test error 0.000109\n",
      "itr:  400, training error: 0.000037, test error 0.000103\n",
      "itr:  500, training error: 0.000201, test error 0.000149\n",
      "36 optimization run\n",
      "itr:    0, training error: 0.000025, test error 0.000155\n",
      "itr:  100, training error: 0.000112, test error 0.000103\n",
      "itr:  200, training error: 0.000101, test error 0.000097\n",
      "itr:  300, training error: 0.000112, test error 0.000095\n",
      "itr:  400, training error: 0.000028, test error 0.000081\n",
      "itr:  500, training error: 0.000729, test error 0.000079\n",
      "37 optimization run\n",
      "itr:    0, training error: 0.000060, test error 0.000084\n",
      "itr:  100, training error: 0.000026, test error 0.000083\n",
      "itr:  200, training error: 0.000071, test error 0.000100\n",
      "itr:  300, training error: 0.000078, test error 0.000083\n",
      "itr:  400, training error: 0.000054, test error 0.000089\n",
      "itr:  500, training error: 0.000151, test error 0.000066\n",
      "38 optimization run\n",
      "itr:    0, training error: 0.000032, test error 0.000070\n",
      "itr:  100, training error: 0.000020, test error 0.000080\n",
      "itr:  200, training error: 0.000078, test error 0.000070\n",
      "itr:  300, training error: 0.000068, test error 0.000071\n",
      "itr:  400, training error: 0.000023, test error 0.000066\n",
      "itr:  500, training error: 0.000085, test error 0.000072\n",
      "39 optimization run\n",
      "itr:    0, training error: 0.000044, test error 0.000077\n",
      "itr:  100, training error: 0.000013, test error 0.000058\n",
      "itr:  200, training error: 0.000046, test error 0.000057\n",
      "itr:  300, training error: 0.000073, test error 0.000059\n",
      "itr:  400, training error: 0.000044, test error 0.000076\n",
      "itr:  500, training error: 0.000040, test error 0.000058\n",
      "40 optimization run\n",
      "itr:    0, training error: 0.000045, test error 0.000056\n",
      "itr:  100, training error: 0.000015, test error 0.000053\n",
      "itr:  200, training error: 0.000026, test error 0.000212\n",
      "itr:  300, training error: 0.000018, test error 0.000123\n",
      "itr:  400, training error: 0.000026, test error 0.000106\n",
      "itr:  500, training error: 0.000221, test error 0.000092\n",
      "41 optimization run\n",
      "itr:    0, training error: 0.000026, test error 0.000087\n",
      "itr:  100, training error: 0.000028, test error 0.000081\n",
      "itr:  200, training error: 0.000027, test error 0.000077\n",
      "itr:  300, training error: 0.000031, test error 0.000069\n",
      "itr:  400, training error: 0.000036, test error 0.000066\n",
      "itr:  500, training error: 0.000049, test error 0.000058\n",
      "42 optimization run\n",
      "itr:    0, training error: 0.000020, test error 0.000075\n",
      "itr:  100, training error: 0.000014, test error 0.000059\n",
      "itr:  200, training error: 0.000017, test error 0.000050\n",
      "itr:  300, training error: 0.000049, test error 0.000049\n",
      "itr:  400, training error: 0.000030, test error 0.000050\n",
      "itr:  500, training error: 0.000079, test error 0.000050\n",
      "43 optimization run\n",
      "itr:    0, training error: 0.000023, test error 0.000050\n",
      "itr:  100, training error: 0.000011, test error 0.000053\n",
      "itr:  200, training error: 0.000042, test error 0.000052\n",
      "itr:  300, training error: 0.000040, test error 0.000043\n",
      "itr:  400, training error: 0.000015, test error 0.000043\n",
      "itr:  500, training error: 0.000014, test error 0.000042\n",
      "44 optimization run\n",
      "itr:    0, training error: 0.000027, test error 0.000040\n",
      "itr:  100, training error: 0.000009, test error 0.000101\n",
      "itr:  200, training error: 0.000028, test error 0.000039\n",
      "itr:  300, training error: 0.000038, test error 0.000043\n",
      "itr:  400, training error: 0.000017, test error 0.000053\n",
      "itr:  500, training error: 0.000055, test error 0.000052\n",
      "45 optimization run\n",
      "itr:    0, training error: 0.000031, test error 0.000044\n",
      "itr:  100, training error: 0.000013, test error 0.000039\n",
      "itr:  200, training error: 0.000027, test error 0.000038\n",
      "itr:  300, training error: 0.000034, test error 0.000037\n",
      "itr:  400, training error: 0.000023, test error 0.000033\n",
      "itr:  500, training error: 0.000011, test error 0.000034\n",
      "46 optimization run\n",
      "itr:    0, training error: 0.000020, test error 0.000044\n",
      "itr:  100, training error: 0.000008, test error 0.000034\n"
     ]
    },
    {
     "name": "stdout",
     "output_type": "stream",
     "text": [
      "itr:  200, training error: 0.000038, test error 0.000032\n",
      "itr:  300, training error: 0.000048, test error 0.000041\n",
      "itr:  400, training error: 0.000013, test error 0.000035\n",
      "itr:  500, training error: 0.000027, test error 0.000032\n",
      "47 optimization run\n",
      "itr:    0, training error: 0.000018, test error 0.000037\n",
      "itr:  100, training error: 0.000010, test error 0.000036\n",
      "itr:  200, training error: 0.000035, test error 0.000031\n",
      "itr:  300, training error: 0.000042, test error 0.000030\n",
      "itr:  400, training error: 0.000020, test error 0.000033\n",
      "itr:  500, training error: 0.000022, test error 0.000031\n",
      "48 optimization run\n",
      "itr:    0, training error: 0.000011, test error 0.000030\n",
      "itr:  100, training error: 0.000014, test error 0.000032\n",
      "itr:  200, training error: 0.000024, test error 0.000025\n",
      "itr:  300, training error: 0.000031, test error 0.000026\n",
      "itr:  400, training error: 0.000017, test error 0.000030\n",
      "itr:  500, training error: 0.000023, test error 0.000028\n",
      "49 optimization run\n",
      "itr:    0, training error: 0.000014, test error 0.000029\n",
      "itr:  100, training error: 0.000008, test error 0.000034\n",
      "itr:  200, training error: 0.000028, test error 0.000035\n",
      "itr:  300, training error: 0.000053, test error 0.000028\n",
      "itr:  400, training error: 0.000013, test error 0.000042\n",
      "itr:  500, training error: 0.000104, test error 0.000034\n",
      "50 optimization run\n",
      "itr:    0, training error: 0.000006, test error 0.000039\n",
      "itr:  100, training error: 0.000044, test error 0.000032\n",
      "itr:  200, training error: 0.000015, test error 0.000030\n",
      "itr:  300, training error: 0.000027, test error 0.000030\n",
      "itr:  400, training error: 0.000010, test error 0.000028\n",
      "itr:  500, training error: 0.000033, test error 0.000025\n",
      "51 optimization run\n",
      "itr:    0, training error: 0.000013, test error 0.000026\n",
      "itr:  100, training error: 0.000013, test error 0.000031\n",
      "itr:  200, training error: 0.000010, test error 0.000028\n",
      "itr:  300, training error: 0.000034, test error 0.000022\n",
      "itr:  400, training error: 0.000007, test error 0.000022\n",
      "itr:  500, training error: 0.000009, test error 0.000024\n",
      "52 optimization run\n",
      "itr:    0, training error: 0.000014, test error 0.000024\n",
      "itr:  100, training error: 0.000008, test error 0.000057\n",
      "itr:  200, training error: 0.000028, test error 0.000035\n",
      "itr:  300, training error: 0.000061, test error 0.000032\n",
      "itr:  400, training error: 0.000009, test error 0.000025\n",
      "itr:  500, training error: 0.000010, test error 0.000029\n",
      "53 optimization run\n",
      "itr:    0, training error: 0.000008, test error 0.000049\n",
      "itr:  100, training error: 0.000007, test error 0.000027\n",
      "itr:  200, training error: 0.000012, test error 0.000024\n",
      "itr:  300, training error: 0.000018, test error 0.000028\n",
      "itr:  400, training error: 0.000011, test error 0.000028\n",
      "itr:  500, training error: 0.000006, test error 0.000025\n",
      "54 optimization run\n",
      "itr:    0, training error: 0.000012, test error 0.000025\n",
      "itr:  100, training error: 0.000007, test error 0.000026\n",
      "itr:  200, training error: 0.000025, test error 0.000025\n",
      "itr:  300, training error: 0.000031, test error 0.000024\n",
      "itr:  400, training error: 0.000011, test error 0.000026\n",
      "itr:  500, training error: 0.000009, test error 0.000022\n",
      "55 optimization run\n",
      "itr:    0, training error: 0.000007, test error 0.000028\n",
      "itr:  100, training error: 0.000008, test error 0.000024\n",
      "itr:  200, training error: 0.000031, test error 0.000021\n",
      "itr:  300, training error: 0.000045, test error 0.000022\n",
      "itr:  400, training error: 0.000007, test error 0.000024\n",
      "itr:  500, training error: 0.000009, test error 0.000020\n",
      "56 optimization run\n",
      "itr:    0, training error: 0.000012, test error 0.000021\n",
      "itr:  100, training error: 0.000013, test error 0.000020\n",
      "itr:  200, training error: 0.000032, test error 0.000026\n",
      "itr:  300, training error: 0.000033, test error 0.000017\n",
      "itr:  400, training error: 0.000006, test error 0.000020\n",
      "itr:  500, training error: 0.000002, test error 0.000019\n",
      "57 optimization run\n",
      "itr:    0, training error: 0.000012, test error 0.000018\n",
      "itr:  100, training error: 0.000007, test error 0.000023\n",
      "itr:  200, training error: 0.000027, test error 0.000024\n",
      "itr:  300, training error: 0.000036, test error 0.000017\n",
      "itr:  400, training error: 0.000008, test error 0.000018\n",
      "itr:  500, training error: 0.000094, test error 0.000021\n",
      "58 optimization run\n",
      "itr:    0, training error: 0.000013, test error 0.000017\n",
      "itr:  100, training error: 0.000006, test error 0.000018\n",
      "itr:  200, training error: 0.000012, test error 0.000016\n",
      "itr:  300, training error: 0.000035, test error 0.000016\n",
      "itr:  400, training error: 0.000011, test error 0.000016\n",
      "itr:  500, training error: 0.000004, test error 0.000016\n",
      "59 optimization run\n",
      "itr:    0, training error: 0.000005, test error 0.000019\n",
      "itr:  100, training error: 0.000006, test error 0.000016\n",
      "itr:  200, training error: 0.000015, test error 0.000016\n",
      "itr:  300, training error: 0.000031, test error 0.000014\n",
      "itr:  400, training error: 0.000009, test error 0.000014\n",
      "itr:  500, training error: 0.000003, test error 0.000013\n",
      "60 optimization run\n",
      "itr:    0, training error: 0.000004, test error 0.000014\n",
      "itr:  100, training error: 0.000005, test error 0.000014\n",
      "itr:  200, training error: 0.000016, test error 0.000015\n",
      "itr:  300, training error: 0.000028, test error 0.000013\n",
      "itr:  400, training error: 0.000004, test error 0.000013\n",
      "itr:  500, training error: 0.000010, test error 0.000013\n",
      "61 optimization run\n",
      "itr:    0, training error: 0.000008, test error 0.000039\n",
      "itr:  100, training error: 0.000005, test error 0.000015\n",
      "itr:  200, training error: 0.000021, test error 0.000013\n",
      "itr:  300, training error: 0.000016, test error 0.000012\n",
      "itr:  400, training error: 0.000003, test error 0.000012\n",
      "itr:  500, training error: 0.000002, test error 0.000012\n",
      "62 optimization run\n",
      "itr:    0, training error: 0.000006, test error 0.000012\n",
      "itr:  100, training error: 0.000008, test error 0.000012\n",
      "itr:  200, training error: 0.000018, test error 0.000011\n",
      "itr:  300, training error: 0.000025, test error 0.000011\n",
      "itr:  400, training error: 0.000005, test error 0.000012\n",
      "itr:  500, training error: 0.000023, test error 0.000011\n",
      "63 optimization run\n",
      "itr:    0, training error: 0.000005, test error 0.000011\n",
      "itr:  100, training error: 0.000005, test error 0.000010\n",
      "itr:  200, training error: 0.000017, test error 0.000011\n",
      "itr:  300, training error: 0.000028, test error 0.000010\n",
      "itr:  400, training error: 0.000004, test error 0.000010\n",
      "itr:  500, training error: 0.000007, test error 0.000009\n",
      "Model saved in file: H2-ptest.ckpt\n"
     ]
    }
   ],
   "source": [
    "tf.reset_default_graph()\n",
    "\n",
    "def get_shape(tensor):\n",
    "    shape = list(tensor.shape)\n",
    "    #shape.insert(0, None)\n",
    "    return shape\n",
    "\n",
    "# input tensors\n",
    "I = tf.placeholder(tf.float32, shape=get_shape(I_test[0]), name='I')\n",
    "Er = tf.placeholder(tf.float32, shape=get_shape(Er_test[0]), name='Er')\n",
    "occ = tf.placeholder(tf.float32, shape=get_shape(occ_test[0]), name='occ')\n",
    "nn = tf.placeholder(tf.float32, name='nn')\n",
    "\n",
    "# training tensors\n",
    "C_ref = tf.placeholder(tf.float32, shape=get_shape(C_test[0]), name='C_ref')\n",
    "y = tf.placeholder(tf.float32, shape=get_shape(y_test[0]), name='y')\n",
    "\n",
    "# output tensor\n",
    "C_prd = hidden_layer(I)\n",
    "for _ in range(2):\n",
    "    C_prd = hidden_layer(I, C_prd)\n",
    "C_prd = tf.nn.dropout(C_prd, 0.8)\n",
    "for _ in range(2):\n",
    "    C_prd = hidden_layer(I, C_prd)\n",
    "#for _ in range(3):\n",
    "#C_prd = tf.nn.dropout(C_prd, 0.8)\n",
    "#C_prd = normailization_layer(I, C_prd)\n",
    "C_prd = normailization_layer(I, C_prd)\n",
    "C_prd = normailization_layer(I, C_prd)\n",
    "y_prd = output_layer(I, Er, occ, nn, C_prd)\n",
    "\n",
    "err = tf.pow(y - y_prd, 2)\n",
    "\n",
    "#optimizer = tf.train.GradientDescentOptimizer(learning_rate).minimize(err)\n",
    "optimizer = tf.train.AdamOptimizer(0.001).minimize(err) # default learning rate 0.001\n",
    "\n",
    "err_list = []\n",
    "err_list_test = []\n",
    "itr_list = []\n",
    "E_prd_list = []\n",
    "C_prd_list = []\n",
    "\n",
    "# add C_prd_iteration history for post processing on the learning of the following properties\n",
    "# 1. density difference\n",
    "# 2. force\n",
    "# 3. dipole moment\n",
    "# 4. HOMO-LUMO gap\n",
    "\n",
    "saver = tf.train.Saver()\n",
    "save_path = \"H2-ptest.ckpt\"\n",
    "\n",
    "#with tf.Session() as sess:\n",
    "sess = tf.Session()\n",
    "try:\n",
    "    err_list = []\n",
    "    err_list_valid = []\n",
    "    itr_list = []\n",
    "    E_prd_list = []\n",
    "    C_prd_list = []\n",
    "    C_hist = []\n",
    "    \n",
    "    try:\n",
    "        saver.restore(sess, save_path)\n",
    "        msg = 'model loaded, continue optimizing'\n",
    "        \n",
    "    except:\n",
    "        sess.run(tf.global_variables_initializer())\n",
    "        msg = 'no model found, start from scratch'\n",
    "\n",
    "        \n",
    "\n",
    "    print msg\n",
    "    test_err = 1\n",
    "    opt_itr = 0\n",
    "    while test_err > 0.00001:\n",
    "    #for opt_itr in range(200):\n",
    "        print \"%2d optimization run\" % (opt_itr+1)\n",
    "        itr = 0\n",
    "        #for I_np, Er_np, occ_np, nn_np, y_np in zip(I_train, Er_train, occ_train, nn_train, y_train):\n",
    "        for mol in inp_train:\n",
    "\n",
    "            I_np, Er_np, occ_np, nn_np = get_input_tensor(mol)\n",
    "            #Er_np = qtk.QMInp(mol.molecule, program='horton', basis_set=basis).er\n",
    "            C_np = mol.ht_exp_alpha.coeffs.__array__()\n",
    "            y_np = get_output(I_np, Er_np, occ_np, nn_np, C_np)\n",
    "\n",
    "            train_dict = {I:I_np, Er:Er_np, occ:occ_np, nn:nn_np, y:y_np}\n",
    "\n",
    "            # sometimes tf.self_adjoint_eig failed\n",
    "            # but skip it DOES NOT help. \n",
    "            # probably a issue related to large learning rate\n",
    "            sess.run(optimizer, feed_dict=train_dict)\n",
    "\n",
    "            train_err = sess.run(err, feed_dict=train_dict)\n",
    "\n",
    "            err_list.append(train_err)\n",
    "\n",
    "            if itr % 100 == 0:\n",
    "                test_errs = []\n",
    "                C_valid = []\n",
    "                C_hist.append(C_valid)\n",
    "                #for I_t, Er_t, occ_t, nn_t, y_t in zip(I_test, Er_test, occ_test, nn_test, y_test):\n",
    "                for mol_t in inp_test:\n",
    "                    I_t, Er_t, occ_t, nn_t = get_input_tensor(mol_t)\n",
    "                    #Er_t = qtk.QMInp(mol_t.molecule, program='horton', basis_set=basis).er\n",
    "                    C_t = mol_t.ht_exp_alpha.coeffs.__array__()\n",
    "                    C_valid.append(C_t)\n",
    "                    y_t = get_output(I_t, Er_t, occ_t, nn_t, C_t)\n",
    "                    test_dict = {I:I_t, Er:Er_t, occ:occ_t, nn:nn_t, y:y_t}\n",
    "                    test_errs.append(sess.run(err, feed_dict=test_dict))\n",
    "                test_err = np.array(test_errs).mean()\n",
    "                err_list_test.append(test_err)\n",
    "                itr_list.append(itr)\n",
    "                print \"itr: %4d, training error: %f, test error %f\" % (itr, train_err, test_err)\n",
    "            \n",
    "            itr += 1\n",
    "        opt_itr += 1\n",
    "    \n",
    "    for mol_t in inp_test:\n",
    "        I_t, Er_t, occ_t, nn_t = get_input_tensor(mol_t)\n",
    "        #Er_t = qtk.QMInp(mol_t.molecule, program='horton', basis_set=basis).er\n",
    "        C_t = mol_t.ht_exp_alpha.coeffs.__array__()\n",
    "        y_t = get_output(I_t, Er_t, occ_t, nn_t, C_t)\n",
    "\n",
    "        test_dict = {I:I_t, Er:Er_t, occ:occ_t, nn:nn_t, y:y_t}\n",
    "\n",
    "        E_prd_list.append(sess.run(y_prd, feed_dict=test_dict))\n",
    "        C_prd_list.append(sess.run(C_prd, feed_dict=test_dict))\n",
    "        \n",
    "    save_path_out = saver.save(sess, save_path)\n",
    "    print(\"Model saved in file: %s\" % save_path_out)\n",
    "    \n",
    "except KeyboardInterrupt:\n",
    "    print \"keyboard interrupt\"\n",
    "    save_path_out = saver.save(sess, save_path)\n",
    "    print(\"Model saved in file: %s\" % save_path_out)\n",
    "    sess.close()"
   ]
  },
  {
   "cell_type": "code",
   "execution_count": 12,
   "metadata": {},
   "outputs": [
    {
     "data": {
      "text/plain": [
       "<matplotlib.text.Text at 0x2b863a78e390>"
      ]
     },
     "execution_count": 12,
     "metadata": {},
     "output_type": "execute_result"
    },
    {
     "data": {
      "image/png": "[encoded data removed]",
      "text/plain": [
       "<matplotlib.figure.Figure at 0x2b8634f018d0>"
      ]
     },
     "metadata": {},
     "output_type": "display_data"
    }
   ],
   "source": [
    "fig, [ax1, ax2] = plt.subplots(1, 2, figsize=(12,6))\n",
    "\n",
    "#ax1.loglog(itr_list, err_list_test)\n",
    "ax1.loglog(err_list_test)\n",
    "ax1.set_title('Learning curve of H$_2$', fontsize=20)\n",
    "ax1.set_ylabel(r'$|E_{\\mathrm{pred}} - E_{\\mathrm{true}}|^2$ [Ha]', fontsize=15)\n",
    "ax1.set_xlabel('iteration steps', fontsize=15)\n",
    "\n",
    "ax2.plot(R, [inp.ht_ham.cache['energy']\n",
    "             for inp in inps], label='interpolation')\n",
    "ax2.plot(R_test, E_test, ls='', marker='o', label='test set')\n",
    "ax2.plot(R_test, E_prd_list, ls='', marker='x', label='prediction')\n",
    "#plt.plot(R_train, E_train, ls='', marker='x', label='training set')\n",
    "ax2.legend(loc=1)\n",
    "ax2.set_title(r'Binding curve of H$_2$', fontsize=20)\n",
    "ax2.set_ylabel(r'$E$ [Ha]', fontsize=15)\n",
    "ax2.set_xlabel(r'$R$ [$\\mathrm{\\AA}$]', fontsize=15)"
   ]
  },
  {
   "cell_type": "markdown",
   "metadata": {},
   "source": [
    "## Properties learning curves"
   ]
  },
  {
   "cell_type": "code",
   "execution_count": 29,
   "metadata": {
    "collapsed": true
   },
   "outputs": [],
   "source": [
    "qtk.save(C_hist_np, 'C_hist_H2.pkl')"
   ]
  },
  {
   "cell_type": "code",
   "execution_count": 18,
   "metadata": {
    "collapsed": true
   },
   "outputs": [],
   "source": [
    "C_hist_np = np.array(C_hist)"
   ]
  },
  {
   "cell_type": "code",
   "execution_count": 26,
   "metadata": {},
   "outputs": [
    {
     "data": {
      "text/plain": [
       "array([-0.81607189, -0.86326549, -1.11270765, -0.90926951, -0.99892184,\n",
       "       -0.84563111, -0.81854003, -0.80318418, -0.89710913, -0.81486018,\n",
       "       -1.02051319, -0.79675629, -1.12132574, -1.03766785, -1.11892355,\n",
       "       -0.79872866, -1.03558944, -0.86561318, -0.93234776, -0.98937092,\n",
       "       -1.07502832, -0.81248092, -0.81566634, -0.8046063 , -0.98373006,\n",
       "       -0.99031776, -1.11937642, -0.87471079, -1.11995018, -1.04573626,\n",
       "       -0.90346539, -0.80731321, -0.82149578, -0.92286618, -0.83706259,\n",
       "       -0.8128734 , -0.83853564, -0.83368944, -0.99699728, -1.12158633,\n",
       "       -0.98748292, -0.93074425, -1.07700483, -0.86739542, -0.80496565,\n",
       "       -0.85585842, -1.05996418, -0.91297142, -0.86384936, -1.07004688,\n",
       "       -0.87099091, -0.81445956, -0.82192481, -0.95145329, -0.88103852,\n",
       "       -0.893019  ])"
      ]
     },
     "execution_count": 26,
     "metadata": {},
     "output_type": "execute_result"
    }
   ],
   "source": [
    "def dE_mean(inp_test, C_hist):\n",
    "    E_tar = np.array([inp.Et for inp in inp_test])\n",
    "    \n",
    "    return E_tar\n",
    "\n",
    "dE_mean(inp_test, C_hist)"
   ]
  },
  {
   "cell_type": "code",
   "execution_count": 20,
   "metadata": {},
   "outputs": [
    {
     "data": {
      "text/plain": [
       "(228, 56, 4, 4)"
      ]
     },
     "execution_count": 20,
     "metadata": {},
     "output_type": "execute_result"
    }
   ],
   "source": [
    "C_hist_np.shape"
   ]
  },
  {
   "cell_type": "markdown",
   "metadata": {},
   "source": [
    "## Density analysis\n",
    "Visiualize predicted density"
   ]
  },
  {
   "cell_type": "code",
   "execution_count": null,
   "metadata": {
    "collapsed": true
   },
   "outputs": [],
   "source": [
    "q_tar_list = []\n",
    "q_prd_list = []\n",
    "#for i in range(len(inp_test)):\n",
    "for i in range(5):\n",
    "    inp = inp_test[i]\n",
    "    C_prd = C_prd_list[i]\n",
    "    dm_tar = inp.dm()\n",
    "    q_tar_list.append(inp.get_rho_cube())\n",
    "    dm_prd = inp.dm(C_prd)\n",
    "    q_prd_list.append(inp.get_rho_cube(dm=dm_prd))"
   ]
  },
  {
   "cell_type": "code",
   "execution_count": null,
   "metadata": {
    "collapsed": true
   },
   "outputs": [],
   "source": [
    "iq = 2\n",
    "q_tar = q_tar_list[iq]\n",
    "q_prd = q_prd_list[iq]\n",
    "q_tar.name = 'q_tar'\n",
    "q_prd.name = 'q_prd'"
   ]
  },
  {
   "cell_type": "code",
   "execution_count": null,
   "metadata": {
    "collapsed": true
   },
   "outputs": [],
   "source": [
    "q_tar.contour(axis=1)\n",
    "pass"
   ]
  },
  {
   "cell_type": "code",
   "execution_count": null,
   "metadata": {
    "collapsed": true
   },
   "outputs": [],
   "source": [
    "q_prd.contour(axis=1)\n",
    "pass"
   ]
  }
 ],
 "metadata": {
  "kernelspec": {
   "display_name": "Python 2",
   "language": "python",
   "name": "python2"
  },
  "language_info": {
   "codemirror_mode": {
    "name": "ipython",
    "version": 2
   },
   "file_extension": ".py",
   "mimetype": "text/x-python",
   "name": "python",
   "nbconvert_exporter": "python",
   "pygments_lexer": "ipython2",
   "version": "2.7.14"
  }
 },
 "nbformat": 4,
 "nbformat_minor": 2
}
