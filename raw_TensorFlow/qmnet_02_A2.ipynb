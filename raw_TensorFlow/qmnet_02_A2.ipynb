{
 "cells": [
  {
   "cell_type": "code",
   "execution_count": null,
   "metadata": {
    "collapsed": true
   },
   "outputs": [],
   "source": [
    "import qctoolkit as qtk\n",
    "import numpy as np\n",
    "from matplotlib import pyplot as plt\n",
    "from IPython.display import clear_output\n",
    "\n",
    "\n",
    "%matplotlib inline\n",
    "\n",
    "clear_output()"
   ]
  },
  {
   "cell_type": "markdown",
   "metadata": {},
   "source": [
    "## Load and process data"
   ]
  },
  {
   "cell_type": "code",
   "execution_count": null,
   "metadata": {
    "collapsed": true
   },
   "outputs": [],
   "source": [
    "inp_grp = qtk.load('A2_6003.pkl')"
   ]
  },
  {
   "cell_type": "code",
   "execution_count": null,
   "metadata": {
    "collapsed": true
   },
   "outputs": [],
   "source": [
    "print [len(inps) for inps in inp_grp]\n",
    "print len(inp_grp)"
   ]
  },
  {
   "cell_type": "code",
   "execution_count": null,
   "metadata": {
    "collapsed": true
   },
   "outputs": [],
   "source": [
    "length = np.array([len(inps) for inps in inp_grp])\n",
    "good_list = length > 200\n",
    "inp_good = []\n",
    "for i in np.arange(len(good_list))[good_list]:\n",
    "    inps = inp_grp[i]\n",
    "    E = np.array([o.Et for o in inps])\n",
    "    if max(np.diff(E)) < 0.1:\n",
    "        inp_good.append(inps)\n",
    "        E = E - E[-1]\n",
    "        R = [o.molecule.R[1,0] for o in inps]\n",
    "        #plt.plot(np.diff(E))\n",
    "        plt.plot(R,E)\n",
    "print [inps[0].molecule.name for inps in inp_good]"
   ]
  },
  {
   "cell_type": "code",
   "execution_count": null,
   "metadata": {
    "collapsed": true,
    "scrolled": false
   },
   "outputs": [],
   "source": [
    "# for i in range(len(inp_grp)):\n",
    "#     inps = inp_grp[i]\n",
    "#     if len(inps) > 0:\n",
    "#         E = np.array([o.Et for o in inps])\n",
    "#         R = [o.molecule.R[1,0] for o in inps]\n",
    "#         plt.figure()\n",
    "#         plt.plot(R, E)\n",
    "#         plt.title(inps[0].molecule.name + ' ind: %d' % i)"
   ]
  },
  {
   "cell_type": "code",
   "execution_count": null,
   "metadata": {
    "collapsed": true
   },
   "outputs": [],
   "source": [
    "def train_test_split(test='C1F1', validation='Li1O1'):\n",
    "    good_test_list = {\n",
    "        'H2': [0],\n",
    "        'H1Li1': [1],\n",
    "        'H1F1': [4],\n",
    "        'Li1N1': [7],\n",
    "        'Li1F1': [8],\n",
    "        'N1F1': [13],\n",
    "        'F2': [14],\n",
    "        'Be1O1': [17],\n",
    "        'H1Be1': [21], # cation\n",
    "        'H1O1': [26], # anion\n",
    "        'Li1C1': [30], # anion\n",
    "        'Li1O1': [31, 32], # cat/anion\n",
    "        'N1O1': [44], # anion\n",
    "        'Be1F1': [45], # cation\n",
    "        'C1F1': [47, 48], # cat/anion\n",
    "        'O1F1': [49, 50], # cat/anion\n",
    "    }\n",
    "    \n",
    "    test_inds = good_test_list[test]\n",
    "    valid_inds = good_test_list[validation]\n",
    "    train_inds = [i for i in range(len(inp_grp)) if i not in test_inds and i not in valid_inds]\n",
    "    \n",
    "    np.random.seed(42)\n",
    "    \n",
    "    inp_train = list(qtk.flatten([inp_grp[i] for i in train_inds]))\n",
    "    inp_test = list(qtk.flatten([inp_grp[i] for i in test_inds]))\n",
    "    inp_valid = list(qtk.flatten([inp_grp[i] for i in valid_inds]))\n",
    "    \n",
    "    for inp in [inp_train, inp_test, inp_valid]:\n",
    "        np.random.shuffle(inp_train)\n",
    "    \n",
    "    return inp_train, inp_test, inp_valid\n",
    "    \n",
    "inp_train, inp_test, inp_valid = train_test_split()"
   ]
  },
  {
   "cell_type": "markdown",
   "metadata": {},
   "source": [
    "## Tensorflow model"
   ]
  },
  {
   "cell_type": "code",
   "execution_count": null,
   "metadata": {
    "collapsed": true
   },
   "outputs": [],
   "source": [
    "import tensorflow as tf"
   ]
  },
  {
   "cell_type": "code",
   "execution_count": null,
   "metadata": {
    "collapsed": true
   },
   "outputs": [],
   "source": [
    "def get_output(I, Er, occ, nn, C):\n",
    "    \"\"\"take input tensor and approximated MO coefficients, C, to compute total energy\"\"\"\n",
    "    K = I[1]\n",
    "    Na = I[2]\n",
    "    dm = (C * occ).dot(C.T)\n",
    "    \n",
    "    Ek = np.trace(dm.dot(K)) * 2\n",
    "    Ev = np.trace(dm.dot(Na)) * 2\n",
    "    Ej = np.trace(dm.dot(np.tensordot(dm, Er, axes=([0,1], [0,2])))) * 2\n",
    "    Ex = -np.trace(dm.dot(np.tensordot(dm, Er, axes=([0,1], [0,1]))))\n",
    "    E_tot = np.sum([Ek, Ev, Ej, Ex, nn])\n",
    "    return E_tot\n",
    "\n",
    "def hidden_layer(I, C_prd = None):\n",
    "    \n",
    "    if C_prd is None:\n",
    "        C_prd = I[-2]\n",
    "        \n",
    "    S, K, V = I[0], I[1], I[2]\n",
    "    \n",
    "    Wc = tf.Variable(tf.truncated_normal(C_prd.shape), name='weights_C')\n",
    "    Bc = tf.Variable(tf.zeros(C_prd.shape), name='biases_C')\n",
    "    Ws = tf.Variable(tf.truncated_normal(C_prd.shape), name='weights_S')\n",
    "    Bs = tf.Variable(tf.zeros(C_prd.shape), name='biases_S')\n",
    "    Wk = tf.Variable(tf.truncated_normal(C_prd.shape), name='weights_K')\n",
    "    Bk = tf.Variable(tf.zeros(C_prd.shape), name='biases_K')\n",
    "    Wv = tf.Variable(tf.truncated_normal(C_prd.shape), name='weights_V')\n",
    "    Bv = tf.Variable(tf.zeros(C_prd.shape), name='biases_V')\n",
    "    \n",
    "    C_new = tf.add(tf.matmul(C_prd, Wc), Bc)\n",
    "    S_new = tf.add(tf.matmul(S, Ws), Bs)\n",
    "    K_new = tf.add(tf.matmul(K, Wk), Bk)\n",
    "    V_new = tf.add(tf.matmul(V, Wv), Bv)\n",
    "    \n",
    "    new_matrix = tf.add(tf.add(tf.add(C_new, S_new), K_new), V_new)\n",
    "    \n",
    "    return tf.nn.relu(new_matrix)\n",
    "\n",
    "def normailization_layer(I, C_prd=None):\n",
    "    \n",
    "    if C_prd is None:\n",
    "        C_prd = I[-2]\n",
    "        \n",
    "    W = tf.Variable(tf.truncated_normal(C_prd.shape), name='weights')\n",
    "    B = tf.Variable(tf.zeros(C_prd.shape), name='biases')\n",
    "    C_new = tf.add(tf.matmul(C_prd, W), B)\n",
    "    \n",
    "    C_sym = tf.matmul(tf.transpose(C_new), C_new)\n",
    "    _, C_diag = tf.self_adjoint_eig(C_sym)\n",
    "    \n",
    "    return tf.matmul(I[-1], C_diag)\n",
    "\n",
    "def output_layer(I, Er, occ, nn, C_prd):\n",
    "    K, Na = I[1], I[2]\n",
    "    \n",
    "    C_occ = tf.multiply(occ, C_prd)\n",
    "    #C_occ = tf.matmul(tf.expand_dims(0, occ), C)\n",
    "    dm = tf.matmul(C_occ, tf.transpose(C_prd))\n",
    "    \n",
    "    J_kernel = tf.tensordot(dm, Er, axes=([0,1], [0,2]))\n",
    "    X_kernel = tf.tensordot(dm, Er, axes=([0,1], [0,1]))\n",
    "    \n",
    "    Ek = tf.trace(tf.matmul(dm, K)) * 2\n",
    "    Ev = tf.trace(tf.matmul(dm, Na)) * 2\n",
    "    Ej = tf.trace(tf.matmul(dm, J_kernel)) * 2\n",
    "    Ex = -tf.trace(tf.matmul(dm, X_kernel))\n",
    "    \n",
    "    E_total = tf.add(Ek, Ev)\n",
    "    E_total = tf.add(E_total, Ej)\n",
    "    E_total = tf.add(E_total, Ex)\n",
    "    E_total = tf.add(E_total, nn)\n",
    "    \n",
    "    return E_total\n",
    "\n",
    "def tf_horton_interface(mol):\n",
    "    new_mol = qtk.QMInp(mol.molecule, program='horton', basis_set=basis)\n",
    "    dm, C0_np, S_np, K_np, Na_np, Er_np = new_mol.matrices()\n",
    "    occ_np = new_mol.occ\n",
    "    D, U = np.linalg.eig(new_mol.olp)\n",
    "    X_np = U / np.sqrt(D)\n",
    "    I_np = np.stack([S_np.real, K_np.real, Na_np.real, C0_np.real, X_np.real])\n",
    "    nn_np = new_mol.ht_external['nn']\n",
    "\n",
    "    C_np = mol.mov\n",
    "    y_np = get_output(I_np, Er_np, occ_np, nn_np, C_np)\n",
    "    \n",
    "    #train_dict = {I:I_np, Er:Er_np, occ:occ_np, nn:nn_np, y:y_np}\n",
    "    \n",
    "    #return train_dict, C_np\n",
    "    return I_np, Er_np, occ_np, nn_np, C_np, y_np"
   ]
  },
  {
   "cell_type": "markdown",
   "metadata": {},
   "source": [
    "## Check results"
   ]
  },
  {
   "cell_type": "code",
   "execution_count": null,
   "metadata": {
    "collapsed": true
   },
   "outputs": [],
   "source": [
    "import horton as ht\n",
    "basis = ht.GOBasisFamily('basis', filename='basis/sto2g/H_Ne_uncontracted.nwchem')"
   ]
  },
  {
   "cell_type": "code",
   "execution_count": null,
   "metadata": {
    "collapsed": true
   },
   "outputs": [],
   "source": [
    "with tf.Session() as sess:\n",
    "\n",
    "    def check_E_tf(mol):\n",
    "        I, Er, occ, nn, C, y = tf_horton_interface(mol)\n",
    "    \n",
    "        E_tf = sess.run(output_layer(I, Er, occ, nn, C))\n",
    "        return E_tf - mol.Et\n",
    "\n",
    "    err_E = [check_E_tf(inp) for inp in inp_test]\n",
    "    print err_E\n",
    "    print np.max(np.abs(err_E))"
   ]
  },
  {
   "cell_type": "code",
   "execution_count": null,
   "metadata": {
    "collapsed": true
   },
   "outputs": [],
   "source": [
    "def check_E(mol):\n",
    "    I, Er, occ, nn, C, y = tf_horton_interface(mol)\n",
    "    S, K, V, C0, X = I\n",
    "    Et = mol.Et\n",
    "    \n",
    "    dm = mol.dm(C)\n",
    "    \n",
    "    J_kernel = np.tensordot(dm, Er, axes=([0,1], [0,2]))\n",
    "    X_kernel = np.tensordot(dm, Er, axes=([0,1], [0,1]))\n",
    "    \n",
    "    Ek = np.trace(dm.dot(K)) * 2\n",
    "    Ev = np.trace(dm.dot(V)) * 2\n",
    "    Ej = np.trace(dm.dot(J_kernel)) * 2\n",
    "    Ex = -np.trace(dm.dot(X_kernel))\n",
    "    \n",
    "    E = Ek + Ev + Ej + Ex + nn\n",
    "    \n",
    "    return Et - E\n",
    "\n",
    "print check_E(inp_test[0])\n",
    "\n",
    "for inp in inp_test:\n",
    "    print inp.molecule.name, \n",
    "    print check_E(inp)\n",
    "#print [check_E_tf(inp) for inp in inp_test]"
   ]
  },
  {
   "cell_type": "markdown",
   "metadata": {},
   "source": [
    "## Build and train tensorflow model"
   ]
  },
  {
   "cell_type": "code",
   "execution_count": null,
   "metadata": {
    "collapsed": true
   },
   "outputs": [],
   "source": [
    "tf.reset_default_graph()\n",
    "log = open('A2_run.log', 'w')\n",
    "\n",
    "def get_shape(tensor):\n",
    "    shape = list(tensor.shape)\n",
    "    #shape.insert(0, None)\n",
    "    return shape\n",
    "\n",
    "mol = inp_train[0]\n",
    "new_mol = qtk.QMInp(mol.molecule, program='horton', basis_set=basis)\n",
    "dm, C0_np, S_np, K_np, Na_np, Er_test = new_mol.matrices()\n",
    "occ_test = new_mol.occ\n",
    "D, U = np.linalg.eig(new_mol.olp)\n",
    "X_np = U / np.sqrt(D)\n",
    "I_test = np.stack([S_np, K_np, Na_np, C0_np, X_np])\n",
    "nn_test = new_mol.ht_external['nn']\n",
    "\n",
    "\n",
    "# input tensors\n",
    "I = tf.placeholder(tf.float32, shape=get_shape(I_test), name='I')\n",
    "Er = tf.placeholder(tf.float32, shape=get_shape(Er_test), name='Er')\n",
    "occ = tf.placeholder(tf.float32, shape=get_shape(occ_test), name='occ')\n",
    "nn = tf.placeholder(tf.float32, shape=get_shape(nn_test), name='nn')\n",
    "\n",
    "# training tensors\n",
    "C_ref = tf.placeholder(tf.float32, shape=get_shape(C0_np), name='C_ref')\n",
    "y = tf.placeholder(tf.float32, name='y')\n",
    "\n",
    "# output tensor\n",
    "C_prd = hidden_layer(I)\n",
    "for _ in range(2):\n",
    "    C_prd = hidden_layer(I, C_prd)\n",
    "C_prd = tf.nn.dropout(C_prd, 0.8)\n",
    "for _ in range(2):\n",
    "    C_prd = hidden_layer(I, C_prd)\n",
    "#for _ in range(3):\n",
    "#C_prd = tf.nn.dropout(C_prd, 0.8)\n",
    "C_prd = normailization_layer(I, C_prd)\n",
    "C_prd = normailization_layer(I, C_prd)\n",
    "y_prd = output_layer(I, Er, occ, nn, C_prd)\n",
    "\n",
    "err = tf.pow(y - y_prd, 2)\n",
    "\n",
    "optimizer = tf.train.GradientDescentOptimizer(0.02).minimize(err)\n",
    "#optimizer = tf.train.AdamOptimizer(0.01).minimize(err) # default learning rate 0.001\n",
    "\n",
    "err_list = []\n",
    "err_list_valid = []\n",
    "itr_list = []\n",
    "E_prd_list = []\n",
    "C_prd_list = []\n",
    "\n",
    "\n",
    "save_path = \"A2-6000_E-5.ckpt\"\n",
    "saver = tf.train.Saver()\n",
    "\n",
    "sess = tf.Session()\n",
    "#with tf.Session() as sess:\n",
    "    \n",
    "try:\n",
    "    try:\n",
    "        saver.restore(sess, save_path)\n",
    "        msg = 'model loaded, continue optimizing'\n",
    "    except:\n",
    "        sess.run(tf.global_variables_initializer())\n",
    "        msg = 'no model found, start from scratch'\n",
    "    print msg\n",
    "    log.write(msg)\n",
    "    log.write(\"\\n\")\n",
    "    log.flush()\n",
    "    #saver.restore(sess, \"/path/to/foo.ckpt\")\n",
    "\n",
    "    valid_err = 1\n",
    "    opt_itr = 0\n",
    "    #while valid_err > 0.00001:\n",
    "    for _ in range(20):\n",
    "        msg = \"%2d optimization run\" % (opt_itr+1) \n",
    "        print msg\n",
    "        log.write(msg)\n",
    "        log.write(\"\\n\")\n",
    "        log.flush()\n",
    "        itr = 0\n",
    "        for mol in inp_train:\n",
    "            \n",
    "            I_train, Er_train, occ_train, nn_train, C_train, y_train = tf_horton_interface(mol)\n",
    "            train_dict = {I:I_train, Er:Er_train, occ:occ_train, nn:nn_train, y:y_train}\n",
    "\n",
    "            sess.run(optimizer, feed_dict=train_dict)\n",
    "\n",
    "            train_err = sess.run(err, feed_dict=train_dict)\n",
    "\n",
    "            err_list.append(train_err)\n",
    "\n",
    "            if itr % 5 == 0:\n",
    "                valid_errs = []\n",
    "                for mol_v in inp_valid:\n",
    "                    I_v, Er_v, occ_v, nn_v, C_v, y_v = tf_horton_interface(mol_v)\n",
    "                    valid_dict = {I:I_v, Er:Er_v, occ:occ_v, nn:nn_v, y:y_v}\n",
    "                    valid_errs.append(sess.run(err, feed_dict=valid_dict))\n",
    "                valid_err = np.array(valid_errs).mean()\n",
    "                err_list_valid.append(valid_err)\n",
    "                itr_list.append(itr)\n",
    "                msg = \"itr: %4d, training error: %f, test error %f\" % (itr, train_err, valid_err)\n",
    "                print msg\n",
    "                log.write(msg)\n",
    "                log.write(\"\\n\")\n",
    "                log.flush()\n",
    "            itr += 1\n",
    "        opt_itr += 1\n",
    "    \n",
    "    for mol_t in inp_test:\n",
    "        \n",
    "        I_t, Er_t, occ_t, nn_t, C_t, y_t = tf_horton_interface(mol_t)\n",
    "        test_dict = {I:I_t, Er:Er_t, occ:occ_t, nn:nn_t, y:y_t}\n",
    "\n",
    "        E_prd_list.append(sess.run(y_prd, feed_dict=test_dict))\n",
    "        C_prd_list.append(sess.run(C_prd, feed_dict=test_dict))\n",
    "        \n",
    "    save_path_out = saver.save(sess, save_path)\n",
    "    print(\"Model saved in file: %s\" % save_path_out)\n",
    "    \n",
    "    log.close()\n",
    "    \n",
    "except KeyboardInterrupt:\n",
    "    print \"keyboard interrupt\"\n",
    "    save_path_out = saver.save(sess, save_path)\n",
    "    print(\"Model saved in file: %s\" % save_path_out)\n",
    "    session.close()\n",
    "    log.close"
   ]
  },
  {
   "cell_type": "code",
   "execution_count": null,
   "metadata": {
    "collapsed": true
   },
   "outputs": [],
   "source": []
  }
 ],
 "metadata": {
  "kernelspec": {
   "display_name": "Python 2",
   "language": "python",
   "name": "python2"
  },
  "language_info": {
   "codemirror_mode": {
    "name": "ipython",
    "version": 2
   },
   "file_extension": ".py",
   "mimetype": "text/x-python",
   "name": "python",
   "nbconvert_exporter": "python",
   "pygments_lexer": "ipython2",
   "version": "2.7.14"
  }
 },
 "nbformat": 4,
 "nbformat_minor": 2
}
