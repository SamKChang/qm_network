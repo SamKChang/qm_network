{
 "cells": [
  {
   "cell_type": "code",
   "execution_count": 1,
   "metadata": {
    "collapsed": true
   },
   "outputs": [],
   "source": [
    "import qctoolkit as qtk\n",
    "import numpy as np\n",
    "from matplotlib import pyplot as plt\n",
    "from IPython.display import clear_output\n",
    "import re\n",
    "from datetime import datetime\n",
    "import qmnet_model as qnm\n",
    "import qmnet_tools as qnt\n",
    "import qmnet_train as qntrain\n",
    "import qmnet_layer as qnl\n",
    "import tensorflow as tf\n",
    "\n",
    "%matplotlib inline\n",
    "\n",
    "clear_output()"
   ]
  },
  {
   "cell_type": "code",
   "execution_count": 2,
   "metadata": {
    "collapsed": true
   },
   "outputs": [],
   "source": [
    "from horton import GOBasisFamily\n",
    "#basis = GOBasisFamily('basis', filename='basis/sto2g/H_Ne_uncontracted.nwchem')\n",
    "#basis = '3-21g'\n",
    "#basis = 'sto-3g'\n",
    "#basis = GOBasisFamily('H_He_basis', filename='basis/sto6g/H_Ne.nwchem')\n",
    "basis = GOBasisFamily('H_He_basis', filename='basis/sto6g/H_Be-s.nwchem')\n",
    "\n",
    "resolution = 0.005\n",
    "batch_size = 30000"
   ]
  },
  {
   "cell_type": "code",
   "execution_count": 3,
   "metadata": {
    "collapsed": true
   },
   "outputs": [],
   "source": [
    "molstr_list = [\n",
    "    'HH',\n",
    "]"
   ]
  },
  {
   "cell_type": "code",
   "execution_count": 4,
   "metadata": {
    "collapsed": false
   },
   "outputs": [
    {
     "name": "stdout",
     "output_type": "stream",
     "text": [
      "H2_4.0 finished\n",
      "[741]\n"
     ]
    }
   ],
   "source": [
    "inp_grp = []\n",
    "#inp_dump = []\n",
    "for molstr in molstr_list:\n",
    "    if '+' in molstr:\n",
    "        charge = 1\n",
    "    elif '-' in molstr:\n",
    "        charge = -1\n",
    "    else:\n",
    "        charge = 0\n",
    "    alist = re.findall('[A-Z][a-z]*', molstr)\n",
    "    Zs = [qtk.n2Z(a) for a in alist]\n",
    "    inp_list = []\n",
    "    inp_grp.append(inp_list)\n",
    "    #inp_dump.append(inp_list)\n",
    "    res = resolution\n",
    "    for R in np.arange(0.3, 4.0 + res, res):\n",
    "        mol = qtk.Molecule()\n",
    "        ZR = [[Zs[0], 0,0,0], [Zs[1], R, 0, 0]]\n",
    "        mol.build(ZR)\n",
    "        mol.charge = charge\n",
    "        mol.name = mol.name + '_%s' % str(R)\n",
    "        inp = qtk.QMInp(mol, program='horton', basis_set=basis, scf_step=30)\n",
    "        try:\n",
    "            inp.run()\n",
    "            D, U = np.linalg.eigh(inp.olp)\n",
    "            inp.X = U / np.sqrt(D)\n",
    "            \n",
    "            # to save inps into pickle file\n",
    "            #inp.delete_ht_types()\n",
    "            #inp.delete_matrices()\n",
    "            \n",
    "            inp_list.append(inp)\n",
    "        except:\n",
    "            pass\n",
    "    print \"%s finished\" % mol.name\n",
    "print [len(inp) for inp in inp_grp]"
   ]
  },
  {
   "cell_type": "code",
   "execution_count": 13,
   "metadata": {
    "collapsed": false
   },
   "outputs": [],
   "source": [
    "reload(qnt)\n",
    "reload(qnm)\n",
    "reload(qnl)\n",
    "#qm_model0 = qnm.Fock_test\n",
    "inp_train, inp_test, inp_valid = qnt.train_test_valid(inp_grp, 0, [0])\n",
    "I_train, Er_train, occ_train, nn_train, C_train, y_train = qnt.tfIO_batch(inp_train, batch_size)"
   ]
  },
  {
   "cell_type": "code",
   "execution_count": 153,
   "metadata": {
    "collapsed": false
   },
   "outputs": [
    {
     "name": "stdout",
     "output_type": "stream",
     "text": [
      "0.00205396439425\n"
     ]
    }
   ],
   "source": [
    "reload(qnl)\n",
    "tf.reset_default_graph()\n",
    "g = tf.Graph()\n",
    "with g.as_default():\n",
    "\n",
    "    # setup model variables\n",
    "    y = tf.placeholder(tf.float64, name='y')\n",
    "#     with tf.variable_scope(\"m1\"):\n",
    "#         Fock, C_prd, param = qnm.Fock_test(g, inp_valid[0].olp.shape[0])\n",
    "    #with tf.variable_scope(\"m2\"):\n",
    "    test, C_prd, param = qnm.Fock_error_test(g, inp_valid[0].olp.shape[0])\n",
    "    I, Er, occ, nn, keep_prob = param\n",
    "    \n",
    "    ind = 2\n",
    "    with tf.Session() as sess:\n",
    "        sess.run(tf.global_variables_initializer())\n",
    "        train_dict = {I:I_train[0][:ind], Er:Er_train[0][:ind], occ:occ_train[0][:ind], nn:nn_train[0][:ind], y:y_train[0][:ind]}\n",
    "        #Focks, C_prds = sess.run([Fock, C_prd], feed_dict=train_dict)\n",
    "        C_prds, tests = sess.run([C_prd, test], feed_dict=train_dict)\n",
    "        #Focks, C_prds = sess.run([Fock, C_prd], feed_dict=train_dict)\n",
    "print tests"
   ]
  },
  {
   "cell_type": "code",
   "execution_count": 157,
   "metadata": {
    "collapsed": false
   },
   "outputs": [
    {
     "data": {
      "text/plain": [
       "0.0020539643942457928"
      ]
     },
     "execution_count": 157,
     "metadata": {},
     "output_type": "execute_result"
    }
   ],
   "source": [
    "def err_i(i):\n",
    "    inp = inp_train[i]\n",
    "    C = C_prds[i]\n",
    "    C_occ = C * inp.occ\n",
    "    F = inp_train[i].Fock_matrix(C)\n",
    "    S = inp.olp\n",
    "    Fc_occ = F.dot(C_occ)\n",
    "    Sc_occ = S.dot(C_occ)\n",
    "    FS = np.diag(Fc_occ.T.dot(Sc_occ))\n",
    "    SS = np.diag(Sc_occ.T.dot(Sc_occ))\n",
    "    SS_copy = SS.copy()\n",
    "    SS_copy[SS == 0.] = 1.\n",
    "    e_list = FS/SS_copy\n",
    "    eSc = e_list * Sc_occ\n",
    "    res = Fc_occ - eSc\n",
    "    err = np.sum(res * res)\n",
    "    return err\n",
    "err_i(0) + err_i(1)\n",
    "#     print eSc\n",
    "#     print err\n",
    "#     print res"
   ]
  },
  {
   "cell_type": "code",
   "execution_count": 121,
   "metadata": {
    "collapsed": false
   },
   "outputs": [
    {
     "data": {
      "text/plain": [
       "0.00066989944271930496"
      ]
     },
     "execution_count": 121,
     "metadata": {},
     "output_type": "execute_result"
    }
   ],
   "source": [
    "Fc_occ = F.dot(C_occ)\n",
    "Sc_occ = S.dot(C_occ)\n",
    "FS = np.diag(Fc_occ.T.dot(Sc_occ))\n",
    "SS = np.diag(Sc_occ.T.dot(Sc_occ))\n",
    "SS_copy = SS.copy()\n",
    "SS_copy[SS == 0.] = 1.\n",
    "e_list = FS/SS_copy\n",
    "res = Fc_occ - e_list * Sc_occ\n",
    "np.sum(res * res)"
   ]
  },
  {
   "cell_type": "code",
   "execution_count": 122,
   "metadata": {
    "collapsed": false
   },
   "outputs": [
    {
     "data": {
      "text/plain": [
       "array([[[ 0.19348906],\n",
       "        [ 0.20006051],\n",
       "        [ 0.18652208],\n",
       "        [ 0.18720848]],\n",
       "\n",
       "       [[ 0.08207683],\n",
       "        [ 0.05757425],\n",
       "        [-0.0116225 ],\n",
       "        [-0.11809828]]])"
      ]
     },
     "execution_count": 122,
     "metadata": {},
     "output_type": "execute_result"
    }
   ],
   "source": [
    "tests[:,:, :1]"
   ]
  },
  {
   "cell_type": "code",
   "execution_count": null,
   "metadata": {
    "collapsed": true
   },
   "outputs": [],
   "source": []
  }
 ],
 "metadata": {
  "kernelspec": {
   "display_name": "Python 2",
   "language": "python",
   "name": "python2"
  },
  "language_info": {
   "codemirror_mode": {
    "name": "ipython",
    "version": 2
   },
   "file_extension": ".py",
   "mimetype": "text/x-python",
   "name": "python",
   "nbconvert_exporter": "python",
   "pygments_lexer": "ipython2",
   "version": "2.7.13"
  }
 },
 "nbformat": 4,
 "nbformat_minor": 2
}
